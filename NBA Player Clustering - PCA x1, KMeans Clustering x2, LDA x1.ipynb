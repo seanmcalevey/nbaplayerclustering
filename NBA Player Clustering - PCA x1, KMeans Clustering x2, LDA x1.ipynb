{
 "cells": [
  {
   "cell_type": "markdown",
   "metadata": {},
   "source": [
    "### 1.0 Import Libraries"
   ]
  },
  {
   "cell_type": "code",
   "execution_count": 487,
   "metadata": {},
   "outputs": [],
   "source": [
    "import numpy as np\n",
    "from urllib.request import urlopen\n",
    "from bs4 import BeautifulSoup\n",
    "import pandas as pd\n",
    "import matplotlib.pyplot as plt"
   ]
  },
  {
   "cell_type": "markdown",
   "metadata": {},
   "source": [
    "### 2.0 Use BeautifulSoup and Urlopen to Retrieve Data"
   ]
  },
  {
   "cell_type": "code",
   "execution_count": 488,
   "metadata": {},
   "outputs": [],
   "source": [
    "url = 'https://www.basketball-reference.com/leagues/NBA_2019_advanced.html'\n",
    "\n",
    "html = urlopen(url)\n",
    "\n",
    "soup = BeautifulSoup(html)"
   ]
  },
  {
   "cell_type": "markdown",
   "metadata": {},
   "source": [
    "### 2.1 Get Headers from DataFrame"
   ]
  },
  {
   "cell_type": "code",
   "execution_count": 489,
   "metadata": {},
   "outputs": [],
   "source": [
    "# soup.findAll('tr', limit=2) is finding all 'tr' tags, limit=2 ..... And .getText() is pulling the text of 'th'\n",
    "headers = [th.getText() for th in soup.findAll('tr')[0].findAll('th')]\n",
    "\n",
    "headers = headers[1:]"
   ]
  },
  {
   "cell_type": "markdown",
   "metadata": {},
   "source": [
    "### 2.2 Get Data from Rows"
   ]
  },
  {
   "cell_type": "code",
   "execution_count": 490,
   "metadata": {},
   "outputs": [],
   "source": [
    "rows = soup.findAll('tr')\n",
    "\n",
    "player_stats_1 = [[td.getText() for td in rows[i].findAll('td')] for i in range(len(rows))]"
   ]
  },
  {
   "cell_type": "markdown",
   "metadata": {},
   "source": [
    "### 3.0 Create DataFrame"
   ]
  },
  {
   "cell_type": "code",
   "execution_count": 491,
   "metadata": {},
   "outputs": [],
   "source": [
    "og_df = pd.DataFrame(data=player_stats_1[1:], columns=headers)"
   ]
  },
  {
   "cell_type": "code",
   "execution_count": 492,
   "metadata": {},
   "outputs": [
    {
     "data": {
      "text/html": [
       "<div>\n",
       "<style scoped>\n",
       "    .dataframe tbody tr th:only-of-type {\n",
       "        vertical-align: middle;\n",
       "    }\n",
       "\n",
       "    .dataframe tbody tr th {\n",
       "        vertical-align: top;\n",
       "    }\n",
       "\n",
       "    .dataframe thead th {\n",
       "        text-align: right;\n",
       "    }\n",
       "</style>\n",
       "<table border=\"1\" class=\"dataframe\">\n",
       "  <thead>\n",
       "    <tr style=\"text-align: right;\">\n",
       "      <th></th>\n",
       "      <th>Player</th>\n",
       "      <th>Pos</th>\n",
       "      <th>Age</th>\n",
       "      <th>Tm</th>\n",
       "      <th>G</th>\n",
       "      <th>MP</th>\n",
       "      <th>PER</th>\n",
       "      <th>TS%</th>\n",
       "      <th>3PAr</th>\n",
       "      <th>FTr</th>\n",
       "      <th>...</th>\n",
       "      <th></th>\n",
       "      <th>OWS</th>\n",
       "      <th>DWS</th>\n",
       "      <th>WS</th>\n",
       "      <th>WS/48</th>\n",
       "      <th></th>\n",
       "      <th>OBPM</th>\n",
       "      <th>DBPM</th>\n",
       "      <th>BPM</th>\n",
       "      <th>VORP</th>\n",
       "    </tr>\n",
       "  </thead>\n",
       "  <tbody>\n",
       "    <tr>\n",
       "      <th>0</th>\n",
       "      <td>Álex Abrines</td>\n",
       "      <td>SG</td>\n",
       "      <td>25</td>\n",
       "      <td>OKC</td>\n",
       "      <td>31</td>\n",
       "      <td>588</td>\n",
       "      <td>6.3</td>\n",
       "      <td>.507</td>\n",
       "      <td>.809</td>\n",
       "      <td>.083</td>\n",
       "      <td>...</td>\n",
       "      <td></td>\n",
       "      <td>0.1</td>\n",
       "      <td>0.6</td>\n",
       "      <td>0.6</td>\n",
       "      <td>.053</td>\n",
       "      <td></td>\n",
       "      <td>-3.7</td>\n",
       "      <td>0.4</td>\n",
       "      <td>-3.3</td>\n",
       "      <td>-0.2</td>\n",
       "    </tr>\n",
       "    <tr>\n",
       "      <th>1</th>\n",
       "      <td>Quincy Acy</td>\n",
       "      <td>PF</td>\n",
       "      <td>28</td>\n",
       "      <td>PHO</td>\n",
       "      <td>10</td>\n",
       "      <td>123</td>\n",
       "      <td>2.9</td>\n",
       "      <td>.379</td>\n",
       "      <td>.833</td>\n",
       "      <td>.556</td>\n",
       "      <td>...</td>\n",
       "      <td></td>\n",
       "      <td>-0.1</td>\n",
       "      <td>0.0</td>\n",
       "      <td>-0.1</td>\n",
       "      <td>-0.022</td>\n",
       "      <td></td>\n",
       "      <td>-7.6</td>\n",
       "      <td>-0.5</td>\n",
       "      <td>-8.1</td>\n",
       "      <td>-0.2</td>\n",
       "    </tr>\n",
       "    <tr>\n",
       "      <th>2</th>\n",
       "      <td>Jaylen Adams</td>\n",
       "      <td>PG</td>\n",
       "      <td>22</td>\n",
       "      <td>ATL</td>\n",
       "      <td>34</td>\n",
       "      <td>428</td>\n",
       "      <td>7.6</td>\n",
       "      <td>.474</td>\n",
       "      <td>.673</td>\n",
       "      <td>.082</td>\n",
       "      <td>...</td>\n",
       "      <td></td>\n",
       "      <td>-0.1</td>\n",
       "      <td>0.2</td>\n",
       "      <td>0.1</td>\n",
       "      <td>.011</td>\n",
       "      <td></td>\n",
       "      <td>-3.8</td>\n",
       "      <td>-0.5</td>\n",
       "      <td>-4.3</td>\n",
       "      <td>-0.2</td>\n",
       "    </tr>\n",
       "    <tr>\n",
       "      <th>3</th>\n",
       "      <td>Steven Adams</td>\n",
       "      <td>C</td>\n",
       "      <td>25</td>\n",
       "      <td>OKC</td>\n",
       "      <td>80</td>\n",
       "      <td>2669</td>\n",
       "      <td>18.5</td>\n",
       "      <td>.591</td>\n",
       "      <td>.002</td>\n",
       "      <td>.361</td>\n",
       "      <td>...</td>\n",
       "      <td></td>\n",
       "      <td>5.1</td>\n",
       "      <td>4.0</td>\n",
       "      <td>9.1</td>\n",
       "      <td>.163</td>\n",
       "      <td></td>\n",
       "      <td>0.7</td>\n",
       "      <td>0.4</td>\n",
       "      <td>1.1</td>\n",
       "      <td>2.1</td>\n",
       "    </tr>\n",
       "    <tr>\n",
       "      <th>4</th>\n",
       "      <td>Bam Adebayo</td>\n",
       "      <td>C</td>\n",
       "      <td>21</td>\n",
       "      <td>MIA</td>\n",
       "      <td>82</td>\n",
       "      <td>1913</td>\n",
       "      <td>17.9</td>\n",
       "      <td>.623</td>\n",
       "      <td>.031</td>\n",
       "      <td>.465</td>\n",
       "      <td>...</td>\n",
       "      <td></td>\n",
       "      <td>3.4</td>\n",
       "      <td>3.4</td>\n",
       "      <td>6.8</td>\n",
       "      <td>.171</td>\n",
       "      <td></td>\n",
       "      <td>-0.4</td>\n",
       "      <td>2.2</td>\n",
       "      <td>1.8</td>\n",
       "      <td>1.8</td>\n",
       "    </tr>\n",
       "  </tbody>\n",
       "</table>\n",
       "<p>5 rows × 28 columns</p>\n",
       "</div>"
      ],
      "text/plain": [
       "         Player Pos Age   Tm   G    MP   PER   TS%  3PAr   FTr  ...     OWS  \\\n",
       "0  Álex Abrines  SG  25  OKC  31   588   6.3  .507  .809  .083  ...     0.1   \n",
       "1    Quincy Acy  PF  28  PHO  10   123   2.9  .379  .833  .556  ...    -0.1   \n",
       "2  Jaylen Adams  PG  22  ATL  34   428   7.6  .474  .673  .082  ...    -0.1   \n",
       "3  Steven Adams   C  25  OKC  80  2669  18.5  .591  .002  .361  ...     5.1   \n",
       "4   Bam Adebayo   C  21  MIA  82  1913  17.9  .623  .031  .465  ...     3.4   \n",
       "\n",
       "   DWS    WS   WS/48    OBPM  DBPM   BPM  VORP  \n",
       "0  0.6   0.6    .053    -3.7   0.4  -3.3  -0.2  \n",
       "1  0.0  -0.1  -0.022    -7.6  -0.5  -8.1  -0.2  \n",
       "2  0.2   0.1    .011    -3.8  -0.5  -4.3  -0.2  \n",
       "3  4.0   9.1    .163     0.7   0.4   1.1   2.1  \n",
       "4  3.4   6.8    .171    -0.4   2.2   1.8   1.8  \n",
       "\n",
       "[5 rows x 28 columns]"
      ]
     },
     "execution_count": 492,
     "metadata": {},
     "output_type": "execute_result"
    }
   ],
   "source": [
    "og_df.head()"
   ]
  },
  {
   "cell_type": "code",
   "execution_count": 493,
   "metadata": {},
   "outputs": [],
   "source": [
    "og_df['MP'] = og_df['MP'].apply(pd.to_numeric, errors='coerce')"
   ]
  },
  {
   "cell_type": "markdown",
   "metadata": {},
   "source": [
    "### 3.1 Control Size of Player Sample by Minimum Minutes Played"
   ]
  },
  {
   "cell_type": "code",
   "execution_count": 494,
   "metadata": {},
   "outputs": [],
   "source": [
    "min_mins_played = 1000\n",
    "\n",
    "og_df = og_df[og_df['MP'] > min_mins_played]\n",
    "\n",
    "og_df = og_df.reset_index()\n",
    "\n",
    "og_df = og_df.drop('index',axis=1)"
   ]
  },
  {
   "cell_type": "code",
   "execution_count": 495,
   "metadata": {},
   "outputs": [],
   "source": [
    "df = og_df.copy()"
   ]
  },
  {
   "cell_type": "markdown",
   "metadata": {},
   "source": [
    "### 4.0 Convert to Numbers and Drop Unnecessary Columns"
   ]
  },
  {
   "cell_type": "code",
   "execution_count": 496,
   "metadata": {},
   "outputs": [],
   "source": [
    "# Convert everything but player names and positions to numbers and coerce non-numbers into NaNs\n",
    "df = df.iloc[:,2:].apply(pd.to_numeric, errors='coerce')"
   ]
  },
  {
   "cell_type": "code",
   "execution_count": 497,
   "metadata": {},
   "outputs": [],
   "source": [
    "# Save list of player names and positions for later\n",
    "df['Player'] = og_df['Player']\n",
    "df['Pos'] = og_df['Pos']"
   ]
  },
  {
   "cell_type": "code",
   "execution_count": 498,
   "metadata": {},
   "outputs": [],
   "source": [
    "# Keep specific columns\n",
    "columns_to_keep = ['Player', 'Pos', 'Age', 'TS%', '3PAr', 'FTr', 'ORB%', \n",
    "                   'AST%', 'TOV%', 'USG%', 'STL%', 'BLK%', 'DBPM', 'WS']\n",
    "\n",
    "df = pd.DataFrame(df[columns_to_keep], columns=columns_to_keep)"
   ]
  },
  {
   "cell_type": "code",
   "execution_count": 499,
   "metadata": {},
   "outputs": [],
   "source": [
    "# Converts ordinal variable (Pos) into numeric\n",
    "df['Pos'] = df['Pos'].map({'PG': 1, 'SG': 2, 'SF': 3, 'PF': 4, 'C': 5})"
   ]
  },
  {
   "cell_type": "code",
   "execution_count": 500,
   "metadata": {},
   "outputs": [],
   "source": [
    "df = df.dropna()"
   ]
  },
  {
   "cell_type": "code",
   "execution_count": 501,
   "metadata": {
    "scrolled": true
   },
   "outputs": [
    {
     "data": {
      "text/html": [
       "<div>\n",
       "<style scoped>\n",
       "    .dataframe tbody tr th:only-of-type {\n",
       "        vertical-align: middle;\n",
       "    }\n",
       "\n",
       "    .dataframe tbody tr th {\n",
       "        vertical-align: top;\n",
       "    }\n",
       "\n",
       "    .dataframe thead th {\n",
       "        text-align: right;\n",
       "    }\n",
       "</style>\n",
       "<table border=\"1\" class=\"dataframe\">\n",
       "  <thead>\n",
       "    <tr style=\"text-align: right;\">\n",
       "      <th></th>\n",
       "      <th>Player</th>\n",
       "      <th>Pos</th>\n",
       "      <th>Age</th>\n",
       "      <th>TS%</th>\n",
       "      <th>3PAr</th>\n",
       "      <th>FTr</th>\n",
       "      <th>ORB%</th>\n",
       "      <th>AST%</th>\n",
       "      <th>TOV%</th>\n",
       "      <th>USG%</th>\n",
       "      <th>STL%</th>\n",
       "      <th>BLK%</th>\n",
       "      <th>DBPM</th>\n",
       "      <th>WS</th>\n",
       "    </tr>\n",
       "  </thead>\n",
       "  <tbody>\n",
       "    <tr>\n",
       "      <th>0</th>\n",
       "      <td>Steven Adams</td>\n",
       "      <td>5.0</td>\n",
       "      <td>25</td>\n",
       "      <td>0.591</td>\n",
       "      <td>0.002</td>\n",
       "      <td>0.361</td>\n",
       "      <td>14.7</td>\n",
       "      <td>6.6</td>\n",
       "      <td>12.6</td>\n",
       "      <td>16.4</td>\n",
       "      <td>2.0</td>\n",
       "      <td>2.4</td>\n",
       "      <td>0.4</td>\n",
       "      <td>9.1</td>\n",
       "    </tr>\n",
       "    <tr>\n",
       "      <th>1</th>\n",
       "      <td>Bam Adebayo</td>\n",
       "      <td>5.0</td>\n",
       "      <td>21</td>\n",
       "      <td>0.623</td>\n",
       "      <td>0.031</td>\n",
       "      <td>0.465</td>\n",
       "      <td>9.2</td>\n",
       "      <td>14.2</td>\n",
       "      <td>17.1</td>\n",
       "      <td>15.8</td>\n",
       "      <td>1.8</td>\n",
       "      <td>3.0</td>\n",
       "      <td>2.2</td>\n",
       "      <td>6.8</td>\n",
       "    </tr>\n",
       "    <tr>\n",
       "      <th>2</th>\n",
       "      <td>LaMarcus Aldridge</td>\n",
       "      <td>5.0</td>\n",
       "      <td>33</td>\n",
       "      <td>0.576</td>\n",
       "      <td>0.032</td>\n",
       "      <td>0.312</td>\n",
       "      <td>10.3</td>\n",
       "      <td>11.6</td>\n",
       "      <td>8.8</td>\n",
       "      <td>26.9</td>\n",
       "      <td>0.8</td>\n",
       "      <td>3.4</td>\n",
       "      <td>-0.6</td>\n",
       "      <td>9.3</td>\n",
       "    </tr>\n",
       "    <tr>\n",
       "      <th>3</th>\n",
       "      <td>Jarrett Allen</td>\n",
       "      <td>5.0</td>\n",
       "      <td>20</td>\n",
       "      <td>0.632</td>\n",
       "      <td>0.079</td>\n",
       "      <td>0.489</td>\n",
       "      <td>9.6</td>\n",
       "      <td>7.9</td>\n",
       "      <td>13.0</td>\n",
       "      <td>15.9</td>\n",
       "      <td>1.0</td>\n",
       "      <td>4.5</td>\n",
       "      <td>1.4</td>\n",
       "      <td>7.6</td>\n",
       "    </tr>\n",
       "    <tr>\n",
       "      <th>4</th>\n",
       "      <td>Al-Farouq Aminu</td>\n",
       "      <td>4.0</td>\n",
       "      <td>28</td>\n",
       "      <td>0.568</td>\n",
       "      <td>0.472</td>\n",
       "      <td>0.292</td>\n",
       "      <td>5.3</td>\n",
       "      <td>6.0</td>\n",
       "      <td>9.7</td>\n",
       "      <td>13.7</td>\n",
       "      <td>1.4</td>\n",
       "      <td>1.2</td>\n",
       "      <td>0.6</td>\n",
       "      <td>5.8</td>\n",
       "    </tr>\n",
       "  </tbody>\n",
       "</table>\n",
       "</div>"
      ],
      "text/plain": [
       "              Player  Pos  Age    TS%   3PAr    FTr  ORB%  AST%  TOV%  USG%  \\\n",
       "0       Steven Adams  5.0   25  0.591  0.002  0.361  14.7   6.6  12.6  16.4   \n",
       "1        Bam Adebayo  5.0   21  0.623  0.031  0.465   9.2  14.2  17.1  15.8   \n",
       "2  LaMarcus Aldridge  5.0   33  0.576  0.032  0.312  10.3  11.6   8.8  26.9   \n",
       "3      Jarrett Allen  5.0   20  0.632  0.079  0.489   9.6   7.9  13.0  15.9   \n",
       "4    Al-Farouq Aminu  4.0   28  0.568  0.472  0.292   5.3   6.0   9.7  13.7   \n",
       "\n",
       "   STL%  BLK%  DBPM   WS  \n",
       "0   2.0   2.4   0.4  9.1  \n",
       "1   1.8   3.0   2.2  6.8  \n",
       "2   0.8   3.4  -0.6  9.3  \n",
       "3   1.0   4.5   1.4  7.6  \n",
       "4   1.4   1.2   0.6  5.8  "
      ]
     },
     "execution_count": 501,
     "metadata": {},
     "output_type": "execute_result"
    }
   ],
   "source": [
    "df.head()"
   ]
  },
  {
   "cell_type": "markdown",
   "metadata": {},
   "source": [
    "### 4.1 Import 'DRAYMOND' data from FiveThirtyEight"
   ]
  },
  {
   "cell_type": "code",
   "execution_count": 502,
   "metadata": {},
   "outputs": [],
   "source": [
    "import sys\n",
    "\n",
    "sys.path.append('/Users/seanmcalevey/')"
   ]
  },
  {
   "cell_type": "code",
   "execution_count": 503,
   "metadata": {},
   "outputs": [],
   "source": [
    "df1 = pd.read_csv('/Users/seanmcalevey/draymond.csv', sep=',')"
   ]
  },
  {
   "cell_type": "code",
   "execution_count": 504,
   "metadata": {},
   "outputs": [],
   "source": [
    "df1 = df1[df1['season'] == 2019]"
   ]
  },
  {
   "cell_type": "code",
   "execution_count": 505,
   "metadata": {},
   "outputs": [],
   "source": [
    "total_df = pd.merge(df, df1, left_on='Player', right_on='player')"
   ]
  },
  {
   "cell_type": "code",
   "execution_count": 506,
   "metadata": {},
   "outputs": [],
   "source": [
    "total_df = total_df.drop(['player', 'season', 'possessions'], axis=1)"
   ]
  },
  {
   "cell_type": "code",
   "execution_count": 507,
   "metadata": {},
   "outputs": [
    {
     "data": {
      "text/html": [
       "<div>\n",
       "<style scoped>\n",
       "    .dataframe tbody tr th:only-of-type {\n",
       "        vertical-align: middle;\n",
       "    }\n",
       "\n",
       "    .dataframe tbody tr th {\n",
       "        vertical-align: top;\n",
       "    }\n",
       "\n",
       "    .dataframe thead th {\n",
       "        text-align: right;\n",
       "    }\n",
       "</style>\n",
       "<table border=\"1\" class=\"dataframe\">\n",
       "  <thead>\n",
       "    <tr style=\"text-align: right;\">\n",
       "      <th></th>\n",
       "      <th>Player</th>\n",
       "      <th>Pos</th>\n",
       "      <th>Age</th>\n",
       "      <th>TS%</th>\n",
       "      <th>3PAr</th>\n",
       "      <th>FTr</th>\n",
       "      <th>ORB%</th>\n",
       "      <th>AST%</th>\n",
       "      <th>TOV%</th>\n",
       "      <th>USG%</th>\n",
       "      <th>STL%</th>\n",
       "      <th>BLK%</th>\n",
       "      <th>DBPM</th>\n",
       "      <th>DRAYMOND</th>\n",
       "      <th>WS</th>\n",
       "    </tr>\n",
       "  </thead>\n",
       "  <tbody>\n",
       "    <tr>\n",
       "      <th>0</th>\n",
       "      <td>Steven Adams</td>\n",
       "      <td>5.0</td>\n",
       "      <td>25</td>\n",
       "      <td>0.591</td>\n",
       "      <td>0.002</td>\n",
       "      <td>0.361</td>\n",
       "      <td>14.7</td>\n",
       "      <td>6.6</td>\n",
       "      <td>12.6</td>\n",
       "      <td>16.4</td>\n",
       "      <td>2.0</td>\n",
       "      <td>2.4</td>\n",
       "      <td>0.4</td>\n",
       "      <td>0.776581</td>\n",
       "      <td>9.1</td>\n",
       "    </tr>\n",
       "    <tr>\n",
       "      <th>1</th>\n",
       "      <td>Bam Adebayo</td>\n",
       "      <td>5.0</td>\n",
       "      <td>21</td>\n",
       "      <td>0.623</td>\n",
       "      <td>0.031</td>\n",
       "      <td>0.465</td>\n",
       "      <td>9.2</td>\n",
       "      <td>14.2</td>\n",
       "      <td>17.1</td>\n",
       "      <td>15.8</td>\n",
       "      <td>1.8</td>\n",
       "      <td>3.0</td>\n",
       "      <td>2.2</td>\n",
       "      <td>0.734847</td>\n",
       "      <td>6.8</td>\n",
       "    </tr>\n",
       "    <tr>\n",
       "      <th>2</th>\n",
       "      <td>LaMarcus Aldridge</td>\n",
       "      <td>5.0</td>\n",
       "      <td>33</td>\n",
       "      <td>0.576</td>\n",
       "      <td>0.032</td>\n",
       "      <td>0.312</td>\n",
       "      <td>10.3</td>\n",
       "      <td>11.6</td>\n",
       "      <td>8.8</td>\n",
       "      <td>26.9</td>\n",
       "      <td>0.8</td>\n",
       "      <td>3.4</td>\n",
       "      <td>-0.6</td>\n",
       "      <td>1.818261</td>\n",
       "      <td>9.3</td>\n",
       "    </tr>\n",
       "    <tr>\n",
       "      <th>3</th>\n",
       "      <td>Jarrett Allen</td>\n",
       "      <td>5.0</td>\n",
       "      <td>20</td>\n",
       "      <td>0.632</td>\n",
       "      <td>0.079</td>\n",
       "      <td>0.489</td>\n",
       "      <td>9.6</td>\n",
       "      <td>7.9</td>\n",
       "      <td>13.0</td>\n",
       "      <td>15.9</td>\n",
       "      <td>1.0</td>\n",
       "      <td>4.5</td>\n",
       "      <td>1.4</td>\n",
       "      <td>0.870878</td>\n",
       "      <td>7.6</td>\n",
       "    </tr>\n",
       "    <tr>\n",
       "      <th>4</th>\n",
       "      <td>Al-Farouq Aminu</td>\n",
       "      <td>4.0</td>\n",
       "      <td>28</td>\n",
       "      <td>0.568</td>\n",
       "      <td>0.472</td>\n",
       "      <td>0.292</td>\n",
       "      <td>5.3</td>\n",
       "      <td>6.0</td>\n",
       "      <td>9.7</td>\n",
       "      <td>13.7</td>\n",
       "      <td>1.4</td>\n",
       "      <td>1.2</td>\n",
       "      <td>0.6</td>\n",
       "      <td>-0.922840</td>\n",
       "      <td>5.8</td>\n",
       "    </tr>\n",
       "  </tbody>\n",
       "</table>\n",
       "</div>"
      ],
      "text/plain": [
       "              Player  Pos  Age    TS%   3PAr    FTr  ORB%  AST%  TOV%  USG%  \\\n",
       "0       Steven Adams  5.0   25  0.591  0.002  0.361  14.7   6.6  12.6  16.4   \n",
       "1        Bam Adebayo  5.0   21  0.623  0.031  0.465   9.2  14.2  17.1  15.8   \n",
       "2  LaMarcus Aldridge  5.0   33  0.576  0.032  0.312  10.3  11.6   8.8  26.9   \n",
       "3      Jarrett Allen  5.0   20  0.632  0.079  0.489   9.6   7.9  13.0  15.9   \n",
       "4    Al-Farouq Aminu  4.0   28  0.568  0.472  0.292   5.3   6.0   9.7  13.7   \n",
       "\n",
       "   STL%  BLK%  DBPM  DRAYMOND   WS  \n",
       "0   2.0   2.4   0.4  0.776581  9.1  \n",
       "1   1.8   3.0   2.2  0.734847  6.8  \n",
       "2   0.8   3.4  -0.6  1.818261  9.3  \n",
       "3   1.0   4.5   1.4  0.870878  7.6  \n",
       "4   1.4   1.2   0.6 -0.922840  5.8  "
      ]
     },
     "execution_count": 507,
     "metadata": {},
     "output_type": "execute_result"
    }
   ],
   "source": [
    "total_df = total_df[['Player', 'Pos', 'Age', 'TS%', '3PAr', 'FTr', 'ORB%', 'AST%', 'TOV%',\n",
    "       'USG%', 'STL%', 'BLK%', 'DBPM', 'DRAYMOND', 'WS']]\n",
    "\n",
    "total_df.head()"
   ]
  },
  {
   "cell_type": "code",
   "execution_count": 508,
   "metadata": {},
   "outputs": [
    {
     "name": "stdout",
     "output_type": "stream",
     "text": [
      "There are 254 unique players who qualify for this clustering.\n",
      "There are 276 total player names in this dataframe.\n"
     ]
    }
   ],
   "source": [
    "print('There are ' + str(len(total_df['Player'].unique())) + ' unique players who qualify for this clustering.')\n",
    "\n",
    "print('There are ' + str(len(total_df)) + ' total player names in this dataframe.')"
   ]
  },
  {
   "cell_type": "markdown",
   "metadata": {},
   "source": [
    "### 4.2 Convert Pandas DataFrame into Matrix for Processing"
   ]
  },
  {
   "cell_type": "code",
   "execution_count": 509,
   "metadata": {},
   "outputs": [],
   "source": [
    "df_as_matrix = total_df.values"
   ]
  },
  {
   "cell_type": "markdown",
   "metadata": {},
   "source": [
    "### 5.0 Import and Scale Vectors"
   ]
  },
  {
   "cell_type": "code",
   "execution_count": 510,
   "metadata": {},
   "outputs": [],
   "source": [
    "from sklearn.preprocessing import StandardScaler"
   ]
  },
  {
   "cell_type": "code",
   "execution_count": 511,
   "metadata": {},
   "outputs": [],
   "source": [
    "standard_scaler = StandardScaler()\n",
    "\n",
    "scaled_vectors = standard_scaler.fit_transform(df_as_matrix[:,1:-1])"
   ]
  },
  {
   "cell_type": "markdown",
   "metadata": {},
   "source": [
    "### 5.01 Control Center"
   ]
  },
  {
   "cell_type": "code",
   "execution_count": 512,
   "metadata": {},
   "outputs": [],
   "source": [
    "# PCA Control: \n",
    "\n",
    "n_components = 5\n",
    "\n",
    "# First cluster:\n",
    "\n",
    "num_clusters = 5 # for the five starting positions plus two other alternative/mix positions\n",
    "\n",
    "# First LDA:\n",
    "\n",
    "number_of_components = 2 # To reduce to 2 dimensions for visualization"
   ]
  },
  {
   "cell_type": "markdown",
   "metadata": {},
   "source": [
    "### 5.1 Import PCA and Reduce Dimensionality"
   ]
  },
  {
   "cell_type": "code",
   "execution_count": 513,
   "metadata": {},
   "outputs": [],
   "source": [
    "from sklearn.decomposition import PCA"
   ]
  },
  {
   "cell_type": "code",
   "execution_count": 514,
   "metadata": {},
   "outputs": [],
   "source": [
    "def pca_reduce(n_components, scaled_vectors):\n",
    "    \n",
    "    pca = PCA(n_components)\n",
    "    \n",
    "    dim_reduction = pca.fit_transform(scaled_vectors)\n",
    "    \n",
    "    explained_variance_1 = round(100*sum(pca.explained_variance_ratio_), 3)\n",
    "\n",
    "    print('Retained info after PCA: ' + str(explained_variance_1) + '%')\n",
    "    \n",
    "    return dim_reduction, explained_variance_1, pca"
   ]
  },
  {
   "cell_type": "code",
   "execution_count": 515,
   "metadata": {},
   "outputs": [
    {
     "name": "stdout",
     "output_type": "stream",
     "text": [
      "Retained info after PCA: 78.774%\n"
     ]
    }
   ],
   "source": [
    "dim_reduction, explained_variance_1, pca = pca_reduce(n_components, scaled_vectors)"
   ]
  },
  {
   "cell_type": "code",
   "execution_count": 516,
   "metadata": {},
   "outputs": [],
   "source": [
    "reduced_df = total_df.copy()\n",
    "\n",
    "for i in range(n_components):\n",
    "\n",
    "    reduced_df[f'PCA{i+1}'] = [dim_reduction[x][i] for x in range(len(dim_reduction))]"
   ]
  },
  {
   "cell_type": "markdown",
   "metadata": {},
   "source": [
    "### 5.2 Cluster with KMeans"
   ]
  },
  {
   "cell_type": "code",
   "execution_count": 517,
   "metadata": {},
   "outputs": [],
   "source": [
    "from sklearn.cluster import KMeans"
   ]
  },
  {
   "cell_type": "code",
   "execution_count": 518,
   "metadata": {},
   "outputs": [],
   "source": [
    "def cluster_kmeans(num_clusters, dim_reduction, random_state=40):\n",
    "    \n",
    "    cluster = KMeans(num_clusters, random_state=random_state)\n",
    "    \n",
    "    clusters = cluster.fit_predict(dim_reduction)\n",
    "    \n",
    "    return clusters"
   ]
  },
  {
   "cell_type": "code",
   "execution_count": 519,
   "metadata": {},
   "outputs": [],
   "source": [
    "clusters = cluster_kmeans(num_clusters, dim_reduction, random_state=40)"
   ]
  },
  {
   "cell_type": "code",
   "execution_count": 520,
   "metadata": {},
   "outputs": [],
   "source": [
    "reduced_df['Cluster'] = clusters\n",
    "\n",
    "reduced_df = reduced_df.reset_index(drop=True)"
   ]
  },
  {
   "cell_type": "markdown",
   "metadata": {},
   "source": [
    "### 5.3 Cluster Averages Table"
   ]
  },
  {
   "cell_type": "code",
   "execution_count": 521,
   "metadata": {},
   "outputs": [],
   "source": [
    "averages_dict = {}\n",
    "\n",
    "total_per_cluster = {}\n",
    "\n",
    "for cluster in reduced_df['Cluster'].unique():\n",
    "    \n",
    "    cluster_group = reduced_df[reduced_df['Cluster'] == cluster]\n",
    "    \n",
    "    averages_dict[cluster] = np.mean(cluster_group)\n",
    "    \n",
    "    total_per_cluster[cluster] = len(cluster_group)"
   ]
  },
  {
   "cell_type": "code",
   "execution_count": 522,
   "metadata": {},
   "outputs": [],
   "source": [
    "averages_df = pd.DataFrame.from_dict(averages_dict, orient='index', columns=reduced_df.drop('Player',axis=1).columns)"
   ]
  },
  {
   "cell_type": "code",
   "execution_count": 523,
   "metadata": {},
   "outputs": [],
   "source": [
    "averages_df['Total Players'] = total_per_cluster.values()"
   ]
  },
  {
   "cell_type": "code",
   "execution_count": 524,
   "metadata": {},
   "outputs": [],
   "source": [
    "averages_df = averages_df.apply(lambda x: round(x, 3))"
   ]
  },
  {
   "cell_type": "code",
   "execution_count": 525,
   "metadata": {},
   "outputs": [],
   "source": [
    "averages_df = averages_df[['Cluster', 'Pos', 'Age', 'TS%', '3PAr', 'FTr', 'ORB%', 'AST%', 'TOV%', 'USG%',\n",
    "       'STL%', 'BLK%', 'DBPM', 'DRAYMOND', 'Total Players']]"
   ]
  },
  {
   "cell_type": "code",
   "execution_count": 526,
   "metadata": {},
   "outputs": [],
   "source": [
    "averages_df['Cluster'] = averages_df['Cluster'].apply(lambda x: int(x))\n",
    "\n",
    "averages_df = averages_df.sort_values(by='Pos', ascending=True)\n",
    "\n",
    "# averages_df['Cluster Name'] = ['Point guards', 'Shooting guards', 'Small forwards', 'Power forwards', 'Centers']"
   ]
  },
  {
   "cell_type": "code",
   "execution_count": 527,
   "metadata": {},
   "outputs": [
    {
     "data": {
      "text/html": [
       "<div>\n",
       "<style scoped>\n",
       "    .dataframe tbody tr th:only-of-type {\n",
       "        vertical-align: middle;\n",
       "    }\n",
       "\n",
       "    .dataframe tbody tr th {\n",
       "        vertical-align: top;\n",
       "    }\n",
       "\n",
       "    .dataframe thead th {\n",
       "        text-align: right;\n",
       "    }\n",
       "</style>\n",
       "<table border=\"1\" class=\"dataframe\">\n",
       "  <thead>\n",
       "    <tr style=\"text-align: right;\">\n",
       "      <th></th>\n",
       "      <th>Cluster</th>\n",
       "      <th>Pos</th>\n",
       "      <th>Age</th>\n",
       "      <th>TS%</th>\n",
       "      <th>3PAr</th>\n",
       "      <th>FTr</th>\n",
       "      <th>ORB%</th>\n",
       "      <th>AST%</th>\n",
       "      <th>TOV%</th>\n",
       "      <th>USG%</th>\n",
       "      <th>STL%</th>\n",
       "      <th>BLK%</th>\n",
       "      <th>DBPM</th>\n",
       "      <th>DRAYMOND</th>\n",
       "      <th>Total Players</th>\n",
       "    </tr>\n",
       "  </thead>\n",
       "  <tbody>\n",
       "    <tr>\n",
       "      <th>0</th>\n",
       "      <td>0</td>\n",
       "      <td>1.615</td>\n",
       "      <td>25.487</td>\n",
       "      <td>0.519</td>\n",
       "      <td>0.337</td>\n",
       "      <td>0.226</td>\n",
       "      <td>2.810</td>\n",
       "      <td>22.477</td>\n",
       "      <td>15.297</td>\n",
       "      <td>18.944</td>\n",
       "      <td>2.095</td>\n",
       "      <td>1.182</td>\n",
       "      <td>0.554</td>\n",
       "      <td>-0.177</td>\n",
       "      <td>39</td>\n",
       "    </tr>\n",
       "    <tr>\n",
       "      <th>4</th>\n",
       "      <td>4</td>\n",
       "      <td>1.692</td>\n",
       "      <td>28.667</td>\n",
       "      <td>0.564</td>\n",
       "      <td>0.355</td>\n",
       "      <td>0.318</td>\n",
       "      <td>2.464</td>\n",
       "      <td>28.623</td>\n",
       "      <td>12.897</td>\n",
       "      <td>27.323</td>\n",
       "      <td>1.721</td>\n",
       "      <td>1.010</td>\n",
       "      <td>-0.377</td>\n",
       "      <td>-0.502</td>\n",
       "      <td>39</td>\n",
       "    </tr>\n",
       "    <tr>\n",
       "      <th>3</th>\n",
       "      <td>3</td>\n",
       "      <td>2.433</td>\n",
       "      <td>25.351</td>\n",
       "      <td>0.549</td>\n",
       "      <td>0.460</td>\n",
       "      <td>0.190</td>\n",
       "      <td>2.635</td>\n",
       "      <td>11.402</td>\n",
       "      <td>9.851</td>\n",
       "      <td>19.431</td>\n",
       "      <td>1.224</td>\n",
       "      <td>0.926</td>\n",
       "      <td>-0.816</td>\n",
       "      <td>-0.552</td>\n",
       "      <td>97</td>\n",
       "    </tr>\n",
       "    <tr>\n",
       "      <th>2</th>\n",
       "      <td>2</td>\n",
       "      <td>3.240</td>\n",
       "      <td>28.900</td>\n",
       "      <td>0.559</td>\n",
       "      <td>0.501</td>\n",
       "      <td>0.197</td>\n",
       "      <td>3.932</td>\n",
       "      <td>10.334</td>\n",
       "      <td>11.438</td>\n",
       "      <td>15.390</td>\n",
       "      <td>1.648</td>\n",
       "      <td>2.092</td>\n",
       "      <td>0.768</td>\n",
       "      <td>0.576</td>\n",
       "      <td>50</td>\n",
       "    </tr>\n",
       "    <tr>\n",
       "      <th>1</th>\n",
       "      <td>1</td>\n",
       "      <td>4.784</td>\n",
       "      <td>24.784</td>\n",
       "      <td>0.608</td>\n",
       "      <td>0.102</td>\n",
       "      <td>0.377</td>\n",
       "      <td>10.812</td>\n",
       "      <td>10.729</td>\n",
       "      <td>12.661</td>\n",
       "      <td>19.724</td>\n",
       "      <td>1.375</td>\n",
       "      <td>3.794</td>\n",
       "      <td>0.614</td>\n",
       "      <td>1.230</td>\n",
       "      <td>51</td>\n",
       "    </tr>\n",
       "  </tbody>\n",
       "</table>\n",
       "</div>"
      ],
      "text/plain": [
       "   Cluster    Pos     Age    TS%   3PAr    FTr    ORB%    AST%    TOV%  \\\n",
       "0        0  1.615  25.487  0.519  0.337  0.226   2.810  22.477  15.297   \n",
       "4        4  1.692  28.667  0.564  0.355  0.318   2.464  28.623  12.897   \n",
       "3        3  2.433  25.351  0.549  0.460  0.190   2.635  11.402   9.851   \n",
       "2        2  3.240  28.900  0.559  0.501  0.197   3.932  10.334  11.438   \n",
       "1        1  4.784  24.784  0.608  0.102  0.377  10.812  10.729  12.661   \n",
       "\n",
       "     USG%   STL%   BLK%   DBPM  DRAYMOND  Total Players  \n",
       "0  18.944  2.095  1.182  0.554    -0.177             39  \n",
       "4  27.323  1.721  1.010 -0.377    -0.502             39  \n",
       "3  19.431  1.224  0.926 -0.816    -0.552             97  \n",
       "2  15.390  1.648  2.092  0.768     0.576             50  \n",
       "1  19.724  1.375  3.794  0.614     1.230             51  "
      ]
     },
     "execution_count": 527,
     "metadata": {},
     "output_type": "execute_result"
    }
   ],
   "source": [
    "averages_df.sort_values(by='Pos', ascending=True)"
   ]
  },
  {
   "cell_type": "markdown",
   "metadata": {},
   "source": [
    "### 5.4 Linear Discriminant Analysis w/ Clusters as Targets"
   ]
  },
  {
   "cell_type": "code",
   "execution_count": 528,
   "metadata": {},
   "outputs": [],
   "source": [
    "from sklearn.discriminant_analysis import LinearDiscriminantAnalysis"
   ]
  },
  {
   "cell_type": "code",
   "execution_count": 529,
   "metadata": {},
   "outputs": [],
   "source": [
    "def lda_reduce(number_of_components, dim_reduction, clusters, lda_num=1):\n",
    "    \n",
    "    discriminator = LinearDiscriminantAnalysis(n_components=number_of_components)\n",
    "    \n",
    "    X = dim_reduction\n",
    "\n",
    "    y = clusters # targets\n",
    "    \n",
    "    discriminated = discriminator.fit_transform(X, y)\n",
    "    \n",
    "    explained_variance_2 = round(100*sum(discriminator.explained_variance_ratio_), 3)\n",
    "\n",
    "    print('Retained info after ' + str(lda_num) + ' LDA: ' + str(explained_variance_2) + '%')\n",
    "    \n",
    "    return discriminated, explained_variance_2"
   ]
  },
  {
   "cell_type": "markdown",
   "metadata": {},
   "source": [
    "### 5.5 Re-Scale the Data"
   ]
  },
  {
   "cell_type": "code",
   "execution_count": 530,
   "metadata": {},
   "outputs": [
    {
     "name": "stdout",
     "output_type": "stream",
     "text": [
      "Retained info after 1 LDA: 80.075%\n"
     ]
    }
   ],
   "source": [
    "scale = StandardScaler()\n",
    "\n",
    "dim_reduction = scale.fit_transform(dim_reduction)\n",
    "\n",
    "discriminated, explained_variance_2 = lda_reduce(number_of_components, dim_reduction, clusters)"
   ]
  },
  {
   "cell_type": "code",
   "execution_count": 531,
   "metadata": {},
   "outputs": [],
   "source": [
    "reduced_df['LDA1'] = [discriminated[x][0] for x in range(len(dim_reduction))]\n",
    "\n",
    "reduced_df['LDA2'] = [discriminated[x][1] for x in range(len(dim_reduction))]"
   ]
  },
  {
   "cell_type": "markdown",
   "metadata": {},
   "source": [
    "### 5.6 KMeans Clustering #2"
   ]
  },
  {
   "cell_type": "code",
   "execution_count": 532,
   "metadata": {},
   "outputs": [],
   "source": [
    "elbow_clusters = []\n",
    "\n",
    "for num_of_clusters in range(2,10):\n",
    "    cluster = KMeans(num_of_clusters)\n",
    "    cluster.fit(discriminated)\n",
    "    elbow_clusters.append(cluster.inertia_)"
   ]
  },
  {
   "cell_type": "code",
   "execution_count": 533,
   "metadata": {},
   "outputs": [
    {
     "data": {
      "image/png": "[encoded data removed]",
      "text/plain": [
       "<Figure size 432x288 with 1 Axes>"
      ]
     },
     "metadata": {
      "needs_background": "light"
     },
     "output_type": "display_data"
    }
   ],
   "source": [
    "import matplotlib.pyplot as plt\n",
    "\n",
    "plt.scatter(x=list(range(2,10)), y=elbow_clusters)\n",
    "\n",
    "plt.show()"
   ]
  },
  {
   "cell_type": "code",
   "execution_count": 534,
   "metadata": {},
   "outputs": [],
   "source": [
    "num_clusters_2 = 8\n",
    "\n",
    "k_cluster = KMeans(num_clusters_2, random_state=42)\n",
    "    \n",
    "clusters = k_cluster.fit_predict(reduced_df[['LDA1', 'LDA2']])"
   ]
  },
  {
   "cell_type": "code",
   "execution_count": 535,
   "metadata": {},
   "outputs": [],
   "source": [
    "reduced_df['Cluster_2'] = clusters"
   ]
  },
  {
   "cell_type": "markdown",
   "metadata": {},
   "source": [
    "### 5.6 2nd Cluster Averages Table"
   ]
  },
  {
   "cell_type": "code",
   "execution_count": 536,
   "metadata": {},
   "outputs": [],
   "source": [
    "averages_dict_2 = {}\n",
    "\n",
    "total_per_cluster_2 = {}\n",
    "\n",
    "for cluster in reduced_df['Cluster_2'].unique():\n",
    "    \n",
    "    cluster_group = reduced_df[reduced_df['Cluster_2'] == cluster]\n",
    "    \n",
    "    averages_dict_2[cluster] = np.mean(cluster_group)\n",
    "    \n",
    "    total_per_cluster_2[cluster] = len(cluster_group)"
   ]
  },
  {
   "cell_type": "code",
   "execution_count": 537,
   "metadata": {},
   "outputs": [],
   "source": [
    "averages_df_2 = pd.DataFrame.from_dict(averages_dict_2, orient='index', \n",
    "                                       columns=reduced_df.drop('Player',axis=1).columns)\n",
    "\n",
    "averages_df_2['Total Players'] = total_per_cluster_2.values()\n",
    "\n",
    "averages_df_2 = averages_df_2.apply(lambda x: round(x, 3))\n",
    "\n",
    "averages_df_2 = averages_df_2[['Cluster_2', 'Pos', 'Age', 'TS%', '3PAr', 'FTr', 'ORB%', 'AST%', 'TOV%', 'USG%',\n",
    "       'STL%', 'BLK%', 'DBPM', 'DRAYMOND', 'Total Players']]\n",
    "\n",
    "averages_df_2['Cluster_2'] = averages_df_2['Cluster_2'].apply(lambda x: int(x))"
   ]
  },
  {
   "cell_type": "code",
   "execution_count": 538,
   "metadata": {},
   "outputs": [],
   "source": [
    "averages_df_2 = averages_df_2.sort_values(by='Pos', ascending=True)"
   ]
  },
  {
   "cell_type": "code",
   "execution_count": 539,
   "metadata": {
    "scrolled": false
   },
   "outputs": [
    {
     "data": {
      "text/html": [
       "<div>\n",
       "<style scoped>\n",
       "    .dataframe tbody tr th:only-of-type {\n",
       "        vertical-align: middle;\n",
       "    }\n",
       "\n",
       "    .dataframe tbody tr th {\n",
       "        vertical-align: top;\n",
       "    }\n",
       "\n",
       "    .dataframe thead th {\n",
       "        text-align: right;\n",
       "    }\n",
       "</style>\n",
       "<table border=\"1\" class=\"dataframe\">\n",
       "  <thead>\n",
       "    <tr style=\"text-align: right;\">\n",
       "      <th></th>\n",
       "      <th>Cluster_2</th>\n",
       "      <th>Pos</th>\n",
       "      <th>Age</th>\n",
       "      <th>TS%</th>\n",
       "      <th>3PAr</th>\n",
       "      <th>FTr</th>\n",
       "      <th>ORB%</th>\n",
       "      <th>AST%</th>\n",
       "      <th>TOV%</th>\n",
       "      <th>USG%</th>\n",
       "      <th>STL%</th>\n",
       "      <th>BLK%</th>\n",
       "      <th>DBPM</th>\n",
       "      <th>DRAYMOND</th>\n",
       "      <th>Total Players</th>\n",
       "    </tr>\n",
       "  </thead>\n",
       "  <tbody>\n",
       "    <tr>\n",
       "      <th>3</th>\n",
       "      <td>3</td>\n",
       "      <td>1.465</td>\n",
       "      <td>27.930</td>\n",
       "      <td>0.552</td>\n",
       "      <td>0.333</td>\n",
       "      <td>0.298</td>\n",
       "      <td>2.547</td>\n",
       "      <td>30.370</td>\n",
       "      <td>14.226</td>\n",
       "      <td>26.556</td>\n",
       "      <td>1.872</td>\n",
       "      <td>1.028</td>\n",
       "      <td>-0.228</td>\n",
       "      <td>-0.386</td>\n",
       "      <td>43</td>\n",
       "    </tr>\n",
       "    <tr>\n",
       "      <th>0</th>\n",
       "      <td>0</td>\n",
       "      <td>1.767</td>\n",
       "      <td>25.933</td>\n",
       "      <td>0.534</td>\n",
       "      <td>0.416</td>\n",
       "      <td>0.206</td>\n",
       "      <td>2.335</td>\n",
       "      <td>17.248</td>\n",
       "      <td>11.657</td>\n",
       "      <td>19.793</td>\n",
       "      <td>1.703</td>\n",
       "      <td>0.878</td>\n",
       "      <td>-0.248</td>\n",
       "      <td>-0.650</td>\n",
       "      <td>60</td>\n",
       "    </tr>\n",
       "    <tr>\n",
       "      <th>7</th>\n",
       "      <td>7</td>\n",
       "      <td>2.333</td>\n",
       "      <td>26.963</td>\n",
       "      <td>0.545</td>\n",
       "      <td>0.574</td>\n",
       "      <td>0.147</td>\n",
       "      <td>2.093</td>\n",
       "      <td>9.102</td>\n",
       "      <td>9.461</td>\n",
       "      <td>16.163</td>\n",
       "      <td>1.296</td>\n",
       "      <td>0.930</td>\n",
       "      <td>-0.463</td>\n",
       "      <td>-0.535</td>\n",
       "      <td>54</td>\n",
       "    </tr>\n",
       "    <tr>\n",
       "      <th>5</th>\n",
       "      <td>5</td>\n",
       "      <td>3.226</td>\n",
       "      <td>26.194</td>\n",
       "      <td>0.557</td>\n",
       "      <td>0.290</td>\n",
       "      <td>0.281</td>\n",
       "      <td>3.877</td>\n",
       "      <td>15.216</td>\n",
       "      <td>13.023</td>\n",
       "      <td>21.100</td>\n",
       "      <td>1.565</td>\n",
       "      <td>1.803</td>\n",
       "      <td>0.297</td>\n",
       "      <td>0.543</td>\n",
       "      <td>31</td>\n",
       "    </tr>\n",
       "    <tr>\n",
       "      <th>2</th>\n",
       "      <td>2</td>\n",
       "      <td>3.486</td>\n",
       "      <td>26.571</td>\n",
       "      <td>0.565</td>\n",
       "      <td>0.479</td>\n",
       "      <td>0.209</td>\n",
       "      <td>4.626</td>\n",
       "      <td>8.066</td>\n",
       "      <td>10.766</td>\n",
       "      <td>16.191</td>\n",
       "      <td>1.294</td>\n",
       "      <td>1.977</td>\n",
       "      <td>0.111</td>\n",
       "      <td>0.413</td>\n",
       "      <td>35</td>\n",
       "    </tr>\n",
       "    <tr>\n",
       "      <th>1</th>\n",
       "      <td>1</td>\n",
       "      <td>4.679</td>\n",
       "      <td>25.107</td>\n",
       "      <td>0.590</td>\n",
       "      <td>0.161</td>\n",
       "      <td>0.307</td>\n",
       "      <td>9.586</td>\n",
       "      <td>10.218</td>\n",
       "      <td>11.864</td>\n",
       "      <td>19.343</td>\n",
       "      <td>1.318</td>\n",
       "      <td>3.150</td>\n",
       "      <td>0.043</td>\n",
       "      <td>0.872</td>\n",
       "      <td>28</td>\n",
       "    </tr>\n",
       "    <tr>\n",
       "      <th>4</th>\n",
       "      <td>4</td>\n",
       "      <td>4.800</td>\n",
       "      <td>24.100</td>\n",
       "      <td>0.610</td>\n",
       "      <td>0.110</td>\n",
       "      <td>0.449</td>\n",
       "      <td>10.090</td>\n",
       "      <td>17.230</td>\n",
       "      <td>13.980</td>\n",
       "      <td>25.370</td>\n",
       "      <td>1.650</td>\n",
       "      <td>3.690</td>\n",
       "      <td>1.490</td>\n",
       "      <td>1.092</td>\n",
       "      <td>10</td>\n",
       "    </tr>\n",
       "    <tr>\n",
       "      <th>6</th>\n",
       "      <td>6</td>\n",
       "      <td>5.000</td>\n",
       "      <td>25.400</td>\n",
       "      <td>0.640</td>\n",
       "      <td>0.019</td>\n",
       "      <td>0.431</td>\n",
       "      <td>13.020</td>\n",
       "      <td>7.873</td>\n",
       "      <td>13.213</td>\n",
       "      <td>16.413</td>\n",
       "      <td>1.340</td>\n",
       "      <td>5.073</td>\n",
       "      <td>1.193</td>\n",
       "      <td>1.954</td>\n",
       "      <td>15</td>\n",
       "    </tr>\n",
       "  </tbody>\n",
       "</table>\n",
       "</div>"
      ],
      "text/plain": [
       "   Cluster_2    Pos     Age    TS%   3PAr    FTr    ORB%    AST%    TOV%  \\\n",
       "3          3  1.465  27.930  0.552  0.333  0.298   2.547  30.370  14.226   \n",
       "0          0  1.767  25.933  0.534  0.416  0.206   2.335  17.248  11.657   \n",
       "7          7  2.333  26.963  0.545  0.574  0.147   2.093   9.102   9.461   \n",
       "5          5  3.226  26.194  0.557  0.290  0.281   3.877  15.216  13.023   \n",
       "2          2  3.486  26.571  0.565  0.479  0.209   4.626   8.066  10.766   \n",
       "1          1  4.679  25.107  0.590  0.161  0.307   9.586  10.218  11.864   \n",
       "4          4  4.800  24.100  0.610  0.110  0.449  10.090  17.230  13.980   \n",
       "6          6  5.000  25.400  0.640  0.019  0.431  13.020   7.873  13.213   \n",
       "\n",
       "     USG%   STL%   BLK%   DBPM  DRAYMOND  Total Players  \n",
       "3  26.556  1.872  1.028 -0.228    -0.386             43  \n",
       "0  19.793  1.703  0.878 -0.248    -0.650             60  \n",
       "7  16.163  1.296  0.930 -0.463    -0.535             54  \n",
       "5  21.100  1.565  1.803  0.297     0.543             31  \n",
       "2  16.191  1.294  1.977  0.111     0.413             35  \n",
       "1  19.343  1.318  3.150  0.043     0.872             28  \n",
       "4  25.370  1.650  3.690  1.490     1.092             10  \n",
       "6  16.413  1.340  5.073  1.193     1.954             15  "
      ]
     },
     "execution_count": 539,
     "metadata": {},
     "output_type": "execute_result"
    }
   ],
   "source": [
    "averages_df_2.sort_values(by='Pos', ascending=True)"
   ]
  },
  {
   "cell_type": "markdown",
   "metadata": {},
   "source": [
    "### 5.7 Find Cluster Centers and Calculate the Closest Player to Each"
   ]
  },
  {
   "cell_type": "code",
   "execution_count": 540,
   "metadata": {},
   "outputs": [],
   "source": [
    "cluster_centers = k_cluster.cluster_centers_.tolist()\n",
    "\n",
    "example_players = []\n",
    "\n",
    "for x, y in cluster_centers:\n",
    "    \n",
    "    min_dist = 1000\n",
    "    \n",
    "    player = str()\n",
    "    \n",
    "    tmp_df = reduced_df.copy()\n",
    "    \n",
    "    tmp_df['L2_dist'] = np.sqrt( ( (tmp_df['LDA1'] - x) ** 2) + ( (tmp_df['LDA2'] - y) ** 2) ) # euclidian dist (l2)\n",
    "    \n",
    "    for i in range(len(tmp_df)):\n",
    "        \n",
    "        if tmp_df.loc[i,'L2_dist'] < min_dist:\n",
    "            \n",
    "            min_dist = tmp_df.loc[i, 'L2_dist']\n",
    "            \n",
    "            player = tmp_df.loc[i, 'Player']\n",
    "    \n",
    "    example_players.append(player)"
   ]
  },
  {
   "cell_type": "code",
   "execution_count": 541,
   "metadata": {},
   "outputs": [],
   "source": [
    "player_clusters = {}\n",
    "\n",
    "for player in example_players:\n",
    "    \n",
    "    index = reduced_df[reduced_df.loc[:,'Player'] == player].index\n",
    "    \n",
    "    cluster = reduced_df.loc[index, 'Cluster_2'].values\n",
    "    \n",
    "    player_clusters[player] = cluster"
   ]
  },
  {
   "cell_type": "code",
   "execution_count": 542,
   "metadata": {},
   "outputs": [],
   "source": [
    "averages_df_2 = averages_df_2.sort_values('Cluster_2', ascending=True)"
   ]
  },
  {
   "cell_type": "code",
   "execution_count": 543,
   "metadata": {},
   "outputs": [],
   "source": [
    "averages_df_2['Example'] = list(player_clusters.keys())"
   ]
  },
  {
   "cell_type": "code",
   "execution_count": 544,
   "metadata": {},
   "outputs": [],
   "source": [
    "averages_df_2 = averages_df_2.sort_values('Pos', ascending=True)\n",
    "\n",
    "averages_df_2['Cluster Name'] = ['Star guards', 'Combo guards', 'Shooters', 'Slashing wings',\n",
    "                                 'Three-and-d forwards', 'Defensive bigs', 'Star forwards', 'Centers']"
   ]
  },
  {
   "cell_type": "markdown",
   "metadata": {},
   "source": [
    "### 5.8 Averages DF with Example Players Added"
   ]
  },
  {
   "cell_type": "code",
   "execution_count": 545,
   "metadata": {},
   "outputs": [
    {
     "data": {
      "text/html": [
       "<div>\n",
       "<style scoped>\n",
       "    .dataframe tbody tr th:only-of-type {\n",
       "        vertical-align: middle;\n",
       "    }\n",
       "\n",
       "    .dataframe tbody tr th {\n",
       "        vertical-align: top;\n",
       "    }\n",
       "\n",
       "    .dataframe thead th {\n",
       "        text-align: right;\n",
       "    }\n",
       "</style>\n",
       "<table border=\"1\" class=\"dataframe\">\n",
       "  <thead>\n",
       "    <tr style=\"text-align: right;\">\n",
       "      <th></th>\n",
       "      <th>Cluster_2</th>\n",
       "      <th>Pos</th>\n",
       "      <th>Age</th>\n",
       "      <th>TS%</th>\n",
       "      <th>3PAr</th>\n",
       "      <th>FTr</th>\n",
       "      <th>ORB%</th>\n",
       "      <th>AST%</th>\n",
       "      <th>TOV%</th>\n",
       "      <th>USG%</th>\n",
       "      <th>STL%</th>\n",
       "      <th>BLK%</th>\n",
       "      <th>DBPM</th>\n",
       "      <th>DRAYMOND</th>\n",
       "      <th>Total Players</th>\n",
       "      <th>Example</th>\n",
       "      <th>Cluster Name</th>\n",
       "    </tr>\n",
       "  </thead>\n",
       "  <tbody>\n",
       "    <tr>\n",
       "      <th>3</th>\n",
       "      <td>3</td>\n",
       "      <td>1.465</td>\n",
       "      <td>27.930</td>\n",
       "      <td>0.552</td>\n",
       "      <td>0.333</td>\n",
       "      <td>0.298</td>\n",
       "      <td>2.547</td>\n",
       "      <td>30.370</td>\n",
       "      <td>14.226</td>\n",
       "      <td>26.556</td>\n",
       "      <td>1.872</td>\n",
       "      <td>1.028</td>\n",
       "      <td>-0.228</td>\n",
       "      <td>-0.386</td>\n",
       "      <td>43</td>\n",
       "      <td>Damian Lillard</td>\n",
       "      <td>Star guards</td>\n",
       "    </tr>\n",
       "    <tr>\n",
       "      <th>0</th>\n",
       "      <td>0</td>\n",
       "      <td>1.767</td>\n",
       "      <td>25.933</td>\n",
       "      <td>0.534</td>\n",
       "      <td>0.416</td>\n",
       "      <td>0.206</td>\n",
       "      <td>2.335</td>\n",
       "      <td>17.248</td>\n",
       "      <td>11.657</td>\n",
       "      <td>19.793</td>\n",
       "      <td>1.703</td>\n",
       "      <td>0.878</td>\n",
       "      <td>-0.248</td>\n",
       "      <td>-0.650</td>\n",
       "      <td>60</td>\n",
       "      <td>Tyler Johnson</td>\n",
       "      <td>Combo guards</td>\n",
       "    </tr>\n",
       "    <tr>\n",
       "      <th>7</th>\n",
       "      <td>7</td>\n",
       "      <td>2.333</td>\n",
       "      <td>26.963</td>\n",
       "      <td>0.545</td>\n",
       "      <td>0.574</td>\n",
       "      <td>0.147</td>\n",
       "      <td>2.093</td>\n",
       "      <td>9.102</td>\n",
       "      <td>9.461</td>\n",
       "      <td>16.163</td>\n",
       "      <td>1.296</td>\n",
       "      <td>0.930</td>\n",
       "      <td>-0.463</td>\n",
       "      <td>-0.535</td>\n",
       "      <td>54</td>\n",
       "      <td>Vince Carter</td>\n",
       "      <td>Shooters</td>\n",
       "    </tr>\n",
       "    <tr>\n",
       "      <th>5</th>\n",
       "      <td>5</td>\n",
       "      <td>3.226</td>\n",
       "      <td>26.194</td>\n",
       "      <td>0.557</td>\n",
       "      <td>0.290</td>\n",
       "      <td>0.281</td>\n",
       "      <td>3.877</td>\n",
       "      <td>15.216</td>\n",
       "      <td>13.023</td>\n",
       "      <td>21.100</td>\n",
       "      <td>1.565</td>\n",
       "      <td>1.803</td>\n",
       "      <td>0.297</td>\n",
       "      <td>0.543</td>\n",
       "      <td>31</td>\n",
       "      <td>Jabari Parker</td>\n",
       "      <td>Slashing wings</td>\n",
       "    </tr>\n",
       "    <tr>\n",
       "      <th>2</th>\n",
       "      <td>2</td>\n",
       "      <td>3.486</td>\n",
       "      <td>26.571</td>\n",
       "      <td>0.565</td>\n",
       "      <td>0.479</td>\n",
       "      <td>0.209</td>\n",
       "      <td>4.626</td>\n",
       "      <td>8.066</td>\n",
       "      <td>10.766</td>\n",
       "      <td>16.191</td>\n",
       "      <td>1.294</td>\n",
       "      <td>1.977</td>\n",
       "      <td>0.111</td>\n",
       "      <td>0.413</td>\n",
       "      <td>35</td>\n",
       "      <td>Jonas Jerebko</td>\n",
       "      <td>Three-and-d forwards</td>\n",
       "    </tr>\n",
       "    <tr>\n",
       "      <th>1</th>\n",
       "      <td>1</td>\n",
       "      <td>4.679</td>\n",
       "      <td>25.107</td>\n",
       "      <td>0.590</td>\n",
       "      <td>0.161</td>\n",
       "      <td>0.307</td>\n",
       "      <td>9.586</td>\n",
       "      <td>10.218</td>\n",
       "      <td>11.864</td>\n",
       "      <td>19.343</td>\n",
       "      <td>1.318</td>\n",
       "      <td>3.150</td>\n",
       "      <td>0.043</td>\n",
       "      <td>0.872</td>\n",
       "      <td>28</td>\n",
       "      <td>Tristan Thompson</td>\n",
       "      <td>Defensive bigs</td>\n",
       "    </tr>\n",
       "    <tr>\n",
       "      <th>4</th>\n",
       "      <td>4</td>\n",
       "      <td>4.800</td>\n",
       "      <td>24.100</td>\n",
       "      <td>0.610</td>\n",
       "      <td>0.110</td>\n",
       "      <td>0.449</td>\n",
       "      <td>10.090</td>\n",
       "      <td>17.230</td>\n",
       "      <td>13.980</td>\n",
       "      <td>25.370</td>\n",
       "      <td>1.650</td>\n",
       "      <td>3.690</td>\n",
       "      <td>1.490</td>\n",
       "      <td>1.092</td>\n",
       "      <td>10</td>\n",
       "      <td>Domantas Sabonis</td>\n",
       "      <td>Star forwards</td>\n",
       "    </tr>\n",
       "    <tr>\n",
       "      <th>6</th>\n",
       "      <td>6</td>\n",
       "      <td>5.000</td>\n",
       "      <td>25.400</td>\n",
       "      <td>0.640</td>\n",
       "      <td>0.019</td>\n",
       "      <td>0.431</td>\n",
       "      <td>13.020</td>\n",
       "      <td>7.873</td>\n",
       "      <td>13.213</td>\n",
       "      <td>16.413</td>\n",
       "      <td>1.340</td>\n",
       "      <td>5.073</td>\n",
       "      <td>1.193</td>\n",
       "      <td>1.954</td>\n",
       "      <td>15</td>\n",
       "      <td>Hassan Whiteside</td>\n",
       "      <td>Centers</td>\n",
       "    </tr>\n",
       "  </tbody>\n",
       "</table>\n",
       "</div>"
      ],
      "text/plain": [
       "   Cluster_2    Pos     Age    TS%   3PAr    FTr    ORB%    AST%    TOV%  \\\n",
       "3          3  1.465  27.930  0.552  0.333  0.298   2.547  30.370  14.226   \n",
       "0          0  1.767  25.933  0.534  0.416  0.206   2.335  17.248  11.657   \n",
       "7          7  2.333  26.963  0.545  0.574  0.147   2.093   9.102   9.461   \n",
       "5          5  3.226  26.194  0.557  0.290  0.281   3.877  15.216  13.023   \n",
       "2          2  3.486  26.571  0.565  0.479  0.209   4.626   8.066  10.766   \n",
       "1          1  4.679  25.107  0.590  0.161  0.307   9.586  10.218  11.864   \n",
       "4          4  4.800  24.100  0.610  0.110  0.449  10.090  17.230  13.980   \n",
       "6          6  5.000  25.400  0.640  0.019  0.431  13.020   7.873  13.213   \n",
       "\n",
       "     USG%   STL%   BLK%   DBPM  DRAYMOND  Total Players           Example  \\\n",
       "3  26.556  1.872  1.028 -0.228    -0.386             43    Damian Lillard   \n",
       "0  19.793  1.703  0.878 -0.248    -0.650             60     Tyler Johnson   \n",
       "7  16.163  1.296  0.930 -0.463    -0.535             54      Vince Carter   \n",
       "5  21.100  1.565  1.803  0.297     0.543             31     Jabari Parker   \n",
       "2  16.191  1.294  1.977  0.111     0.413             35     Jonas Jerebko   \n",
       "1  19.343  1.318  3.150  0.043     0.872             28  Tristan Thompson   \n",
       "4  25.370  1.650  3.690  1.490     1.092             10  Domantas Sabonis   \n",
       "6  16.413  1.340  5.073  1.193     1.954             15  Hassan Whiteside   \n",
       "\n",
       "           Cluster Name  \n",
       "3           Star guards  \n",
       "0          Combo guards  \n",
       "7              Shooters  \n",
       "5        Slashing wings  \n",
       "2  Three-and-d forwards  \n",
       "1        Defensive bigs  \n",
       "4         Star forwards  \n",
       "6               Centers  "
      ]
     },
     "execution_count": 545,
     "metadata": {},
     "output_type": "execute_result"
    }
   ],
   "source": [
    "averages_df_2"
   ]
  },
  {
   "cell_type": "code",
   "execution_count": 546,
   "metadata": {},
   "outputs": [],
   "source": [
    "# averages_df_2 = averages_df_2.sort_values('Cluster_2', ascending=True)\n",
    "\n",
    "cluster_and_player = []\n",
    "\n",
    "for i in range(len(averages_df_2)):\n",
    "    \n",
    "    cluster = averages_df_2.loc[i, 'Cluster Name']\n",
    "    \n",
    "    player = averages_df_2.loc[i, 'Example']\n",
    "    \n",
    "    cluster_and_player.append(str(cluster) + ': ' + str(player))"
   ]
  },
  {
   "cell_type": "markdown",
   "metadata": {},
   "source": [
    "### 5.9 Graph Clusters in 2D"
   ]
  },
  {
   "cell_type": "code",
   "execution_count": 547,
   "metadata": {},
   "outputs": [
    {
     "data": {
      "image/png": "[encoded data removed]",
      "text/plain": [
       "<Figure size 864x504 with 1 Axes>"
      ]
     },
     "metadata": {
      "needs_background": "light"
     },
     "output_type": "display_data"
    }
   ],
   "source": [
    "import matplotlib.pyplot as plt\n",
    "\n",
    "# cmap = plt.cm.get_cmap('jet', reduced_df['Cluster_2'].nunique())\n",
    "\n",
    "fig, ax = plt.subplots(figsize=(12,7))\n",
    "\n",
    "ax.set_title('NBA Player Style (Reduced to Two Dims)', size=20)\n",
    "\n",
    "ax.set_xlabel('LDA1', size=15)\n",
    "\n",
    "ax.set_ylabel('LDA2', size=15)\n",
    "\n",
    "handles = []\n",
    "\n",
    "for cluster in range(num_clusters_2):\n",
    "    \n",
    "    handles.append(cluster)\n",
    "    \n",
    "    tmp_df = reduced_df[reduced_df['Cluster_2'] == cluster]\n",
    "    \n",
    "    ax.scatter(tmp_df['LDA1'], tmp_df['LDA2'], label=cluster, alpha=0.5)\n",
    "\n",
    "ax.legend(cluster_and_player)\n",
    "\n",
    "ax.grid()\n",
    "\n",
    "plt.show()"
   ]
  },
  {
   "cell_type": "markdown",
   "metadata": {},
   "source": [
    "### 5.99 Dissimilarity Calculator"
   ]
  },
  {
   "cell_type": "code",
   "execution_count": 548,
   "metadata": {},
   "outputs": [],
   "source": [
    "total_player_diff = []\n",
    "\n",
    "for player in reduced_df['Player']:\n",
    "    \n",
    "    new_index = reduced_df['Player'].tolist().index(player)\n",
    "    \n",
    "    player_stats = np.asarray(reduced_df.iloc[new_index,:])\n",
    "    \n",
    "    sub_player_diff = []\n",
    "    \n",
    "    for i in range(len(reduced_df)):\n",
    "        lda1, lda2 = player_stats[-3], player_stats[-2]\n",
    "        ilda1, ilda2 = reduced_df['LDA1'][i], reduced_df['LDA2'][i]\n",
    "        total_1 = lda1 - ilda1\n",
    "        total_2 = lda2 - ilda2\n",
    "        l2_norm = np.sqrt(total_1 ** 2 + total_2 ** 2)\n",
    "        sub_player_diff.append(l2_norm)\n",
    "    \n",
    "    sub_mean = np.mean(sub_player_diff)\n",
    "    \n",
    "    total_player_diff.append(sub_mean)\n",
    "\n",
    "total_mean, total_std = np.mean(total_player_diff), np.std(total_player_diff)"
   ]
  },
  {
   "cell_type": "markdown",
   "metadata": {},
   "source": [
    "### 6.0 Input Player to Get Comps"
   ]
  },
  {
   "cell_type": "code",
   "execution_count": 549,
   "metadata": {},
   "outputs": [
    {
     "name": "stdout",
     "output_type": "stream",
     "text": [
      "Player name: Joel Embiid\n"
     ]
    }
   ],
   "source": [
    "# Input player name:\n",
    "\n",
    "player_name = input('Player name: ')\n",
    "\n",
    "# Retrieve index of player name:\n",
    "\n",
    "index = reduced_df['Player'].tolist().index(f'{player_name}')\n",
    "\n",
    "# Pull player's stats:\n",
    "\n",
    "player_stats = reduced_df.iloc[index,:]\n",
    "\n",
    "player_stats = np.asarray(player_stats)"
   ]
  },
  {
   "cell_type": "markdown",
   "metadata": {},
   "source": [
    "### 6.1 Input Player You Would Like to Compare"
   ]
  },
  {
   "cell_type": "code",
   "execution_count": 550,
   "metadata": {},
   "outputs": [
    {
     "name": "stdout",
     "output_type": "stream",
     "text": [
      "Comp player name: Ben Simmons\n"
     ]
    }
   ],
   "source": [
    "comp_name = input('Comp player name: ')\n",
    "\n",
    "comp_index = reduced_df['Player'].tolist().index(f'{comp_name}')\n",
    "\n",
    "comp_stats = reduced_df.iloc[comp_index,:]\n",
    "\n",
    "comp_stats = np.asarray(comp_stats)"
   ]
  },
  {
   "cell_type": "markdown",
   "metadata": {},
   "source": [
    "### 6.2 Calculate L2-Norms"
   ]
  },
  {
   "cell_type": "code",
   "execution_count": 551,
   "metadata": {},
   "outputs": [],
   "source": [
    "# Loop through and create a list of L2-Norms:\n",
    "\n",
    "player_diff = []\n",
    "\n",
    "for i in range(len(reduced_df)):\n",
    "    lda1, lda2 = player_stats[-3], player_stats[-2]\n",
    "    ilda1, ilda2 = reduced_df['LDA1'][i], reduced_df['LDA2'][i]\n",
    "    total_1 = lda1 - ilda1\n",
    "    total_2 = lda2 - ilda2\n",
    "    l2_norm = np.sqrt(total_1 ** 2 + total_2 ** 2)\n",
    "    player_diff += [(i,l2_norm)]\n",
    "\n",
    "# And for just Target Comp:\n",
    "\n",
    "lda1, lda2 = player_stats[-3], player_stats[-2]\n",
    "ilda1, ilda2 = comp_stats[-3], comp_stats[-2]\n",
    "total_1 = lda1 - ilda1\n",
    "total_2 = lda2 - ilda2\n",
    "l2_norm = np.sqrt(total_1 ** 2 + total_2 ** 2)\n",
    "target_comp = l2_norm"
   ]
  },
  {
   "cell_type": "code",
   "execution_count": 552,
   "metadata": {},
   "outputs": [
    {
     "name": "stdout",
     "output_type": "stream",
     "text": [
      "62 228 212\n"
     ]
    }
   ],
   "source": [
    "# Initialize:\n",
    "\n",
    "comp_1, it_1, comp_2, it_2, comp_3, it_3 = [x for x in np.zeros(6) + 3]\n",
    "\n",
    "# 1. Best Comp:\n",
    "\n",
    "for i in range(len(player_diff)):\n",
    "    if (player_diff[i][1] < comp_1) and (player_diff[i][1] > 0):\n",
    "        comp_1 = player_diff[i][1]\n",
    "        it_1 = i\n",
    "\n",
    "# 2. Second Comp:\n",
    "\n",
    "for i in range(len(player_diff)):\n",
    "    if (player_diff[i][1] < comp_2) and (player_diff[i][1] > comp_1):\n",
    "        comp_2 = player_diff[i][1]\n",
    "        it_2 = i\n",
    "\n",
    "# 3. Third Comp:\n",
    "\n",
    "for i in range(len(player_diff)):\n",
    "    if (player_diff[i][1] < comp_3) and (player_diff[i][1] > comp_1) and (player_diff[i][1] > comp_2):\n",
    "        comp_3 = player_diff[i][1]\n",
    "        it_3 = i\n",
    "\n",
    "print(it_1, it_2, it_3)\n",
    "\n"
   ]
  },
  {
   "cell_type": "code",
   "execution_count": 553,
   "metadata": {},
   "outputs": [],
   "source": [
    "# Dissimilarity (dissim_factor) calculation to add to final comp_df:\n",
    "\n",
    "dissimilarity = 0\n",
    "\n",
    "for i in range(len(player_diff)):\n",
    "    \n",
    "    dissimilarity += player_diff[i][1]\n",
    "\n",
    "dissimilarity = dissimilarity / len(player_diff)\n",
    "\n",
    "dissim_factor = (dissimilarity - total_mean) / total_std"
   ]
  },
  {
   "cell_type": "markdown",
   "metadata": {},
   "source": [
    "### 7.0 Player Comp Df"
   ]
  },
  {
   "cell_type": "code",
   "execution_count": 554,
   "metadata": {},
   "outputs": [],
   "source": [
    "player_comp_df = pd.DataFrame()\n",
    "\n",
    "player_comp_df['Actual Player'] = reduced_df.iloc[index,1:]\n",
    "player_comp_df['Top Comp'] = reduced_df.iloc[it_1,1:]\n",
    "player_comp_df['Second-Best Comp'] = reduced_df.iloc[it_2,1:]\n",
    "player_comp_df['Third-Best Comp'] = reduced_df.iloc[it_3,1:]\n",
    "player_comp_df['Target Comp'] = reduced_df.iloc[comp_index,1:]"
   ]
  },
  {
   "cell_type": "code",
   "execution_count": 555,
   "metadata": {},
   "outputs": [],
   "source": [
    "comp_df = pd.DataFrame(np.transpose(player_comp_df.values))\n",
    "\n",
    "list_of_columns = list(total_df.columns.drop('Player')) + ['PCA1', 'PCA2', 'PCA3', 'PCA4', 'PCA5', 'Cluster',\n",
    "                                                           'LDA1', 'LDA2', 'Cluster_2']\n",
    "\n",
    "comp_df.columns = list_of_columns\n",
    "\n",
    "comp_df['Player'] = [reduced_df.iloc[index,0], reduced_df.iloc[it_1,0], reduced_df.iloc[it_2,0],\n",
    "                     reduced_df.iloc[it_3,0], reduced_df.iloc[comp_index,0]]"
   ]
  },
  {
   "cell_type": "code",
   "execution_count": 556,
   "metadata": {},
   "outputs": [],
   "source": [
    "player_subject = pd.Series(scaled_vectors[index, :])\n",
    "\n",
    "comp_a = pd.Series(scaled_vectors[it_1, :])\n",
    "comp_b = pd.Series(scaled_vectors[it_2, :])\n",
    "comp_c = pd.Series(scaled_vectors[it_3, :])\n",
    "comp_target = pd.Series(scaled_vectors[comp_index, :])\n",
    "\n",
    "scaled_array = np.array([player_subject, comp_a, comp_b, comp_c, comp_target])\n",
    "\n",
    "new_columns = ['sPos', 'sAge', 'sTS%', 's3PAr', 'sFTr', 'sORB%', 'sAST%', 'sTOV%', \n",
    "               'sUSG%', 'sSTL%', 'sBLK%', 'sDBPM', 'sDRAY']\n",
    "\n",
    "for i, column in enumerate(new_columns):\n",
    "    comp_df[column] = [round(scaled_array[x][i], 2) for x in range(5)]"
   ]
  },
  {
   "cell_type": "code",
   "execution_count": 557,
   "metadata": {},
   "outputs": [],
   "source": [
    "comp_df['Similarity Score'] = [1, round(1 - comp_1/dissimilarity, 3), round(1 - comp_2/dissimilarity, 3), \n",
    "                               round(1 - comp_3/dissimilarity, 3), round(1 - target_comp/dissimilarity, 3)]"
   ]
  },
  {
   "cell_type": "code",
   "execution_count": 558,
   "metadata": {},
   "outputs": [],
   "source": [
    "keep_columns = comp_df.columns\n",
    "\n",
    "keep_columns = ['Player', 'Pos', 'Age', 'sPos', 'sAge', 'sTS%', 's3PAr',\n",
    "       'sFTr', 'sORB%', 'sAST%', 'sTOV%', 'sUSG%', 'sSTL%', 'sBLK%', 'sDBPM', 'sDRAY',\n",
    "       'Similarity Score', 'Cluster_2']\n",
    "\n",
    "comp_df = comp_df[keep_columns]"
   ]
  },
  {
   "cell_type": "code",
   "execution_count": 559,
   "metadata": {},
   "outputs": [],
   "source": [
    "comp_df.columns = ['Player', 'Pos', 'Age', 'sPos', 'sAge', 'sTS%', 's3PAr',\n",
    "       'sFTr', 'sORB%', 'sAST%', 'sTOV%', 'sUSG%', 'sSTL%', 'sBLK%', 'sDBPM', 'sDRAY',\n",
    "       'Similarity', 'Cluster_2']"
   ]
  },
  {
   "cell_type": "code",
   "execution_count": 560,
   "metadata": {},
   "outputs": [],
   "source": [
    "comp_df['sDRAY'] = comp_df['sDRAY'].apply(lambda x: round(x,2))"
   ]
  },
  {
   "cell_type": "code",
   "execution_count": 561,
   "metadata": {
    "scrolled": false
   },
   "outputs": [
    {
     "data": {
      "text/html": [
       "<div>\n",
       "<style scoped>\n",
       "    .dataframe tbody tr th:only-of-type {\n",
       "        vertical-align: middle;\n",
       "    }\n",
       "\n",
       "    .dataframe tbody tr th {\n",
       "        vertical-align: top;\n",
       "    }\n",
       "\n",
       "    .dataframe thead th {\n",
       "        text-align: right;\n",
       "    }\n",
       "</style>\n",
       "<table border=\"1\" class=\"dataframe\">\n",
       "  <thead>\n",
       "    <tr style=\"text-align: right;\">\n",
       "      <th></th>\n",
       "      <th>Player</th>\n",
       "      <th>Pos</th>\n",
       "      <th>Age</th>\n",
       "      <th>sPos</th>\n",
       "      <th>sAge</th>\n",
       "      <th>sTS%</th>\n",
       "      <th>s3PAr</th>\n",
       "      <th>sFTr</th>\n",
       "      <th>sORB%</th>\n",
       "      <th>sAST%</th>\n",
       "      <th>sTOV%</th>\n",
       "      <th>sUSG%</th>\n",
       "      <th>sSTL%</th>\n",
       "      <th>sBLK%</th>\n",
       "      <th>sDBPM</th>\n",
       "      <th>sDRAY</th>\n",
       "      <th>Similarity</th>\n",
       "      <th>Cluster_2</th>\n",
       "    </tr>\n",
       "  </thead>\n",
       "  <tbody>\n",
       "    <tr>\n",
       "      <th>0</th>\n",
       "      <td>Joel Embiid</td>\n",
       "      <td>5</td>\n",
       "      <td>24</td>\n",
       "      <td>1.59</td>\n",
       "      <td>-0.59</td>\n",
       "      <td>0.77</td>\n",
       "      <td>-0.79</td>\n",
       "      <td>2.67</td>\n",
       "      <td>1.02</td>\n",
       "      <td>0.38</td>\n",
       "      <td>0.42</td>\n",
       "      <td>2.58</td>\n",
       "      <td>-0.97</td>\n",
       "      <td>1.80</td>\n",
       "      <td>0.78</td>\n",
       "      <td>1.88</td>\n",
       "      <td>1.000</td>\n",
       "      <td>4</td>\n",
       "    </tr>\n",
       "    <tr>\n",
       "      <th>1</th>\n",
       "      <td>Anthony Davis</td>\n",
       "      <td>5</td>\n",
       "      <td>25</td>\n",
       "      <td>1.59</td>\n",
       "      <td>-0.34</td>\n",
       "      <td>0.86</td>\n",
       "      <td>-1.20</td>\n",
       "      <td>1.58</td>\n",
       "      <td>1.52</td>\n",
       "      <td>0.45</td>\n",
       "      <td>-1.08</td>\n",
       "      <td>1.85</td>\n",
       "      <td>1.26</td>\n",
       "      <td>2.87</td>\n",
       "      <td>1.97</td>\n",
       "      <td>0.89</td>\n",
       "      <td>0.874</td>\n",
       "      <td>4</td>\n",
       "    </tr>\n",
       "    <tr>\n",
       "      <th>2</th>\n",
       "      <td>Domantas Sabonis</td>\n",
       "      <td>5</td>\n",
       "      <td>22</td>\n",
       "      <td>1.59</td>\n",
       "      <td>-1.08</td>\n",
       "      <td>1.62</td>\n",
       "      <td>-1.81</td>\n",
       "      <td>1.53</td>\n",
       "      <td>1.96</td>\n",
       "      <td>0.35</td>\n",
       "      <td>1.35</td>\n",
       "      <td>0.71</td>\n",
       "      <td>-0.41</td>\n",
       "      <td>-0.14</td>\n",
       "      <td>1.12</td>\n",
       "      <td>0.14</td>\n",
       "      <td>0.865</td>\n",
       "      <td>4</td>\n",
       "    </tr>\n",
       "    <tr>\n",
       "      <th>3</th>\n",
       "      <td>Mason Plumlee</td>\n",
       "      <td>5</td>\n",
       "      <td>28</td>\n",
       "      <td>1.59</td>\n",
       "      <td>0.40</td>\n",
       "      <td>0.97</td>\n",
       "      <td>-1.81</td>\n",
       "      <td>1.82</td>\n",
       "      <td>1.63</td>\n",
       "      <td>0.50</td>\n",
       "      <td>2.29</td>\n",
       "      <td>-0.69</td>\n",
       "      <td>0.71</td>\n",
       "      <td>1.46</td>\n",
       "      <td>2.23</td>\n",
       "      <td>1.03</td>\n",
       "      <td>0.799</td>\n",
       "      <td>4</td>\n",
       "    </tr>\n",
       "    <tr>\n",
       "      <th>4</th>\n",
       "      <td>Ben Simmons</td>\n",
       "      <td>1</td>\n",
       "      <td>22</td>\n",
       "      <td>-1.29</td>\n",
       "      <td>-1.08</td>\n",
       "      <td>0.51</td>\n",
       "      <td>-1.90</td>\n",
       "      <td>1.80</td>\n",
       "      <td>0.69</td>\n",
       "      <td>2.18</td>\n",
       "      <td>2.32</td>\n",
       "      <td>0.44</td>\n",
       "      <td>0.89</td>\n",
       "      <td>0.06</td>\n",
       "      <td>1.12</td>\n",
       "      <td>0.74</td>\n",
       "      <td>0.409</td>\n",
       "      <td>3</td>\n",
       "    </tr>\n",
       "  </tbody>\n",
       "</table>\n",
       "</div>"
      ],
      "text/plain": [
       "             Player Pos Age  sPos  sAge  sTS%  s3PAr  sFTr  sORB%  sAST%  \\\n",
       "0       Joel Embiid   5  24  1.59 -0.59  0.77  -0.79  2.67   1.02   0.38   \n",
       "1     Anthony Davis   5  25  1.59 -0.34  0.86  -1.20  1.58   1.52   0.45   \n",
       "2  Domantas Sabonis   5  22  1.59 -1.08  1.62  -1.81  1.53   1.96   0.35   \n",
       "3     Mason Plumlee   5  28  1.59  0.40  0.97  -1.81  1.82   1.63   0.50   \n",
       "4       Ben Simmons   1  22 -1.29 -1.08  0.51  -1.90  1.80   0.69   2.18   \n",
       "\n",
       "   sTOV%  sUSG%  sSTL%  sBLK%  sDBPM  sDRAY  Similarity Cluster_2  \n",
       "0   0.42   2.58  -0.97   1.80   0.78   1.88       1.000         4  \n",
       "1  -1.08   1.85   1.26   2.87   1.97   0.89       0.874         4  \n",
       "2   1.35   0.71  -0.41  -0.14   1.12   0.14       0.865         4  \n",
       "3   2.29  -0.69   0.71   1.46   2.23   1.03       0.799         4  \n",
       "4   2.32   0.44   0.89   0.06   1.12   0.74       0.409         3  "
      ]
     },
     "execution_count": 561,
     "metadata": {},
     "output_type": "execute_result"
    }
   ],
   "source": [
    "comp_df"
   ]
  }
 ],
 "metadata": {
  "kernelspec": {
   "display_name": "Python 3",
   "language": "python",
   "name": "python3"
  },
  "language_info": {
   "codemirror_mode": {
    "name": "ipython",
    "version": 3
   },
   "file_extension": ".py",
   "mimetype": "text/x-python",
   "name": "python",
   "nbconvert_exporter": "python",
   "pygments_lexer": "ipython3",
   "version": "3.7.1"
  }
 },
 "nbformat": 4,
 "nbformat_minor": 2
}
