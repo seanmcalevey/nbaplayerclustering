{
 "cells": [
  {
   "cell_type": "markdown",
   "metadata": {},
   "source": [
    "### 1.0 Import Libraries"
   ]
  },
  {
   "cell_type": "code",
   "execution_count": 75,
   "metadata": {},
   "outputs": [],
   "source": [
    "import numpy as np\n",
    "from urllib.request import urlopen\n",
    "from bs4 import BeautifulSoup\n",
    "import pandas as pd\n",
    "import matplotlib.pyplot as plt"
   ]
  },
  {
   "cell_type": "markdown",
   "metadata": {},
   "source": [
    "### 2.0 Use BeautifulSoup and Urlopen to Retrieve Data"
   ]
  },
  {
   "cell_type": "code",
   "execution_count": 76,
   "metadata": {},
   "outputs": [],
   "source": [
    "url = 'https://www.basketball-reference.com/leagues/NBA_2019_advanced.html'\n",
    "\n",
    "html = urlopen(url)\n",
    "\n",
    "soup = BeautifulSoup(html)"
   ]
  },
  {
   "cell_type": "markdown",
   "metadata": {},
   "source": [
    "### 2.1 Get Headers from DataFrame"
   ]
  },
  {
   "cell_type": "code",
   "execution_count": 77,
   "metadata": {},
   "outputs": [],
   "source": [
    "# soup.findAll('tr', limit=2) is finding all 'tr' tags, limit=2 ..... And .getText() is pulling the text of 'th'\n",
    "headers = [th.getText() for th in soup.findAll('tr')[0].findAll('th')]\n",
    "\n",
    "headers = headers[1:]"
   ]
  },
  {
   "cell_type": "markdown",
   "metadata": {},
   "source": [
    "### 2.2 Get Data from Rows"
   ]
  },
  {
   "cell_type": "code",
   "execution_count": 78,
   "metadata": {},
   "outputs": [],
   "source": [
    "rows = soup.findAll('tr')\n",
    "\n",
    "player_stats_1 = [[td.getText() for td in rows[i].findAll('td')] for i in range(len(rows))]"
   ]
  },
  {
   "cell_type": "markdown",
   "metadata": {},
   "source": [
    "### 3.0 Create DataFrame"
   ]
  },
  {
   "cell_type": "code",
   "execution_count": 79,
   "metadata": {},
   "outputs": [],
   "source": [
    "og_df = pd.DataFrame(data=player_stats_1[1:], columns=headers)"
   ]
  },
  {
   "cell_type": "code",
   "execution_count": 80,
   "metadata": {},
   "outputs": [
    {
     "data": {
      "text/html": [
       "<div>\n",
       "<style scoped>\n",
       "    .dataframe tbody tr th:only-of-type {\n",
       "        vertical-align: middle;\n",
       "    }\n",
       "\n",
       "    .dataframe tbody tr th {\n",
       "        vertical-align: top;\n",
       "    }\n",
       "\n",
       "    .dataframe thead th {\n",
       "        text-align: right;\n",
       "    }\n",
       "</style>\n",
       "<table border=\"1\" class=\"dataframe\">\n",
       "  <thead>\n",
       "    <tr style=\"text-align: right;\">\n",
       "      <th></th>\n",
       "      <th>Player</th>\n",
       "      <th>Pos</th>\n",
       "      <th>Age</th>\n",
       "      <th>Tm</th>\n",
       "      <th>G</th>\n",
       "      <th>MP</th>\n",
       "      <th>PER</th>\n",
       "      <th>TS%</th>\n",
       "      <th>3PAr</th>\n",
       "      <th>FTr</th>\n",
       "      <th>...</th>\n",
       "      <th></th>\n",
       "      <th>OWS</th>\n",
       "      <th>DWS</th>\n",
       "      <th>WS</th>\n",
       "      <th>WS/48</th>\n",
       "      <th></th>\n",
       "      <th>OBPM</th>\n",
       "      <th>DBPM</th>\n",
       "      <th>BPM</th>\n",
       "      <th>VORP</th>\n",
       "    </tr>\n",
       "  </thead>\n",
       "  <tbody>\n",
       "    <tr>\n",
       "      <th>0</th>\n",
       "      <td>Álex Abrines</td>\n",
       "      <td>SG</td>\n",
       "      <td>25</td>\n",
       "      <td>OKC</td>\n",
       "      <td>31</td>\n",
       "      <td>588</td>\n",
       "      <td>6.3</td>\n",
       "      <td>.507</td>\n",
       "      <td>.809</td>\n",
       "      <td>.083</td>\n",
       "      <td>...</td>\n",
       "      <td></td>\n",
       "      <td>0.1</td>\n",
       "      <td>0.6</td>\n",
       "      <td>0.6</td>\n",
       "      <td>.053</td>\n",
       "      <td></td>\n",
       "      <td>-2.4</td>\n",
       "      <td>-0.9</td>\n",
       "      <td>-3.4</td>\n",
       "      <td>-0.2</td>\n",
       "    </tr>\n",
       "    <tr>\n",
       "      <th>1</th>\n",
       "      <td>Quincy Acy</td>\n",
       "      <td>PF</td>\n",
       "      <td>28</td>\n",
       "      <td>PHO</td>\n",
       "      <td>10</td>\n",
       "      <td>123</td>\n",
       "      <td>2.9</td>\n",
       "      <td>.379</td>\n",
       "      <td>.833</td>\n",
       "      <td>.556</td>\n",
       "      <td>...</td>\n",
       "      <td></td>\n",
       "      <td>-0.1</td>\n",
       "      <td>0.0</td>\n",
       "      <td>-0.1</td>\n",
       "      <td>-0.022</td>\n",
       "      <td></td>\n",
       "      <td>-5.7</td>\n",
       "      <td>-0.3</td>\n",
       "      <td>-5.9</td>\n",
       "      <td>-0.1</td>\n",
       "    </tr>\n",
       "    <tr>\n",
       "      <th>2</th>\n",
       "      <td>Jaylen Adams</td>\n",
       "      <td>PG</td>\n",
       "      <td>22</td>\n",
       "      <td>ATL</td>\n",
       "      <td>34</td>\n",
       "      <td>428</td>\n",
       "      <td>7.6</td>\n",
       "      <td>.474</td>\n",
       "      <td>.673</td>\n",
       "      <td>.082</td>\n",
       "      <td>...</td>\n",
       "      <td></td>\n",
       "      <td>-0.1</td>\n",
       "      <td>0.2</td>\n",
       "      <td>0.1</td>\n",
       "      <td>.011</td>\n",
       "      <td></td>\n",
       "      <td>-3.1</td>\n",
       "      <td>-1.3</td>\n",
       "      <td>-4.4</td>\n",
       "      <td>-0.3</td>\n",
       "    </tr>\n",
       "    <tr>\n",
       "      <th>3</th>\n",
       "      <td>Steven Adams</td>\n",
       "      <td>C</td>\n",
       "      <td>25</td>\n",
       "      <td>OKC</td>\n",
       "      <td>80</td>\n",
       "      <td>2669</td>\n",
       "      <td>18.5</td>\n",
       "      <td>.591</td>\n",
       "      <td>.002</td>\n",
       "      <td>.361</td>\n",
       "      <td>...</td>\n",
       "      <td></td>\n",
       "      <td>5.1</td>\n",
       "      <td>4.0</td>\n",
       "      <td>9.1</td>\n",
       "      <td>.163</td>\n",
       "      <td></td>\n",
       "      <td>0.6</td>\n",
       "      <td>2.1</td>\n",
       "      <td>2.7</td>\n",
       "      <td>3.2</td>\n",
       "    </tr>\n",
       "    <tr>\n",
       "      <th>4</th>\n",
       "      <td>Bam Adebayo</td>\n",
       "      <td>C</td>\n",
       "      <td>21</td>\n",
       "      <td>MIA</td>\n",
       "      <td>82</td>\n",
       "      <td>1913</td>\n",
       "      <td>17.9</td>\n",
       "      <td>.623</td>\n",
       "      <td>.031</td>\n",
       "      <td>.465</td>\n",
       "      <td>...</td>\n",
       "      <td></td>\n",
       "      <td>3.4</td>\n",
       "      <td>3.4</td>\n",
       "      <td>6.8</td>\n",
       "      <td>.171</td>\n",
       "      <td></td>\n",
       "      <td>-0.6</td>\n",
       "      <td>3.6</td>\n",
       "      <td>3.0</td>\n",
       "      <td>2.4</td>\n",
       "    </tr>\n",
       "  </tbody>\n",
       "</table>\n",
       "<p>5 rows × 28 columns</p>\n",
       "</div>"
      ],
      "text/plain": [
       "         Player Pos Age   Tm   G    MP   PER   TS%  3PAr   FTr  ...     OWS  \\\n",
       "0  Álex Abrines  SG  25  OKC  31   588   6.3  .507  .809  .083  ...     0.1   \n",
       "1    Quincy Acy  PF  28  PHO  10   123   2.9  .379  .833  .556  ...    -0.1   \n",
       "2  Jaylen Adams  PG  22  ATL  34   428   7.6  .474  .673  .082  ...    -0.1   \n",
       "3  Steven Adams   C  25  OKC  80  2669  18.5  .591  .002  .361  ...     5.1   \n",
       "4   Bam Adebayo   C  21  MIA  82  1913  17.9  .623  .031  .465  ...     3.4   \n",
       "\n",
       "   DWS    WS   WS/48    OBPM  DBPM   BPM  VORP  \n",
       "0  0.6   0.6    .053    -2.4  -0.9  -3.4  -0.2  \n",
       "1  0.0  -0.1  -0.022    -5.7  -0.3  -5.9  -0.1  \n",
       "2  0.2   0.1    .011    -3.1  -1.3  -4.4  -0.3  \n",
       "3  4.0   9.1    .163     0.6   2.1   2.7   3.2  \n",
       "4  3.4   6.8    .171    -0.6   3.6   3.0   2.4  \n",
       "\n",
       "[5 rows x 28 columns]"
      ]
     },
     "execution_count": 80,
     "metadata": {},
     "output_type": "execute_result"
    }
   ],
   "source": [
    "og_df.head()"
   ]
  },
  {
   "cell_type": "code",
   "execution_count": 81,
   "metadata": {},
   "outputs": [],
   "source": [
    "og_df['MP'] = og_df['MP'].apply(pd.to_numeric, errors='coerce')"
   ]
  },
  {
   "cell_type": "markdown",
   "metadata": {},
   "source": [
    "### 3.1 Control Size of Player Sample by Minimum Minutes Played"
   ]
  },
  {
   "cell_type": "code",
   "execution_count": 82,
   "metadata": {},
   "outputs": [],
   "source": [
    "min_mins_played = 1000\n",
    "\n",
    "og_df = og_df[og_df['MP'] > min_mins_played]\n",
    "\n",
    "og_df = og_df.reset_index()\n",
    "\n",
    "og_df = og_df.drop('index',axis=1)"
   ]
  },
  {
   "cell_type": "code",
   "execution_count": 83,
   "metadata": {},
   "outputs": [],
   "source": [
    "df = og_df.copy()"
   ]
  },
  {
   "cell_type": "markdown",
   "metadata": {},
   "source": [
    "### 4.0 Convert to Numbers and Drop Unnecessary Columns"
   ]
  },
  {
   "cell_type": "code",
   "execution_count": 84,
   "metadata": {},
   "outputs": [],
   "source": [
    "# Convert everything but player names and positions to numbers and coerce non-numbers into NaNs\n",
    "df = df.iloc[:,2:].apply(pd.to_numeric, errors='coerce')"
   ]
  },
  {
   "cell_type": "code",
   "execution_count": 85,
   "metadata": {},
   "outputs": [],
   "source": [
    "# Save list of player names and positions for later\n",
    "df['Player'] = og_df['Player']\n",
    "df['Pos'] = og_df['Pos']"
   ]
  },
  {
   "cell_type": "code",
   "execution_count": 86,
   "metadata": {},
   "outputs": [],
   "source": [
    "# Keep specific columns\n",
    "columns_to_keep = ['Player', 'Pos', 'Age', 'TS%', '3PAr', 'FTr', 'ORB%', \n",
    "                   'AST%', 'TOV%', 'USG%', 'STL%', 'BLK%', 'DBPM', 'WS']\n",
    "\n",
    "df = pd.DataFrame(df[columns_to_keep], columns=columns_to_keep)"
   ]
  },
  {
   "cell_type": "code",
   "execution_count": 87,
   "metadata": {},
   "outputs": [],
   "source": [
    "# Converts ordinal variable (Pos) into numeric\n",
    "df['Pos'] = df['Pos'].map({'PG': 1, 'SG': 2, 'SF': 3, 'PF': 4, 'C': 5})"
   ]
  },
  {
   "cell_type": "code",
   "execution_count": 88,
   "metadata": {},
   "outputs": [],
   "source": [
    "df = df.dropna()"
   ]
  },
  {
   "cell_type": "code",
   "execution_count": 89,
   "metadata": {
    "scrolled": true
   },
   "outputs": [
    {
     "data": {
      "text/html": [
       "<div>\n",
       "<style scoped>\n",
       "    .dataframe tbody tr th:only-of-type {\n",
       "        vertical-align: middle;\n",
       "    }\n",
       "\n",
       "    .dataframe tbody tr th {\n",
       "        vertical-align: top;\n",
       "    }\n",
       "\n",
       "    .dataframe thead th {\n",
       "        text-align: right;\n",
       "    }\n",
       "</style>\n",
       "<table border=\"1\" class=\"dataframe\">\n",
       "  <thead>\n",
       "    <tr style=\"text-align: right;\">\n",
       "      <th></th>\n",
       "      <th>Player</th>\n",
       "      <th>Pos</th>\n",
       "      <th>Age</th>\n",
       "      <th>TS%</th>\n",
       "      <th>3PAr</th>\n",
       "      <th>FTr</th>\n",
       "      <th>ORB%</th>\n",
       "      <th>AST%</th>\n",
       "      <th>TOV%</th>\n",
       "      <th>USG%</th>\n",
       "      <th>STL%</th>\n",
       "      <th>BLK%</th>\n",
       "      <th>DBPM</th>\n",
       "      <th>WS</th>\n",
       "    </tr>\n",
       "  </thead>\n",
       "  <tbody>\n",
       "    <tr>\n",
       "      <th>0</th>\n",
       "      <td>Steven Adams</td>\n",
       "      <td>5.0</td>\n",
       "      <td>25</td>\n",
       "      <td>0.591</td>\n",
       "      <td>0.002</td>\n",
       "      <td>0.361</td>\n",
       "      <td>14.7</td>\n",
       "      <td>6.6</td>\n",
       "      <td>12.6</td>\n",
       "      <td>16.4</td>\n",
       "      <td>2.0</td>\n",
       "      <td>2.4</td>\n",
       "      <td>2.1</td>\n",
       "      <td>9.1</td>\n",
       "    </tr>\n",
       "    <tr>\n",
       "      <th>1</th>\n",
       "      <td>Bam Adebayo</td>\n",
       "      <td>5.0</td>\n",
       "      <td>21</td>\n",
       "      <td>0.623</td>\n",
       "      <td>0.031</td>\n",
       "      <td>0.465</td>\n",
       "      <td>9.2</td>\n",
       "      <td>14.2</td>\n",
       "      <td>17.1</td>\n",
       "      <td>15.8</td>\n",
       "      <td>1.8</td>\n",
       "      <td>3.0</td>\n",
       "      <td>3.6</td>\n",
       "      <td>6.8</td>\n",
       "    </tr>\n",
       "    <tr>\n",
       "      <th>2</th>\n",
       "      <td>LaMarcus Aldridge</td>\n",
       "      <td>5.0</td>\n",
       "      <td>33</td>\n",
       "      <td>0.576</td>\n",
       "      <td>0.032</td>\n",
       "      <td>0.312</td>\n",
       "      <td>10.3</td>\n",
       "      <td>11.6</td>\n",
       "      <td>8.8</td>\n",
       "      <td>26.9</td>\n",
       "      <td>0.8</td>\n",
       "      <td>3.4</td>\n",
       "      <td>0.5</td>\n",
       "      <td>9.3</td>\n",
       "    </tr>\n",
       "    <tr>\n",
       "      <th>3</th>\n",
       "      <td>Jarrett Allen</td>\n",
       "      <td>5.0</td>\n",
       "      <td>20</td>\n",
       "      <td>0.632</td>\n",
       "      <td>0.079</td>\n",
       "      <td>0.489</td>\n",
       "      <td>9.6</td>\n",
       "      <td>7.9</td>\n",
       "      <td>13.0</td>\n",
       "      <td>15.9</td>\n",
       "      <td>1.0</td>\n",
       "      <td>4.5</td>\n",
       "      <td>3.2</td>\n",
       "      <td>7.6</td>\n",
       "    </tr>\n",
       "    <tr>\n",
       "      <th>4</th>\n",
       "      <td>Al-Farouq Aminu</td>\n",
       "      <td>4.0</td>\n",
       "      <td>28</td>\n",
       "      <td>0.568</td>\n",
       "      <td>0.472</td>\n",
       "      <td>0.292</td>\n",
       "      <td>5.3</td>\n",
       "      <td>6.0</td>\n",
       "      <td>9.7</td>\n",
       "      <td>13.7</td>\n",
       "      <td>1.4</td>\n",
       "      <td>1.2</td>\n",
       "      <td>0.8</td>\n",
       "      <td>5.8</td>\n",
       "    </tr>\n",
       "  </tbody>\n",
       "</table>\n",
       "</div>"
      ],
      "text/plain": [
       "              Player  Pos  Age    TS%   3PAr    FTr  ORB%  AST%  TOV%  USG%  \\\n",
       "0       Steven Adams  5.0   25  0.591  0.002  0.361  14.7   6.6  12.6  16.4   \n",
       "1        Bam Adebayo  5.0   21  0.623  0.031  0.465   9.2  14.2  17.1  15.8   \n",
       "2  LaMarcus Aldridge  5.0   33  0.576  0.032  0.312  10.3  11.6   8.8  26.9   \n",
       "3      Jarrett Allen  5.0   20  0.632  0.079  0.489   9.6   7.9  13.0  15.9   \n",
       "4    Al-Farouq Aminu  4.0   28  0.568  0.472  0.292   5.3   6.0   9.7  13.7   \n",
       "\n",
       "   STL%  BLK%  DBPM   WS  \n",
       "0   2.0   2.4   2.1  9.1  \n",
       "1   1.8   3.0   3.6  6.8  \n",
       "2   0.8   3.4   0.5  9.3  \n",
       "3   1.0   4.5   3.2  7.6  \n",
       "4   1.4   1.2   0.8  5.8  "
      ]
     },
     "execution_count": 89,
     "metadata": {},
     "output_type": "execute_result"
    }
   ],
   "source": [
    "df.head()"
   ]
  },
  {
   "cell_type": "markdown",
   "metadata": {},
   "source": [
    "### 4.1 Import 'DRAYMOND' data from FiveThirtyEight"
   ]
  },
  {
   "cell_type": "code",
   "execution_count": 90,
   "metadata": {},
   "outputs": [],
   "source": [
    "df1 = pd.read_csv('draymond.csv', sep=',')"
   ]
  },
  {
   "cell_type": "code",
   "execution_count": 91,
   "metadata": {},
   "outputs": [],
   "source": [
    "df1 = df1[df1['season'] == 2019]"
   ]
  },
  {
   "cell_type": "code",
   "execution_count": 92,
   "metadata": {},
   "outputs": [],
   "source": [
    "total_df = pd.merge(df, df1, left_on='Player', right_on='player')"
   ]
  },
  {
   "cell_type": "code",
   "execution_count": 93,
   "metadata": {},
   "outputs": [],
   "source": [
    "total_df = total_df.drop(['player', 'season', 'possessions'], axis=1)"
   ]
  },
  {
   "cell_type": "code",
   "execution_count": 94,
   "metadata": {},
   "outputs": [
    {
     "data": {
      "text/html": [
       "<div>\n",
       "<style scoped>\n",
       "    .dataframe tbody tr th:only-of-type {\n",
       "        vertical-align: middle;\n",
       "    }\n",
       "\n",
       "    .dataframe tbody tr th {\n",
       "        vertical-align: top;\n",
       "    }\n",
       "\n",
       "    .dataframe thead th {\n",
       "        text-align: right;\n",
       "    }\n",
       "</style>\n",
       "<table border=\"1\" class=\"dataframe\">\n",
       "  <thead>\n",
       "    <tr style=\"text-align: right;\">\n",
       "      <th></th>\n",
       "      <th>Player</th>\n",
       "      <th>Pos</th>\n",
       "      <th>Age</th>\n",
       "      <th>TS%</th>\n",
       "      <th>3PAr</th>\n",
       "      <th>FTr</th>\n",
       "      <th>ORB%</th>\n",
       "      <th>AST%</th>\n",
       "      <th>TOV%</th>\n",
       "      <th>USG%</th>\n",
       "      <th>STL%</th>\n",
       "      <th>BLK%</th>\n",
       "      <th>DBPM</th>\n",
       "      <th>DRAYMOND</th>\n",
       "      <th>WS</th>\n",
       "    </tr>\n",
       "  </thead>\n",
       "  <tbody>\n",
       "    <tr>\n",
       "      <th>0</th>\n",
       "      <td>Steven Adams</td>\n",
       "      <td>5.0</td>\n",
       "      <td>25</td>\n",
       "      <td>0.591</td>\n",
       "      <td>0.002</td>\n",
       "      <td>0.361</td>\n",
       "      <td>14.7</td>\n",
       "      <td>6.6</td>\n",
       "      <td>12.6</td>\n",
       "      <td>16.4</td>\n",
       "      <td>2.0</td>\n",
       "      <td>2.4</td>\n",
       "      <td>2.1</td>\n",
       "      <td>0.776581</td>\n",
       "      <td>9.1</td>\n",
       "    </tr>\n",
       "    <tr>\n",
       "      <th>1</th>\n",
       "      <td>Bam Adebayo</td>\n",
       "      <td>5.0</td>\n",
       "      <td>21</td>\n",
       "      <td>0.623</td>\n",
       "      <td>0.031</td>\n",
       "      <td>0.465</td>\n",
       "      <td>9.2</td>\n",
       "      <td>14.2</td>\n",
       "      <td>17.1</td>\n",
       "      <td>15.8</td>\n",
       "      <td>1.8</td>\n",
       "      <td>3.0</td>\n",
       "      <td>3.6</td>\n",
       "      <td>0.734847</td>\n",
       "      <td>6.8</td>\n",
       "    </tr>\n",
       "    <tr>\n",
       "      <th>2</th>\n",
       "      <td>LaMarcus Aldridge</td>\n",
       "      <td>5.0</td>\n",
       "      <td>33</td>\n",
       "      <td>0.576</td>\n",
       "      <td>0.032</td>\n",
       "      <td>0.312</td>\n",
       "      <td>10.3</td>\n",
       "      <td>11.6</td>\n",
       "      <td>8.8</td>\n",
       "      <td>26.9</td>\n",
       "      <td>0.8</td>\n",
       "      <td>3.4</td>\n",
       "      <td>0.5</td>\n",
       "      <td>1.818261</td>\n",
       "      <td>9.3</td>\n",
       "    </tr>\n",
       "    <tr>\n",
       "      <th>3</th>\n",
       "      <td>Jarrett Allen</td>\n",
       "      <td>5.0</td>\n",
       "      <td>20</td>\n",
       "      <td>0.632</td>\n",
       "      <td>0.079</td>\n",
       "      <td>0.489</td>\n",
       "      <td>9.6</td>\n",
       "      <td>7.9</td>\n",
       "      <td>13.0</td>\n",
       "      <td>15.9</td>\n",
       "      <td>1.0</td>\n",
       "      <td>4.5</td>\n",
       "      <td>3.2</td>\n",
       "      <td>0.870878</td>\n",
       "      <td>7.6</td>\n",
       "    </tr>\n",
       "    <tr>\n",
       "      <th>4</th>\n",
       "      <td>Al-Farouq Aminu</td>\n",
       "      <td>4.0</td>\n",
       "      <td>28</td>\n",
       "      <td>0.568</td>\n",
       "      <td>0.472</td>\n",
       "      <td>0.292</td>\n",
       "      <td>5.3</td>\n",
       "      <td>6.0</td>\n",
       "      <td>9.7</td>\n",
       "      <td>13.7</td>\n",
       "      <td>1.4</td>\n",
       "      <td>1.2</td>\n",
       "      <td>0.8</td>\n",
       "      <td>-0.922840</td>\n",
       "      <td>5.8</td>\n",
       "    </tr>\n",
       "  </tbody>\n",
       "</table>\n",
       "</div>"
      ],
      "text/plain": [
       "              Player  Pos  Age    TS%   3PAr    FTr  ORB%  AST%  TOV%  USG%  \\\n",
       "0       Steven Adams  5.0   25  0.591  0.002  0.361  14.7   6.6  12.6  16.4   \n",
       "1        Bam Adebayo  5.0   21  0.623  0.031  0.465   9.2  14.2  17.1  15.8   \n",
       "2  LaMarcus Aldridge  5.0   33  0.576  0.032  0.312  10.3  11.6   8.8  26.9   \n",
       "3      Jarrett Allen  5.0   20  0.632  0.079  0.489   9.6   7.9  13.0  15.9   \n",
       "4    Al-Farouq Aminu  4.0   28  0.568  0.472  0.292   5.3   6.0   9.7  13.7   \n",
       "\n",
       "   STL%  BLK%  DBPM  DRAYMOND   WS  \n",
       "0   2.0   2.4   2.1  0.776581  9.1  \n",
       "1   1.8   3.0   3.6  0.734847  6.8  \n",
       "2   0.8   3.4   0.5  1.818261  9.3  \n",
       "3   1.0   4.5   3.2  0.870878  7.6  \n",
       "4   1.4   1.2   0.8 -0.922840  5.8  "
      ]
     },
     "execution_count": 94,
     "metadata": {},
     "output_type": "execute_result"
    }
   ],
   "source": [
    "total_df = total_df[['Player', 'Pos', 'Age', 'TS%', '3PAr', 'FTr', 'ORB%', 'AST%', 'TOV%',\n",
    "       'USG%', 'STL%', 'BLK%', 'DBPM', 'DRAYMOND', 'WS']]\n",
    "\n",
    "total_df.head()"
   ]
  },
  {
   "cell_type": "code",
   "execution_count": 95,
   "metadata": {},
   "outputs": [
    {
     "name": "stdout",
     "output_type": "stream",
     "text": [
      "There are 244 unique players who qualify for this clustering.\n",
      "There are 264 total player names in this dataframe.\n"
     ]
    }
   ],
   "source": [
    "print('There are ' + str(len(total_df['Player'].unique())) + ' unique players who qualify for this clustering.')\n",
    "print('There are ' + str(len(total_df)) + ' total player names in this dataframe.')"
   ]
  },
  {
   "cell_type": "markdown",
   "metadata": {},
   "source": [
    "### 4.2 Convert Pandas DataFrame into Matrix for Processing"
   ]
  },
  {
   "cell_type": "code",
   "execution_count": 96,
   "metadata": {},
   "outputs": [],
   "source": [
    "df_as_matrix = total_df.values"
   ]
  },
  {
   "cell_type": "markdown",
   "metadata": {},
   "source": [
    "### 5.0 Import and Scale Vectors"
   ]
  },
  {
   "cell_type": "code",
   "execution_count": 97,
   "metadata": {},
   "outputs": [],
   "source": [
    "from sklearn.preprocessing import scale"
   ]
  },
  {
   "cell_type": "code",
   "execution_count": 98,
   "metadata": {},
   "outputs": [
    {
     "name": "stderr",
     "output_type": "stream",
     "text": [
      "/Users/seanmcalevey/anaconda3/lib/python3.7/site-packages/sklearn/utils/validation.py:595: DataConversionWarning: Data with input dtype object was converted to float64 by the scale function.\n",
      "  warnings.warn(msg, DataConversionWarning)\n"
     ]
    }
   ],
   "source": [
    "scaled_vectors = scale(df_as_matrix[:,1:-1], axis=0)"
   ]
  },
  {
   "cell_type": "markdown",
   "metadata": {},
   "source": [
    "### 5.01 Control Center"
   ]
  },
  {
   "cell_type": "code",
   "execution_count": 100,
   "metadata": {},
   "outputs": [],
   "source": [
    "# PCA Control: \n",
    "\n",
    "n_components = 3 # Could increase to '4' to retain more info...\n",
    "\n",
    "# First cluster:\n",
    "\n",
    "num_clusters = 5 # For the five standard position groups\n",
    "\n",
    "# First LDA:\n",
    "\n",
    "number_of_components = 2 # To reduce to 2 dimensions\n",
    "\n",
    "# Second cluster:\n",
    "\n",
    "num_clusters_2 = 7 # Use elbow method to determine"
   ]
  },
  {
   "cell_type": "markdown",
   "metadata": {},
   "source": [
    "### 5.1 Import PCA and Reduce Dimensionality"
   ]
  },
  {
   "cell_type": "code",
   "execution_count": 101,
   "metadata": {},
   "outputs": [],
   "source": [
    "from sklearn.decomposition import PCA"
   ]
  },
  {
   "cell_type": "code",
   "execution_count": 102,
   "metadata": {},
   "outputs": [],
   "source": [
    "def pca_reduce(n_components, scaled_vectors):\n",
    "    \n",
    "    pca = PCA(n_components)\n",
    "    \n",
    "    dim_reduction = pca.fit_transform(scaled_vectors)\n",
    "    \n",
    "    explained_variance_1 = round(100*sum(pca.explained_variance_ratio_), 3)\n",
    "\n",
    "    print('Retained info after PCA: ' + str(explained_variance_1) + '%')\n",
    "    \n",
    "    return dim_reduction, explained_variance_1, pca"
   ]
  },
  {
   "cell_type": "code",
   "execution_count": 103,
   "metadata": {},
   "outputs": [
    {
     "name": "stdout",
     "output_type": "stream",
     "text": [
      "Retained info after PCA: 64.263%\n"
     ]
    }
   ],
   "source": [
    "dim_reduction, explained_variance_1, pca = pca_reduce(n_components, scaled_vectors)"
   ]
  },
  {
   "cell_type": "code",
   "execution_count": 104,
   "metadata": {},
   "outputs": [
    {
     "data": {
      "text/plain": [
       "array([[ 0.37630133, -0.04966449,  0.28717782, -0.3174387 ,  0.30041074,\n",
       "         0.4074001 , -0.12226985,  0.08011104, -0.01514797, -0.01116329,\n",
       "         0.39724897,  0.36430781,  0.32283459],\n",
       "       [-0.213441  ,  0.05423354, -0.0600775 , -0.26815191,  0.28533954,\n",
       "        -0.0331927 ,  0.57857517,  0.42368777,  0.39363247,  0.33062691,\n",
       "        -0.05982291,  0.08863698, -0.05924494],\n",
       "       [-0.10006785,  0.08725406, -0.29460785,  0.1634279 , -0.27731924,\n",
       "        -0.09549361, -0.03602599,  0.21574188, -0.46862132,  0.52268685,\n",
       "         0.14731797,  0.42524413,  0.19914978]])"
      ]
     },
     "execution_count": 104,
     "metadata": {},
     "output_type": "execute_result"
    }
   ],
   "source": [
    "pca.components_"
   ]
  },
  {
   "cell_type": "code",
   "execution_count": 105,
   "metadata": {},
   "outputs": [],
   "source": [
    "reduced_df = total_df.copy()\n",
    "\n",
    "reduced_df['PCA1'] = [dim_reduction[x][0] for x in range(len(dim_reduction))]\n",
    "\n",
    "reduced_df['PCA2'] = [dim_reduction[x][1] for x in range(len(dim_reduction))]\n",
    "\n",
    "reduced_df['PCA3'] = [dim_reduction[x][2] for x in range(len(dim_reduction))]"
   ]
  },
  {
   "cell_type": "markdown",
   "metadata": {},
   "source": [
    "### 5.2 Cluster with KMeans"
   ]
  },
  {
   "cell_type": "code",
   "execution_count": 106,
   "metadata": {},
   "outputs": [],
   "source": [
    "from sklearn.cluster import KMeans"
   ]
  },
  {
   "cell_type": "code",
   "execution_count": 107,
   "metadata": {},
   "outputs": [],
   "source": [
    "def cluster_kmeans(num_clusters, dim_reduction, random_state=40):\n",
    "    \n",
    "    cluster = KMeans(num_clusters, random_state=random_state)\n",
    "    \n",
    "    clusters = cluster.fit_predict(dim_reduction)\n",
    "    \n",
    "    return clusters"
   ]
  },
  {
   "cell_type": "code",
   "execution_count": 108,
   "metadata": {},
   "outputs": [],
   "source": [
    "clusters = cluster_kmeans(num_clusters, dim_reduction, random_state=40)"
   ]
  },
  {
   "cell_type": "code",
   "execution_count": 110,
   "metadata": {},
   "outputs": [],
   "source": [
    "reduced_df['Cluster'] = clusters\n",
    "\n",
    "reduced_df = reduced_df.reset_index(drop=True)"
   ]
  },
  {
   "cell_type": "markdown",
   "metadata": {},
   "source": [
    "### 5.3 Cluster Averages Table"
   ]
  },
  {
   "cell_type": "code",
   "execution_count": 111,
   "metadata": {},
   "outputs": [],
   "source": [
    "averages_dict = {}\n",
    "\n",
    "total_per_cluster = {}\n",
    "\n",
    "for cluster in reduced_df['Cluster'].unique():\n",
    "    \n",
    "    cluster_group = reduced_df[reduced_df['Cluster'] == cluster]\n",
    "    \n",
    "    averages_dict[cluster] = np.mean(cluster_group)\n",
    "    \n",
    "    total_per_cluster[cluster] = len(cluster_group)"
   ]
  },
  {
   "cell_type": "code",
   "execution_count": 112,
   "metadata": {},
   "outputs": [],
   "source": [
    "averages_df = pd.DataFrame.from_dict(averages_dict, orient='index', columns=reduced_df.drop('Player',axis=1).columns)"
   ]
  },
  {
   "cell_type": "code",
   "execution_count": 113,
   "metadata": {},
   "outputs": [],
   "source": [
    "averages_df['Total Players'] = total_per_cluster.values()"
   ]
  },
  {
   "cell_type": "code",
   "execution_count": 114,
   "metadata": {},
   "outputs": [],
   "source": [
    "averages_df = averages_df.apply(lambda x: round(x, 3))"
   ]
  },
  {
   "cell_type": "code",
   "execution_count": 115,
   "metadata": {},
   "outputs": [],
   "source": [
    "averages_df = averages_df[['Cluster', 'Pos', 'Age', 'TS%', '3PAr', 'FTr', 'ORB%', 'AST%', 'TOV%', 'USG%',\n",
    "       'STL%', 'BLK%', 'DBPM', 'DRAYMOND', 'Total Players']]"
   ]
  },
  {
   "cell_type": "code",
   "execution_count": 116,
   "metadata": {},
   "outputs": [],
   "source": [
    "averages_df['Cluster'] = averages_df['Cluster'].apply(lambda x: int(x))\n",
    "\n",
    "averages_df = averages_df.sort_values(by='Pos', ascending=True)\n",
    "\n",
    "averages_df['Cluster Name'] = ['Point guards', 'Shooting guards', 'Small forwards', 'Power forwards', 'Centers']"
   ]
  },
  {
   "cell_type": "code",
   "execution_count": 117,
   "metadata": {},
   "outputs": [
    {
     "data": {
      "text/html": [
       "<div>\n",
       "<style scoped>\n",
       "    .dataframe tbody tr th:only-of-type {\n",
       "        vertical-align: middle;\n",
       "    }\n",
       "\n",
       "    .dataframe tbody tr th {\n",
       "        vertical-align: top;\n",
       "    }\n",
       "\n",
       "    .dataframe thead th {\n",
       "        text-align: right;\n",
       "    }\n",
       "</style>\n",
       "<table border=\"1\" class=\"dataframe\">\n",
       "  <thead>\n",
       "    <tr style=\"text-align: right;\">\n",
       "      <th></th>\n",
       "      <th>Cluster</th>\n",
       "      <th>Pos</th>\n",
       "      <th>Age</th>\n",
       "      <th>TS%</th>\n",
       "      <th>3PAr</th>\n",
       "      <th>FTr</th>\n",
       "      <th>ORB%</th>\n",
       "      <th>AST%</th>\n",
       "      <th>TOV%</th>\n",
       "      <th>USG%</th>\n",
       "      <th>STL%</th>\n",
       "      <th>BLK%</th>\n",
       "      <th>DBPM</th>\n",
       "      <th>DRAYMOND</th>\n",
       "      <th>Total Players</th>\n",
       "      <th>Cluster Name</th>\n",
       "    </tr>\n",
       "  </thead>\n",
       "  <tbody>\n",
       "    <tr>\n",
       "      <th>2</th>\n",
       "      <td>2</td>\n",
       "      <td>1.439</td>\n",
       "      <td>27.632</td>\n",
       "      <td>0.545</td>\n",
       "      <td>0.342</td>\n",
       "      <td>0.280</td>\n",
       "      <td>2.468</td>\n",
       "      <td>28.323</td>\n",
       "      <td>13.888</td>\n",
       "      <td>24.807</td>\n",
       "      <td>1.756</td>\n",
       "      <td>0.918</td>\n",
       "      <td>-0.793</td>\n",
       "      <td>-0.594</td>\n",
       "      <td>57</td>\n",
       "      <td>Point guards</td>\n",
       "    </tr>\n",
       "    <tr>\n",
       "      <th>1</th>\n",
       "      <td>1</td>\n",
       "      <td>2.204</td>\n",
       "      <td>26.510</td>\n",
       "      <td>0.536</td>\n",
       "      <td>0.445</td>\n",
       "      <td>0.187</td>\n",
       "      <td>3.049</td>\n",
       "      <td>13.780</td>\n",
       "      <td>13.122</td>\n",
       "      <td>15.561</td>\n",
       "      <td>1.973</td>\n",
       "      <td>1.559</td>\n",
       "      <td>0.890</td>\n",
       "      <td>0.455</td>\n",
       "      <td>49</td>\n",
       "      <td>Shooting guards</td>\n",
       "    </tr>\n",
       "    <tr>\n",
       "      <th>4</th>\n",
       "      <td>4</td>\n",
       "      <td>2.534</td>\n",
       "      <td>26.295</td>\n",
       "      <td>0.552</td>\n",
       "      <td>0.505</td>\n",
       "      <td>0.179</td>\n",
       "      <td>2.686</td>\n",
       "      <td>10.369</td>\n",
       "      <td>9.485</td>\n",
       "      <td>18.370</td>\n",
       "      <td>1.199</td>\n",
       "      <td>0.935</td>\n",
       "      <td>-1.288</td>\n",
       "      <td>-0.591</td>\n",
       "      <td>88</td>\n",
       "      <td>Small forwards</td>\n",
       "    </tr>\n",
       "    <tr>\n",
       "      <th>0</th>\n",
       "      <td>0</td>\n",
       "      <td>4.233</td>\n",
       "      <td>26.674</td>\n",
       "      <td>0.581</td>\n",
       "      <td>0.253</td>\n",
       "      <td>0.289</td>\n",
       "      <td>6.912</td>\n",
       "      <td>12.144</td>\n",
       "      <td>11.667</td>\n",
       "      <td>20.670</td>\n",
       "      <td>1.319</td>\n",
       "      <td>2.526</td>\n",
       "      <td>0.742</td>\n",
       "      <td>0.619</td>\n",
       "      <td>43</td>\n",
       "      <td>Power forwards</td>\n",
       "    </tr>\n",
       "    <tr>\n",
       "      <th>3</th>\n",
       "      <td>3</td>\n",
       "      <td>4.963</td>\n",
       "      <td>25.000</td>\n",
       "      <td>0.626</td>\n",
       "      <td>0.066</td>\n",
       "      <td>0.435</td>\n",
       "      <td>11.548</td>\n",
       "      <td>11.185</td>\n",
       "      <td>13.248</td>\n",
       "      <td>19.589</td>\n",
       "      <td>1.504</td>\n",
       "      <td>4.563</td>\n",
       "      <td>2.959</td>\n",
       "      <td>1.702</td>\n",
       "      <td>27</td>\n",
       "      <td>Centers</td>\n",
       "    </tr>\n",
       "  </tbody>\n",
       "</table>\n",
       "</div>"
      ],
      "text/plain": [
       "   Cluster    Pos     Age    TS%   3PAr    FTr    ORB%    AST%    TOV%  \\\n",
       "2        2  1.439  27.632  0.545  0.342  0.280   2.468  28.323  13.888   \n",
       "1        1  2.204  26.510  0.536  0.445  0.187   3.049  13.780  13.122   \n",
       "4        4  2.534  26.295  0.552  0.505  0.179   2.686  10.369   9.485   \n",
       "0        0  4.233  26.674  0.581  0.253  0.289   6.912  12.144  11.667   \n",
       "3        3  4.963  25.000  0.626  0.066  0.435  11.548  11.185  13.248   \n",
       "\n",
       "     USG%   STL%   BLK%   DBPM  DRAYMOND  Total Players     Cluster Name  \n",
       "2  24.807  1.756  0.918 -0.793    -0.594             57     Point guards  \n",
       "1  15.561  1.973  1.559  0.890     0.455             49  Shooting guards  \n",
       "4  18.370  1.199  0.935 -1.288    -0.591             88   Small forwards  \n",
       "0  20.670  1.319  2.526  0.742     0.619             43   Power forwards  \n",
       "3  19.589  1.504  4.563  2.959     1.702             27          Centers  "
      ]
     },
     "execution_count": 117,
     "metadata": {},
     "output_type": "execute_result"
    }
   ],
   "source": [
    "averages_df.sort_values(by='Pos', ascending=True)"
   ]
  },
  {
   "cell_type": "markdown",
   "metadata": {},
   "source": [
    "### 5.4 Linear Discriminant Analysis w/ Clusters as Targets"
   ]
  },
  {
   "cell_type": "code",
   "execution_count": 118,
   "metadata": {},
   "outputs": [],
   "source": [
    "from sklearn.discriminant_analysis import LinearDiscriminantAnalysis"
   ]
  },
  {
   "cell_type": "code",
   "execution_count": 119,
   "metadata": {},
   "outputs": [],
   "source": [
    "def lda_reduce(number_of_components, dim_reduction, clusters, lda_num=1):\n",
    "    \n",
    "    discriminator = LinearDiscriminantAnalysis(n_components=number_of_components)\n",
    "    \n",
    "    X = dim_reduction\n",
    "\n",
    "    y = clusters # targets\n",
    "    \n",
    "    discriminated = discriminator.fit_transform(X, y)\n",
    "    \n",
    "    explained_variance_2 = round(100*sum(discriminator.explained_variance_ratio_), 3)\n",
    "\n",
    "    print('Retained info after ' + str(lda_num) + ' LDA: ' + str(explained_variance_2) + '%')\n",
    "    \n",
    "    return discriminated, explained_variance_2"
   ]
  },
  {
   "cell_type": "code",
   "execution_count": 120,
   "metadata": {},
   "outputs": [
    {
     "name": "stdout",
     "output_type": "stream",
     "text": [
      "Retained info after 1 LDA: 90.127%\n"
     ]
    }
   ],
   "source": [
    "discriminated, explained_variance_2 = lda_reduce(number_of_components, dim_reduction, clusters)"
   ]
  },
  {
   "cell_type": "code",
   "execution_count": 122,
   "metadata": {},
   "outputs": [],
   "source": [
    "reduced_df['LDA1'] = [discriminated[x][0] for x in range(len(dim_reduction))]\n",
    "\n",
    "reduced_df['LDA2'] = [discriminated[x][1] for x in range(len(dim_reduction))]"
   ]
  },
  {
   "cell_type": "markdown",
   "metadata": {},
   "source": [
    "### 5.5 KMeans Clustering #2"
   ]
  },
  {
   "cell_type": "code",
   "execution_count": 124,
   "metadata": {},
   "outputs": [],
   "source": [
    "elbow_clusters = []\n",
    "\n",
    "for num_of_clusters in range(2,10):\n",
    "    cluster = KMeans(num_of_clusters)\n",
    "    cluster.fit(discriminated)\n",
    "    elbow_clusters.append(cluster.inertia_)"
   ]
  },
  {
   "cell_type": "code",
   "execution_count": 125,
   "metadata": {},
   "outputs": [],
   "source": [
    "clusters_2 = cluster_kmeans(num_clusters_2, discriminated, random_state=20)"
   ]
  },
  {
   "cell_type": "code",
   "execution_count": 126,
   "metadata": {},
   "outputs": [],
   "source": [
    "reduced_df['Cluster_2'] = clusters_2"
   ]
  },
  {
   "cell_type": "markdown",
   "metadata": {},
   "source": [
    "### 5.6 2nd Cluster Averages Table"
   ]
  },
  {
   "cell_type": "code",
   "execution_count": 127,
   "metadata": {},
   "outputs": [],
   "source": [
    "averages_dict_2 = {}\n",
    "\n",
    "total_per_cluster_2 = {}\n",
    "\n",
    "for cluster in reduced_df['Cluster_2'].unique():\n",
    "    \n",
    "    cluster_group = reduced_df[reduced_df['Cluster_2'] == cluster]\n",
    "    \n",
    "    averages_dict_2[cluster] = np.mean(cluster_group)\n",
    "    \n",
    "    total_per_cluster_2[cluster] = len(cluster_group)"
   ]
  },
  {
   "cell_type": "code",
   "execution_count": 128,
   "metadata": {},
   "outputs": [],
   "source": [
    "averages_df_2 = pd.DataFrame.from_dict(averages_dict_2, orient='index', \n",
    "                                       columns=reduced_df.drop('Player',axis=1).columns)\n",
    "\n",
    "averages_df_2['Total Players'] = total_per_cluster_2.values()\n",
    "\n",
    "averages_df_2 = averages_df_2.apply(lambda x: round(x, 3))\n",
    "\n",
    "averages_df_2 = averages_df_2[['Cluster_2', 'Pos', 'Age', 'TS%', '3PAr', 'FTr', 'ORB%', 'AST%', 'TOV%', 'USG%',\n",
    "       'STL%', 'BLK%', 'DBPM', 'DRAYMOND', 'Total Players']]\n",
    "\n",
    "averages_df_2['Cluster_2'] = averages_df_2['Cluster_2'].apply(lambda x: int(x))"
   ]
  },
  {
   "cell_type": "code",
   "execution_count": 129,
   "metadata": {},
   "outputs": [],
   "source": [
    "averages_df_2 = averages_df_2.sort_values(by='Pos', ascending=True)\n",
    "\n",
    "averages_df_2['Cluster Name'] = ['Star guards', 'Combo guards', 'Pure shooters', 'Three-and-D Wings',\n",
    "                                 'Point forwards', 'Stretch bigs', 'Centers']"
   ]
  },
  {
   "cell_type": "code",
   "execution_count": 130,
   "metadata": {
    "scrolled": true
   },
   "outputs": [
    {
     "data": {
      "text/html": [
       "<div>\n",
       "<style scoped>\n",
       "    .dataframe tbody tr th:only-of-type {\n",
       "        vertical-align: middle;\n",
       "    }\n",
       "\n",
       "    .dataframe tbody tr th {\n",
       "        vertical-align: top;\n",
       "    }\n",
       "\n",
       "    .dataframe thead th {\n",
       "        text-align: right;\n",
       "    }\n",
       "</style>\n",
       "<table border=\"1\" class=\"dataframe\">\n",
       "  <thead>\n",
       "    <tr style=\"text-align: right;\">\n",
       "      <th></th>\n",
       "      <th>Cluster_2</th>\n",
       "      <th>Pos</th>\n",
       "      <th>Age</th>\n",
       "      <th>TS%</th>\n",
       "      <th>3PAr</th>\n",
       "      <th>FTr</th>\n",
       "      <th>ORB%</th>\n",
       "      <th>AST%</th>\n",
       "      <th>TOV%</th>\n",
       "      <th>USG%</th>\n",
       "      <th>STL%</th>\n",
       "      <th>BLK%</th>\n",
       "      <th>DBPM</th>\n",
       "      <th>DRAYMOND</th>\n",
       "      <th>Total Players</th>\n",
       "      <th>Cluster Name</th>\n",
       "    </tr>\n",
       "  </thead>\n",
       "  <tbody>\n",
       "    <tr>\n",
       "      <th>1</th>\n",
       "      <td>1</td>\n",
       "      <td>1.458</td>\n",
       "      <td>27.417</td>\n",
       "      <td>0.543</td>\n",
       "      <td>0.342</td>\n",
       "      <td>0.272</td>\n",
       "      <td>2.523</td>\n",
       "      <td>28.813</td>\n",
       "      <td>14.708</td>\n",
       "      <td>24.348</td>\n",
       "      <td>1.954</td>\n",
       "      <td>1.067</td>\n",
       "      <td>-0.281</td>\n",
       "      <td>-0.392</td>\n",
       "      <td>48</td>\n",
       "      <td>Star guards</td>\n",
       "    </tr>\n",
       "    <tr>\n",
       "      <th>2</th>\n",
       "      <td>2</td>\n",
       "      <td>1.605</td>\n",
       "      <td>26.558</td>\n",
       "      <td>0.529</td>\n",
       "      <td>0.434</td>\n",
       "      <td>0.197</td>\n",
       "      <td>2.114</td>\n",
       "      <td>17.616</td>\n",
       "      <td>11.458</td>\n",
       "      <td>19.405</td>\n",
       "      <td>1.621</td>\n",
       "      <td>0.779</td>\n",
       "      <td>-1.065</td>\n",
       "      <td>-0.861</td>\n",
       "      <td>43</td>\n",
       "      <td>Combo guards</td>\n",
       "    </tr>\n",
       "    <tr>\n",
       "      <th>5</th>\n",
       "      <td>5</td>\n",
       "      <td>2.320</td>\n",
       "      <td>27.020</td>\n",
       "      <td>0.549</td>\n",
       "      <td>0.561</td>\n",
       "      <td>0.148</td>\n",
       "      <td>2.012</td>\n",
       "      <td>9.112</td>\n",
       "      <td>9.022</td>\n",
       "      <td>16.820</td>\n",
       "      <td>1.200</td>\n",
       "      <td>0.842</td>\n",
       "      <td>-1.302</td>\n",
       "      <td>-0.568</td>\n",
       "      <td>50</td>\n",
       "      <td>Pure shooters</td>\n",
       "    </tr>\n",
       "    <tr>\n",
       "      <th>6</th>\n",
       "      <td>6</td>\n",
       "      <td>3.128</td>\n",
       "      <td>26.149</td>\n",
       "      <td>0.564</td>\n",
       "      <td>0.461</td>\n",
       "      <td>0.219</td>\n",
       "      <td>4.062</td>\n",
       "      <td>9.432</td>\n",
       "      <td>10.717</td>\n",
       "      <td>17.683</td>\n",
       "      <td>1.379</td>\n",
       "      <td>1.547</td>\n",
       "      <td>-0.064</td>\n",
       "      <td>0.258</td>\n",
       "      <td>47</td>\n",
       "      <td>Three-and-D Wings</td>\n",
       "    </tr>\n",
       "    <tr>\n",
       "      <th>3</th>\n",
       "      <td>3</td>\n",
       "      <td>3.250</td>\n",
       "      <td>26.375</td>\n",
       "      <td>0.558</td>\n",
       "      <td>0.257</td>\n",
       "      <td>0.306</td>\n",
       "      <td>4.196</td>\n",
       "      <td>18.267</td>\n",
       "      <td>13.925</td>\n",
       "      <td>22.258</td>\n",
       "      <td>1.675</td>\n",
       "      <td>1.783</td>\n",
       "      <td>0.862</td>\n",
       "      <td>0.534</td>\n",
       "      <td>24</td>\n",
       "      <td>Point forwards</td>\n",
       "    </tr>\n",
       "    <tr>\n",
       "      <th>4</th>\n",
       "      <td>4</td>\n",
       "      <td>4.600</td>\n",
       "      <td>26.560</td>\n",
       "      <td>0.588</td>\n",
       "      <td>0.226</td>\n",
       "      <td>0.271</td>\n",
       "      <td>8.780</td>\n",
       "      <td>9.860</td>\n",
       "      <td>11.332</td>\n",
       "      <td>18.900</td>\n",
       "      <td>1.220</td>\n",
       "      <td>3.092</td>\n",
       "      <td>0.948</td>\n",
       "      <td>0.896</td>\n",
       "      <td>25</td>\n",
       "      <td>Stretch bigs</td>\n",
       "    </tr>\n",
       "    <tr>\n",
       "      <th>0</th>\n",
       "      <td>0</td>\n",
       "      <td>4.963</td>\n",
       "      <td>25.000</td>\n",
       "      <td>0.626</td>\n",
       "      <td>0.066</td>\n",
       "      <td>0.435</td>\n",
       "      <td>11.548</td>\n",
       "      <td>11.185</td>\n",
       "      <td>13.248</td>\n",
       "      <td>19.589</td>\n",
       "      <td>1.504</td>\n",
       "      <td>4.563</td>\n",
       "      <td>2.959</td>\n",
       "      <td>1.702</td>\n",
       "      <td>27</td>\n",
       "      <td>Centers</td>\n",
       "    </tr>\n",
       "  </tbody>\n",
       "</table>\n",
       "</div>"
      ],
      "text/plain": [
       "   Cluster_2    Pos     Age    TS%   3PAr    FTr    ORB%    AST%    TOV%  \\\n",
       "1          1  1.458  27.417  0.543  0.342  0.272   2.523  28.813  14.708   \n",
       "2          2  1.605  26.558  0.529  0.434  0.197   2.114  17.616  11.458   \n",
       "5          5  2.320  27.020  0.549  0.561  0.148   2.012   9.112   9.022   \n",
       "6          6  3.128  26.149  0.564  0.461  0.219   4.062   9.432  10.717   \n",
       "3          3  3.250  26.375  0.558  0.257  0.306   4.196  18.267  13.925   \n",
       "4          4  4.600  26.560  0.588  0.226  0.271   8.780   9.860  11.332   \n",
       "0          0  4.963  25.000  0.626  0.066  0.435  11.548  11.185  13.248   \n",
       "\n",
       "     USG%   STL%   BLK%   DBPM  DRAYMOND  Total Players       Cluster Name  \n",
       "1  24.348  1.954  1.067 -0.281    -0.392             48        Star guards  \n",
       "2  19.405  1.621  0.779 -1.065    -0.861             43       Combo guards  \n",
       "5  16.820  1.200  0.842 -1.302    -0.568             50      Pure shooters  \n",
       "6  17.683  1.379  1.547 -0.064     0.258             47  Three-and-D Wings  \n",
       "3  22.258  1.675  1.783  0.862     0.534             24     Point forwards  \n",
       "4  18.900  1.220  3.092  0.948     0.896             25       Stretch bigs  \n",
       "0  19.589  1.504  4.563  2.959     1.702             27            Centers  "
      ]
     },
     "execution_count": 130,
     "metadata": {},
     "output_type": "execute_result"
    }
   ],
   "source": [
    "averages_df_2.sort_values(by='Pos', ascending=True)"
   ]
  },
  {
   "cell_type": "code",
   "execution_count": 131,
   "metadata": {},
   "outputs": [],
   "source": [
    "cluster_map = {0: 'Centers', 1: 'Star guards', 2: 'Combo guards', 3: 'Point forwards', 4: 'Stretch bigs', \n",
    "               5: 'Pure shooters', 6: 'Three-and-D wings'}"
   ]
  },
  {
   "cell_type": "code",
   "execution_count": 132,
   "metadata": {},
   "outputs": [],
   "source": [
    "import matplotlib.pyplot as plt"
   ]
  },
  {
   "cell_type": "code",
   "execution_count": 133,
   "metadata": {
    "scrolled": false
   },
   "outputs": [
    {
     "data": {
      "image/png": "[encoded data removed]",
      "text/plain": [
       "<Figure size 432x288 with 1 Axes>"
      ]
     },
     "metadata": {
      "needs_background": "light"
     },
     "output_type": "display_data"
    }
   ],
   "source": [
    "cmap = plt.cm.get_cmap('jet', reduced_df['Cluster_2'].nunique())\n",
    "\n",
    "ax = plt.axes()\n",
    "\n",
    "ax.scatter(reduced_df['LDA1'], reduced_df['LDA2'], c=reduced_df['Cluster_2'], cmap=cmap)\n",
    "\n",
    "clusters_added = []\n",
    "\n",
    "# The 'i' and '5' are just used for aesthetic purposes:\n",
    "for i in range(len(reduced_df['Cluster_2'])):\n",
    "    \n",
    "    if reduced_df['Cluster_2'][i] not in clusters_added:\n",
    "        \n",
    "        clusters_added.append(reduced_df['Cluster_2'][i])\n",
    "        \n",
    "        index = int(reduced_df['Cluster_2'][i])\n",
    "        \n",
    "        ax.annotate(averages_df_2['Cluster Name'][index], # text\n",
    "                    (reduced_df['LDA1'][i], reduced_df['LDA2'][i]), # x,y coordinates for each point\n",
    "                    (4*reduced_df['LDA1'][i], 2.5*reduced_df['LDA2'][i]), # label's distance from point\n",
    "                    arrowprops = {'arrowstyle': '-'}, fontsize=14) # arrow style"
   ]
  },
  {
   "cell_type": "markdown",
   "metadata": {},
   "source": [
    "### 5.99 Dissimilarity Calculator"
   ]
  },
  {
   "cell_type": "code",
   "execution_count": 134,
   "metadata": {},
   "outputs": [],
   "source": [
    "total_player_diff = []\n",
    "\n",
    "for player in reduced_df['Player']:\n",
    "    \n",
    "    new_index = reduced_df['Player'].tolist().index(player)\n",
    "    \n",
    "    player_stats = np.asarray(reduced_df.iloc[new_index,:])\n",
    "    \n",
    "    sub_player_diff = []\n",
    "    \n",
    "    for i in range(len(reduced_df)):\n",
    "        lda1, lda2 = player_stats[-3], player_stats[-2]\n",
    "        ilda1, ilda2 = reduced_df['LDA1'][i], reduced_df['LDA2'][i]\n",
    "        total_1 = lda1 - ilda1\n",
    "        total_2 = lda2 - ilda2\n",
    "        l2_norm = np.sqrt(total_1 ** 2 + total_2 ** 2)\n",
    "        sub_player_diff.append(l2_norm)\n",
    "    \n",
    "    sub_mean = np.mean(sub_player_diff)\n",
    "    \n",
    "    total_player_diff.append(sub_mean)\n",
    "\n",
    "total_mean, total_std = np.mean(total_player_diff), np.std(total_player_diff)"
   ]
  },
  {
   "cell_type": "markdown",
   "metadata": {},
   "source": [
    "### 6.0 Player and Comps"
   ]
  },
  {
   "cell_type": "code",
   "execution_count": 135,
   "metadata": {},
   "outputs": [
    {
     "name": "stdout",
     "output_type": "stream",
     "text": [
      "Player name: LeBron James\n"
     ]
    }
   ],
   "source": [
    "# Input player name:\n",
    "\n",
    "player_name = input('Player name: ')\n",
    "\n",
    "# Retrieve index of player name:\n",
    "\n",
    "index = reduced_df['Player'].tolist().index(f'{player_name}')\n",
    "\n",
    "# Pull player's stats:\n",
    "\n",
    "player_stats = reduced_df.iloc[index,:]\n",
    "\n",
    "player_stats = np.asarray(player_stats)"
   ]
  },
  {
   "cell_type": "markdown",
   "metadata": {},
   "source": [
    "### 6.1 Selected Comp"
   ]
  },
  {
   "cell_type": "code",
   "execution_count": 136,
   "metadata": {},
   "outputs": [
    {
     "name": "stdout",
     "output_type": "stream",
     "text": [
      "Comp player name: Kevin Durant\n"
     ]
    }
   ],
   "source": [
    "comp_name = input('Comp player name: ')\n",
    "\n",
    "comp_index = reduced_df['Player'].tolist().index(f'{comp_name}')\n",
    "\n",
    "comp_stats = reduced_df.iloc[comp_index,:]\n",
    "\n",
    "comp_stats = np.asarray(comp_stats)"
   ]
  },
  {
   "cell_type": "markdown",
   "metadata": {},
   "source": [
    "### 6.2 Calculate L2-Norms"
   ]
  },
  {
   "cell_type": "code",
   "execution_count": 137,
   "metadata": {},
   "outputs": [],
   "source": [
    "# Loop through and create a list of L2-Norms:\n",
    "\n",
    "player_diff = []\n",
    "\n",
    "for i in range(len(reduced_df)):\n",
    "    lda1, lda2 = player_stats[-3], player_stats[-2]\n",
    "    ilda1, ilda2 = reduced_df['LDA1'][i], reduced_df['LDA2'][i]\n",
    "    total_1 = lda1 - ilda1\n",
    "    total_2 = lda2 - ilda2\n",
    "    l2_norm = np.sqrt(total_1 ** 2 + total_2 ** 2)\n",
    "    player_diff += [(i,l2_norm)]\n",
    "\n",
    "# And for just Target Comp:\n",
    "\n",
    "lda1, lda2 = player_stats[-3], player_stats[-2]\n",
    "ilda1, ilda2 = comp_stats[-3], comp_stats[-2]\n",
    "total_1 = lda1 - ilda1\n",
    "total_2 = lda2 - ilda2\n",
    "l2_norm = np.sqrt(total_1 ** 2 + total_2 ** 2)\n",
    "target_comp = l2_norm"
   ]
  },
  {
   "cell_type": "code",
   "execution_count": 138,
   "metadata": {},
   "outputs": [
    {
     "name": "stdout",
     "output_type": "stream",
     "text": [
      "95 80 63\n"
     ]
    }
   ],
   "source": [
    "# Initialize:\n",
    "\n",
    "comp_1, it_1, comp_2, it_2, comp_3, it_3 = [x for x in np.zeros(6) + 3]\n",
    "\n",
    "# 1. Best Comp:\n",
    "\n",
    "for i in range(len(player_diff)):\n",
    "    if (player_diff[i][1] < comp_1) and (player_diff[i][1] > 0):\n",
    "        comp_1 = player_diff[i][1]\n",
    "        it_1 = i\n",
    "\n",
    "# 2. Second Comp:\n",
    "\n",
    "for i in range(len(player_diff)):\n",
    "    if (player_diff[i][1] < comp_2) and (player_diff[i][1] > comp_1):\n",
    "        comp_2 = player_diff[i][1]\n",
    "        it_2 = i\n",
    "\n",
    "# 3. Third Comp:\n",
    "\n",
    "for i in range(len(player_diff)):\n",
    "    if (player_diff[i][1] < comp_3) and (player_diff[i][1] > comp_1) and (player_diff[i][1] > comp_2):\n",
    "        comp_3 = player_diff[i][1]\n",
    "        it_3 = i\n",
    "\n",
    "print(it_1, it_2, it_3)\n",
    "\n"
   ]
  },
  {
   "cell_type": "code",
   "execution_count": 139,
   "metadata": {},
   "outputs": [],
   "source": [
    "# Dissimilarity (dissim_factor) calculation to add to final comp_df:\n",
    "\n",
    "dissimilarity = 0\n",
    "\n",
    "for i in range(len(player_diff)):\n",
    "    \n",
    "    dissimilarity += player_diff[i][1]\n",
    "\n",
    "dissimilarity = dissimilarity / len(player_diff)\n",
    "\n",
    "dissim_factor = (dissimilarity - total_mean) / total_std"
   ]
  },
  {
   "cell_type": "markdown",
   "metadata": {},
   "source": [
    "### 7.0 Player Comp Df"
   ]
  },
  {
   "cell_type": "code",
   "execution_count": 140,
   "metadata": {},
   "outputs": [],
   "source": [
    "player_comp_df = pd.DataFrame()\n",
    "\n",
    "player_comp_df['Actual Player'] = reduced_df.iloc[index,1:]\n",
    "player_comp_df['Top Comp'] = reduced_df.iloc[it_1,1:]\n",
    "player_comp_df['Second-Best Comp'] = reduced_df.iloc[it_2,1:]\n",
    "player_comp_df['Third-Best Comp'] = reduced_df.iloc[it_3,1:]\n",
    "player_comp_df['Target Comp'] = reduced_df.iloc[comp_index,1:]"
   ]
  },
  {
   "cell_type": "code",
   "execution_count": 141,
   "metadata": {},
   "outputs": [],
   "source": [
    "comp_df = pd.DataFrame(np.transpose(player_comp_df.values))\n",
    "\n",
    "list_of_columns = list(total_df.columns.drop('Player')) + ['PCA1', 'PCA2', 'PCA3', 'Cluster', 'LDA1', 'LDA2', \n",
    "                                                           'Cluster_2']\n",
    "\n",
    "comp_df.columns = list_of_columns\n",
    "\n",
    "comp_df['Player'] = [reduced_df.iloc[index,0], reduced_df.iloc[it_1,0], reduced_df.iloc[it_2,0],\n",
    "                     reduced_df.iloc[it_3,0], reduced_df.iloc[comp_index,0]]"
   ]
  },
  {
   "cell_type": "code",
   "execution_count": 142,
   "metadata": {},
   "outputs": [],
   "source": [
    "player_subject = pd.Series(scaled_vectors[index, :])\n",
    "\n",
    "comp_a = pd.Series(scaled_vectors[it_1, :])\n",
    "comp_b = pd.Series(scaled_vectors[it_2, :])\n",
    "comp_c = pd.Series(scaled_vectors[it_3, :])\n",
    "comp_target = pd.Series(scaled_vectors[comp_index, :])\n",
    "\n",
    "scaled_array = np.array([player_subject, comp_a, comp_b, comp_c, comp_target])\n",
    "\n",
    "new_columns = ['sPos', 'sAge', 'sTS%', 's3PAr', 'sFTr', 'sORB%', 'sAST%', 'sTOV%', \n",
    "               'sUSG%', 'sSTL%', 'sBLK%', 'sDBPM', 'sDRAY']\n",
    "\n",
    "for i, column in enumerate(new_columns):\n",
    "    comp_df[column] = [round(scaled_array[x][i], 2) for x in range(5)]"
   ]
  },
  {
   "cell_type": "code",
   "execution_count": 143,
   "metadata": {},
   "outputs": [],
   "source": [
    "comp_df['Similarity Score'] = [1, round(1 - comp_1/dissimilarity, 3), round(1 - comp_2/dissimilarity, 3), \n",
    "                               round(1 - comp_3/dissimilarity, 3), round(1 - target_comp/dissimilarity, 3)]"
   ]
  },
  {
   "cell_type": "code",
   "execution_count": 144,
   "metadata": {},
   "outputs": [],
   "source": [
    "keep_columns = comp_df.columns\n",
    "\n",
    "keep_columns = ['Player', 'Pos', 'Age', 'sPos', 'sAge', 'sTS%', 's3PAr',\n",
    "       'sFTr', 'sORB%', 'sAST%', 'sTOV%', 'sUSG%', 'sSTL%', 'sBLK%', 'sDBPM', 'sDRAY',\n",
    "       'Similarity Score', 'Cluster_2']\n",
    "\n",
    "comp_df = comp_df[keep_columns]"
   ]
  },
  {
   "cell_type": "code",
   "execution_count": 145,
   "metadata": {},
   "outputs": [],
   "source": [
    "comp_df.columns = ['Player', 'Pos', 'Age', 'sPos', 'sAge', 'sTS%', 's3PAr',\n",
    "       'sFTr', 'sORB%', 'sAST%', 'sTOV%', 'sUSG%', 'sSTL%', 'sBLK%', 'sDBPM', 'sDRAY',\n",
    "       'Similarity', 'Cluster_2']"
   ]
  },
  {
   "cell_type": "code",
   "execution_count": 146,
   "metadata": {},
   "outputs": [],
   "source": [
    "comp_df['sDRAY'] = comp_df['sDRAY'].apply(lambda x: round(x,2))\n",
    "\n",
    "# comp_df['sDissim.'] = [round(dissim_factor,3)] + ['n/a' for x in range(4)]\n",
    "\n",
    "comp_df['Cluster_2'] = comp_df['Cluster_2'].map(cluster_map)"
   ]
  },
  {
   "cell_type": "code",
   "execution_count": 147,
   "metadata": {
    "scrolled": false
   },
   "outputs": [
    {
     "data": {
      "text/html": [
       "<div>\n",
       "<style scoped>\n",
       "    .dataframe tbody tr th:only-of-type {\n",
       "        vertical-align: middle;\n",
       "    }\n",
       "\n",
       "    .dataframe tbody tr th {\n",
       "        vertical-align: top;\n",
       "    }\n",
       "\n",
       "    .dataframe thead th {\n",
       "        text-align: right;\n",
       "    }\n",
       "</style>\n",
       "<table border=\"1\" class=\"dataframe\">\n",
       "  <thead>\n",
       "    <tr style=\"text-align: right;\">\n",
       "      <th></th>\n",
       "      <th>Player</th>\n",
       "      <th>Pos</th>\n",
       "      <th>Age</th>\n",
       "      <th>sPos</th>\n",
       "      <th>sAge</th>\n",
       "      <th>sTS%</th>\n",
       "      <th>s3PAr</th>\n",
       "      <th>sFTr</th>\n",
       "      <th>sORB%</th>\n",
       "      <th>sAST%</th>\n",
       "      <th>sTOV%</th>\n",
       "      <th>sUSG%</th>\n",
       "      <th>sSTL%</th>\n",
       "      <th>sBLK%</th>\n",
       "      <th>sDBPM</th>\n",
       "      <th>sDRAY</th>\n",
       "      <th>Similarity</th>\n",
       "      <th>Cluster_2</th>\n",
       "    </tr>\n",
       "  </thead>\n",
       "  <tbody>\n",
       "    <tr>\n",
       "      <th>0</th>\n",
       "      <td>LeBron James</td>\n",
       "      <td>3</td>\n",
       "      <td>34</td>\n",
       "      <td>0.17</td>\n",
       "      <td>1.86</td>\n",
       "      <td>0.65</td>\n",
       "      <td>-0.38</td>\n",
       "      <td>1.22</td>\n",
       "      <td>-0.34</td>\n",
       "      <td>2.73</td>\n",
       "      <td>0.45</td>\n",
       "      <td>2.25</td>\n",
       "      <td>0.35</td>\n",
       "      <td>-0.19</td>\n",
       "      <td>1.09</td>\n",
       "      <td>0.29</td>\n",
       "      <td>1.000</td>\n",
       "      <td>Star guards</td>\n",
       "    </tr>\n",
       "    <tr>\n",
       "      <th>1</th>\n",
       "      <td>Draymond Green</td>\n",
       "      <td>4</td>\n",
       "      <td>28</td>\n",
       "      <td>0.89</td>\n",
       "      <td>0.36</td>\n",
       "      <td>-0.77</td>\n",
       "      <td>0.10</td>\n",
       "      <td>-0.28</td>\n",
       "      <td>-0.31</td>\n",
       "      <td>1.30</td>\n",
       "      <td>4.62</td>\n",
       "      <td>-1.26</td>\n",
       "      <td>1.28</td>\n",
       "      <td>0.76</td>\n",
       "      <td>1.94</td>\n",
       "      <td>1.37</td>\n",
       "      <td>0.836</td>\n",
       "      <td>Point forwards</td>\n",
       "    </tr>\n",
       "    <tr>\n",
       "      <th>2</th>\n",
       "      <td>De'Aaron Fox</td>\n",
       "      <td>1</td>\n",
       "      <td>21</td>\n",
       "      <td>-1.26</td>\n",
       "      <td>-1.38</td>\n",
       "      <td>-0.36</td>\n",
       "      <td>-0.84</td>\n",
       "      <td>1.19</td>\n",
       "      <td>-0.73</td>\n",
       "      <td>2.03</td>\n",
       "      <td>0.97</td>\n",
       "      <td>0.90</td>\n",
       "      <td>1.66</td>\n",
       "      <td>-0.12</td>\n",
       "      <td>0.01</td>\n",
       "      <td>-0.16</td>\n",
       "      <td>0.690</td>\n",
       "      <td>Star guards</td>\n",
       "    </tr>\n",
       "    <tr>\n",
       "      <th>3</th>\n",
       "      <td>DeMar DeRozan</td>\n",
       "      <td>2</td>\n",
       "      <td>29</td>\n",
       "      <td>-0.55</td>\n",
       "      <td>0.61</td>\n",
       "      <td>-0.41</td>\n",
       "      <td>-1.77</td>\n",
       "      <td>0.81</td>\n",
       "      <td>-0.59</td>\n",
       "      <td>1.39</td>\n",
       "      <td>-0.05</td>\n",
       "      <td>1.55</td>\n",
       "      <td>0.16</td>\n",
       "      <td>-0.39</td>\n",
       "      <td>0.29</td>\n",
       "      <td>-0.79</td>\n",
       "      <td>0.679</td>\n",
       "      <td>Star guards</td>\n",
       "    </tr>\n",
       "    <tr>\n",
       "      <th>4</th>\n",
       "      <td>Kevin Durant</td>\n",
       "      <td>3</td>\n",
       "      <td>30</td>\n",
       "      <td>0.17</td>\n",
       "      <td>0.86</td>\n",
       "      <td>1.63</td>\n",
       "      <td>-0.48</td>\n",
       "      <td>1.08</td>\n",
       "      <td>-0.81</td>\n",
       "      <td>1.24</td>\n",
       "      <td>0.14</td>\n",
       "      <td>1.76</td>\n",
       "      <td>-0.96</td>\n",
       "      <td>0.62</td>\n",
       "      <td>0.06</td>\n",
       "      <td>0.72</td>\n",
       "      <td>0.515</td>\n",
       "      <td>Point forwards</td>\n",
       "    </tr>\n",
       "  </tbody>\n",
       "</table>\n",
       "</div>"
      ],
      "text/plain": [
       "           Player Pos Age  sPos  sAge  sTS%  s3PAr  sFTr  sORB%  sAST%  sTOV%  \\\n",
       "0    LeBron James   3  34  0.17  1.86  0.65  -0.38  1.22  -0.34   2.73   0.45   \n",
       "1  Draymond Green   4  28  0.89  0.36 -0.77   0.10 -0.28  -0.31   1.30   4.62   \n",
       "2    De'Aaron Fox   1  21 -1.26 -1.38 -0.36  -0.84  1.19  -0.73   2.03   0.97   \n",
       "3   DeMar DeRozan   2  29 -0.55  0.61 -0.41  -1.77  0.81  -0.59   1.39  -0.05   \n",
       "4    Kevin Durant   3  30  0.17  0.86  1.63  -0.48  1.08  -0.81   1.24   0.14   \n",
       "\n",
       "   sUSG%  sSTL%  sBLK%  sDBPM  sDRAY  Similarity       Cluster_2  \n",
       "0   2.25   0.35  -0.19   1.09   0.29       1.000     Star guards  \n",
       "1  -1.26   1.28   0.76   1.94   1.37       0.836  Point forwards  \n",
       "2   0.90   1.66  -0.12   0.01  -0.16       0.690     Star guards  \n",
       "3   1.55   0.16  -0.39   0.29  -0.79       0.679     Star guards  \n",
       "4   1.76  -0.96   0.62   0.06   0.72       0.515  Point forwards  "
      ]
     },
     "execution_count": 147,
     "metadata": {},
     "output_type": "execute_result"
    }
   ],
   "source": [
    "comp_df"
   ]
  },
  {
   "cell_type": "code",
   "execution_count": null,
   "metadata": {},
   "outputs": [],
   "source": []
  },
  {
   "cell_type": "code",
   "execution_count": null,
   "metadata": {},
   "outputs": [],
   "source": []
  }
 ],
 "metadata": {
  "kernelspec": {
   "display_name": "Python 3",
   "language": "python",
   "name": "python3"
  },
  "language_info": {
   "codemirror_mode": {
    "name": "ipython",
    "version": 3
   },
   "file_extension": ".py",
   "mimetype": "text/x-python",
   "name": "python",
   "nbconvert_exporter": "python",
   "pygments_lexer": "ipython3",
   "version": "3.7.1"
  }
 },
 "nbformat": 4,
 "nbformat_minor": 2
}
