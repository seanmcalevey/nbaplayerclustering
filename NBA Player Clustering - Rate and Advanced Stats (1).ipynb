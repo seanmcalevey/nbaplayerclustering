{
 "cells": [
  {
   "cell_type": "markdown",
   "metadata": {},
   "source": [
    "### 1.0 Import Libraries"
   ]
  },
  {
   "cell_type": "code",
   "execution_count": 53,
   "metadata": {},
   "outputs": [],
   "source": [
    "import numpy as np\n",
    "from urllib.request import urlopen\n",
    "from bs4 import BeautifulSoup\n",
    "import pandas as pd"
   ]
  },
  {
   "cell_type": "markdown",
   "metadata": {},
   "source": [
    "### 2.0 Use BeautifulSoup and Urlopen to Retrieve Data"
   ]
  },
  {
   "cell_type": "code",
   "execution_count": 54,
   "metadata": {},
   "outputs": [],
   "source": [
    "url = 'https://www.basketball-reference.com/leagues/NBA_2019_advanced.html'\n",
    "\n",
    "html = urlopen(url)\n",
    "\n",
    "soup = BeautifulSoup(html)"
   ]
  },
  {
   "cell_type": "markdown",
   "metadata": {},
   "source": [
    "### 2.1 Get Headers from DataFrame"
   ]
  },
  {
   "cell_type": "code",
   "execution_count": 55,
   "metadata": {},
   "outputs": [],
   "source": [
    "# soup.findAll('tr', limit=2) is finding all 'tr' tags, limit=2 ..... And .getText() is pulling the text of 'th'\n",
    "headers = [th.getText() for th in soup.findAll('tr')[0].findAll('th')]\n",
    "\n",
    "headers = headers[1:]"
   ]
  },
  {
   "cell_type": "markdown",
   "metadata": {},
   "source": [
    "### 2.2 Get Data from Rows"
   ]
  },
  {
   "cell_type": "code",
   "execution_count": 56,
   "metadata": {},
   "outputs": [],
   "source": [
    "rows = soup.findAll('tr')\n",
    "\n",
    "player_stats_1 = [[td.getText() for td in rows[i].findAll('td')] for i in range(len(rows))]"
   ]
  },
  {
   "cell_type": "markdown",
   "metadata": {},
   "source": [
    "### 3.0 Create DataFrame"
   ]
  },
  {
   "cell_type": "code",
   "execution_count": 57,
   "metadata": {},
   "outputs": [],
   "source": [
    "og_df = pd.DataFrame(data=player_stats_1[1:], columns=headers)"
   ]
  },
  {
   "cell_type": "code",
   "execution_count": 58,
   "metadata": {},
   "outputs": [],
   "source": [
    "df = og_df.copy()"
   ]
  },
  {
   "cell_type": "markdown",
   "metadata": {},
   "source": [
    "### 4.0 Convert to Numbers and Drop Unnecessary Columns"
   ]
  },
  {
   "cell_type": "code",
   "execution_count": 59,
   "metadata": {},
   "outputs": [],
   "source": [
    "df = df.apply(pd.to_numeric, errors='ignore')"
   ]
  },
  {
   "cell_type": "code",
   "execution_count": 60,
   "metadata": {},
   "outputs": [],
   "source": [
    "df = df.drop(['Pos', 'Age', 'Tm'], axis=1)"
   ]
  },
  {
   "cell_type": "code",
   "execution_count": 61,
   "metadata": {},
   "outputs": [],
   "source": [
    "# Convert everything but player names to numbers and coerce non-numbers into NaNs\n",
    "df = df.iloc[:,1:].apply(pd.to_numeric, errors='coerce')"
   ]
  },
  {
   "cell_type": "code",
   "execution_count": 62,
   "metadata": {},
   "outputs": [],
   "source": [
    "# Save list of player names for later\n",
    "df['Player'] = og_df['Player']"
   ]
  },
  {
   "cell_type": "code",
   "execution_count": 63,
   "metadata": {},
   "outputs": [],
   "source": [
    "# Drop NaNs and specific columns\n",
    "\n",
    "# df = df.dropna()\n",
    "\n",
    "columns_to_keep = ['Player', 'TS%', '3PAr', 'FTr', 'ORB%', 'AST%', 'TOV%', 'USG%']\n",
    "\n",
    "df = pd.DataFrame(df[columns_to_keep], columns=columns_to_keep)\n",
    "\n",
    "#df.drop(['FG', 'FGA', 'FG%', '3P', '2P', 'eFG%', 'FT', 'TRB', 'PF',\n",
    " #             'DRB', 'FTA', '2PA', '2P%', '3PA', 'GS', 'G', 'FT%'], axis=1)"
   ]
  },
  {
   "cell_type": "code",
   "execution_count": 64,
   "metadata": {},
   "outputs": [],
   "source": [
    "df = df.dropna()"
   ]
  },
  {
   "cell_type": "code",
   "execution_count": 65,
   "metadata": {},
   "outputs": [
    {
     "data": {
      "text/html": [
       "<div>\n",
       "<style scoped>\n",
       "    .dataframe tbody tr th:only-of-type {\n",
       "        vertical-align: middle;\n",
       "    }\n",
       "\n",
       "    .dataframe tbody tr th {\n",
       "        vertical-align: top;\n",
       "    }\n",
       "\n",
       "    .dataframe thead th {\n",
       "        text-align: right;\n",
       "    }\n",
       "</style>\n",
       "<table border=\"1\" class=\"dataframe\">\n",
       "  <thead>\n",
       "    <tr style=\"text-align: right;\">\n",
       "      <th></th>\n",
       "      <th>Player</th>\n",
       "      <th>TS%</th>\n",
       "      <th>3PAr</th>\n",
       "      <th>FTr</th>\n",
       "      <th>ORB%</th>\n",
       "      <th>AST%</th>\n",
       "      <th>TOV%</th>\n",
       "      <th>USG%</th>\n",
       "    </tr>\n",
       "  </thead>\n",
       "  <tbody>\n",
       "    <tr>\n",
       "      <th>0</th>\n",
       "      <td>Álex Abrines</td>\n",
       "      <td>0.507</td>\n",
       "      <td>0.809</td>\n",
       "      <td>0.083</td>\n",
       "      <td>0.9</td>\n",
       "      <td>4.3</td>\n",
       "      <td>7.9</td>\n",
       "      <td>12.2</td>\n",
       "    </tr>\n",
       "    <tr>\n",
       "      <th>1</th>\n",
       "      <td>Quincy Acy</td>\n",
       "      <td>0.379</td>\n",
       "      <td>0.833</td>\n",
       "      <td>0.556</td>\n",
       "      <td>2.7</td>\n",
       "      <td>8.2</td>\n",
       "      <td>15.2</td>\n",
       "      <td>9.2</td>\n",
       "    </tr>\n",
       "    <tr>\n",
       "      <th>2</th>\n",
       "      <td>Jaylen Adams</td>\n",
       "      <td>0.474</td>\n",
       "      <td>0.673</td>\n",
       "      <td>0.082</td>\n",
       "      <td>2.6</td>\n",
       "      <td>19.8</td>\n",
       "      <td>19.7</td>\n",
       "      <td>13.5</td>\n",
       "    </tr>\n",
       "    <tr>\n",
       "      <th>3</th>\n",
       "      <td>Steven Adams</td>\n",
       "      <td>0.591</td>\n",
       "      <td>0.002</td>\n",
       "      <td>0.361</td>\n",
       "      <td>14.7</td>\n",
       "      <td>6.6</td>\n",
       "      <td>12.6</td>\n",
       "      <td>16.4</td>\n",
       "    </tr>\n",
       "    <tr>\n",
       "      <th>4</th>\n",
       "      <td>Bam Adebayo</td>\n",
       "      <td>0.623</td>\n",
       "      <td>0.031</td>\n",
       "      <td>0.465</td>\n",
       "      <td>9.2</td>\n",
       "      <td>14.2</td>\n",
       "      <td>17.1</td>\n",
       "      <td>15.8</td>\n",
       "    </tr>\n",
       "  </tbody>\n",
       "</table>\n",
       "</div>"
      ],
      "text/plain": [
       "         Player    TS%   3PAr    FTr  ORB%  AST%  TOV%  USG%\n",
       "0  Álex Abrines  0.507  0.809  0.083   0.9   4.3   7.9  12.2\n",
       "1    Quincy Acy  0.379  0.833  0.556   2.7   8.2  15.2   9.2\n",
       "2  Jaylen Adams  0.474  0.673  0.082   2.6  19.8  19.7  13.5\n",
       "3  Steven Adams  0.591  0.002  0.361  14.7   6.6  12.6  16.4\n",
       "4   Bam Adebayo  0.623  0.031  0.465   9.2  14.2  17.1  15.8"
      ]
     },
     "execution_count": 65,
     "metadata": {},
     "output_type": "execute_result"
    }
   ],
   "source": [
    "df.head()"
   ]
  },
  {
   "cell_type": "markdown",
   "metadata": {},
   "source": [
    "### (Delete?) 4.1 Convert to Rate Stats"
   ]
  },
  {
   "cell_type": "code",
   "execution_count": 66,
   "metadata": {},
   "outputs": [],
   "source": [
    "# Divide other columns by df['MP'] to get rate stats\n",
    "#rate_df = df[['ORB', 'AST', 'STL', 'BLK', 'TOV', 'PTS']].div(df['MP'], axis=0)"
   ]
  },
  {
   "cell_type": "code",
   "execution_count": 67,
   "metadata": {},
   "outputs": [],
   "source": [
    "#rate_df['3P%'] = df['3P%']\n",
    "\n",
    "#rate_df['Player'] = df['Player']"
   ]
  },
  {
   "cell_type": "markdown",
   "metadata": {},
   "source": [
    "### 4.2 Convert Pandas DataFrame into Matrix for Processing"
   ]
  },
  {
   "cell_type": "code",
   "execution_count": 68,
   "metadata": {},
   "outputs": [],
   "source": [
    "df_as_matrix = df.values"
   ]
  },
  {
   "cell_type": "markdown",
   "metadata": {},
   "source": [
    "### 5.0 Import and Scale Vectors"
   ]
  },
  {
   "cell_type": "code",
   "execution_count": 69,
   "metadata": {},
   "outputs": [],
   "source": [
    "from sklearn.preprocessing import scale"
   ]
  },
  {
   "cell_type": "code",
   "execution_count": 70,
   "metadata": {},
   "outputs": [
    {
     "name": "stderr",
     "output_type": "stream",
     "text": [
      "/Users/seanmcalevey/anaconda3/lib/python3.7/site-packages/sklearn/utils/validation.py:595: DataConversionWarning: Data with input dtype object was converted to float64 by the scale function.\n",
      "  warnings.warn(msg, DataConversionWarning)\n"
     ]
    }
   ],
   "source": [
    "scaled_vectors = scale(df_as_matrix[:,1:], axis=0)"
   ]
  },
  {
   "cell_type": "markdown",
   "metadata": {},
   "source": [
    "### 5.1 Import PCA and Scale to 3 Dims"
   ]
  },
  {
   "cell_type": "code",
   "execution_count": 71,
   "metadata": {},
   "outputs": [],
   "source": [
    "from sklearn.decomposition import PCA"
   ]
  },
  {
   "cell_type": "code",
   "execution_count": 72,
   "metadata": {},
   "outputs": [],
   "source": [
    "n_components = 3\n",
    "\n",
    "pca = PCA(n_components)"
   ]
  },
  {
   "cell_type": "code",
   "execution_count": 73,
   "metadata": {},
   "outputs": [],
   "source": [
    "dim_reduction = pca.fit_transform(scaled_vectors)"
   ]
  },
  {
   "cell_type": "code",
   "execution_count": 74,
   "metadata": {},
   "outputs": [
    {
     "name": "stdout",
     "output_type": "stream",
     "text": [
      "Retained Info: 62.422%\n"
     ]
    }
   ],
   "source": [
    "print('Retained Info: ' + str(round(100*sum(pca.explained_variance_ratio_),3)) + '%')"
   ]
  },
  {
   "cell_type": "markdown",
   "metadata": {},
   "source": [
    "### 5.2 Import KMeans for Clustering"
   ]
  },
  {
   "cell_type": "code",
   "execution_count": 75,
   "metadata": {},
   "outputs": [],
   "source": [
    "from sklearn.cluster import KMeans"
   ]
  },
  {
   "cell_type": "code",
   "execution_count": 76,
   "metadata": {},
   "outputs": [],
   "source": [
    "num_of_clusters = 10\n",
    "\n",
    "cluster = KMeans(num_of_clusters)"
   ]
  },
  {
   "cell_type": "code",
   "execution_count": 77,
   "metadata": {},
   "outputs": [],
   "source": [
    "clusters = cluster.fit_predict(dim_reduction)"
   ]
  },
  {
   "cell_type": "code",
   "execution_count": 78,
   "metadata": {},
   "outputs": [],
   "source": [
    "reduced_df = df.copy()\n",
    "\n",
    "reduced_df['Cluster'] = clusters\n",
    "\n",
    "reduced_df = reduced_df.reset_index()"
   ]
  },
  {
   "cell_type": "code",
   "execution_count": 79,
   "metadata": {},
   "outputs": [],
   "source": [
    "reduced_df['PCA1'] = [dim_reduction[x][0] for x in range(len(dim_reduction))]\n",
    "\n",
    "reduced_df['PCA2'] = [dim_reduction[x][1] for x in range(len(dim_reduction))]\n",
    "\n",
    "reduced_df['PCA3'] = [dim_reduction[x][2] for x in range(len(dim_reduction))]"
   ]
  },
  {
   "cell_type": "markdown",
   "metadata": {},
   "source": [
    "### 5.3 Get Averages for Each Cluster"
   ]
  },
  {
   "cell_type": "code",
   "execution_count": 80,
   "metadata": {},
   "outputs": [],
   "source": [
    "averages_dict = {}\n",
    "\n",
    "for cluster in range(num_of_clusters):\n",
    "    temp_df = pd.DataFrame(columns=reduced_df.columns)\n",
    "    for index in range(len(reduced_df)):\n",
    "        if reduced_df['Cluster'][index] == cluster:\n",
    "            temp_df = temp_df.append(reduced_df.iloc[index, :])\n",
    "    averages_dict[cluster] = np.mean(temp_df)"
   ]
  },
  {
   "cell_type": "code",
   "execution_count": 81,
   "metadata": {},
   "outputs": [],
   "source": [
    "averages_df = pd.DataFrame(columns=reduced_df.columns)\n",
    "\n",
    "for i in range(num_of_clusters):\n",
    "    averages_df = averages_df.append(averages_dict[i], ignore_index=True)"
   ]
  },
  {
   "cell_type": "code",
   "execution_count": 82,
   "metadata": {},
   "outputs": [],
   "source": [
    "averages_df = averages_df.drop('index', axis=1)\n",
    "\n",
    "averages_df = round(averages_df, 2)"
   ]
  },
  {
   "cell_type": "code",
   "execution_count": 83,
   "metadata": {},
   "outputs": [],
   "source": [
    "averages_df = averages_df.drop('Player', axis=1)"
   ]
  },
  {
   "cell_type": "markdown",
   "metadata": {},
   "source": [
    "### 5.4 Averages DF"
   ]
  },
  {
   "cell_type": "code",
   "execution_count": 84,
   "metadata": {},
   "outputs": [
    {
     "data": {
      "text/html": [
       "<div>\n",
       "<style scoped>\n",
       "    .dataframe tbody tr th:only-of-type {\n",
       "        vertical-align: middle;\n",
       "    }\n",
       "\n",
       "    .dataframe tbody tr th {\n",
       "        vertical-align: top;\n",
       "    }\n",
       "\n",
       "    .dataframe thead th {\n",
       "        text-align: right;\n",
       "    }\n",
       "</style>\n",
       "<table border=\"1\" class=\"dataframe\">\n",
       "  <thead>\n",
       "    <tr style=\"text-align: right;\">\n",
       "      <th></th>\n",
       "      <th>TS%</th>\n",
       "      <th>3PAr</th>\n",
       "      <th>FTr</th>\n",
       "      <th>ORB%</th>\n",
       "      <th>AST%</th>\n",
       "      <th>TOV%</th>\n",
       "      <th>USG%</th>\n",
       "      <th>Cluster</th>\n",
       "      <th>PCA1</th>\n",
       "      <th>PCA2</th>\n",
       "      <th>PCA3</th>\n",
       "    </tr>\n",
       "  </thead>\n",
       "  <tbody>\n",
       "    <tr>\n",
       "      <th>8</th>\n",
       "      <td>0.29</td>\n",
       "      <td>0.00</td>\n",
       "      <td>0.67</td>\n",
       "      <td>66.43</td>\n",
       "      <td>37.97</td>\n",
       "      <td>0.00</td>\n",
       "      <td>36.87</td>\n",
       "      <td>8.0</td>\n",
       "      <td>8.06</td>\n",
       "      <td>-0.87</td>\n",
       "      <td>0.26</td>\n",
       "    </tr>\n",
       "    <tr>\n",
       "      <th>1</th>\n",
       "      <td>0.57</td>\n",
       "      <td>0.29</td>\n",
       "      <td>0.30</td>\n",
       "      <td>3.61</td>\n",
       "      <td>29.34</td>\n",
       "      <td>12.39</td>\n",
       "      <td>27.69</td>\n",
       "      <td>1.0</td>\n",
       "      <td>1.42</td>\n",
       "      <td>1.75</td>\n",
       "      <td>-1.17</td>\n",
       "    </tr>\n",
       "    <tr>\n",
       "      <th>5</th>\n",
       "      <td>0.49</td>\n",
       "      <td>0.40</td>\n",
       "      <td>0.20</td>\n",
       "      <td>2.48</td>\n",
       "      <td>20.65</td>\n",
       "      <td>14.35</td>\n",
       "      <td>20.40</td>\n",
       "      <td>5.0</td>\n",
       "      <td>0.01</td>\n",
       "      <td>1.15</td>\n",
       "      <td>0.05</td>\n",
       "    </tr>\n",
       "    <tr>\n",
       "      <th>9</th>\n",
       "      <td>0.55</td>\n",
       "      <td>0.40</td>\n",
       "      <td>0.23</td>\n",
       "      <td>3.83</td>\n",
       "      <td>11.61</td>\n",
       "      <td>9.33</td>\n",
       "      <td>19.83</td>\n",
       "      <td>9.0</td>\n",
       "      <td>-0.19</td>\n",
       "      <td>-0.14</td>\n",
       "      <td>-0.51</td>\n",
       "    </tr>\n",
       "    <tr>\n",
       "      <th>0</th>\n",
       "      <td>0.61</td>\n",
       "      <td>0.06</td>\n",
       "      <td>0.48</td>\n",
       "      <td>11.53</td>\n",
       "      <td>9.59</td>\n",
       "      <td>12.79</td>\n",
       "      <td>18.51</td>\n",
       "      <td>0.0</td>\n",
       "      <td>1.93</td>\n",
       "      <td>-1.35</td>\n",
       "      <td>0.25</td>\n",
       "    </tr>\n",
       "    <tr>\n",
       "      <th>2</th>\n",
       "      <td>0.52</td>\n",
       "      <td>0.21</td>\n",
       "      <td>0.32</td>\n",
       "      <td>7.49</td>\n",
       "      <td>10.59</td>\n",
       "      <td>14.57</td>\n",
       "      <td>17.64</td>\n",
       "      <td>2.0</td>\n",
       "      <td>0.72</td>\n",
       "      <td>-0.42</td>\n",
       "      <td>0.69</td>\n",
       "    </tr>\n",
       "    <tr>\n",
       "      <th>6</th>\n",
       "      <td>0.33</td>\n",
       "      <td>0.40</td>\n",
       "      <td>0.10</td>\n",
       "      <td>4.64</td>\n",
       "      <td>13.50</td>\n",
       "      <td>29.50</td>\n",
       "      <td>16.13</td>\n",
       "      <td>6.0</td>\n",
       "      <td>-0.38</td>\n",
       "      <td>1.70</td>\n",
       "      <td>3.17</td>\n",
       "    </tr>\n",
       "    <tr>\n",
       "      <th>3</th>\n",
       "      <td>0.55</td>\n",
       "      <td>0.62</td>\n",
       "      <td>0.15</td>\n",
       "      <td>2.31</td>\n",
       "      <td>7.11</td>\n",
       "      <td>7.40</td>\n",
       "      <td>15.98</td>\n",
       "      <td>3.0</td>\n",
       "      <td>-1.58</td>\n",
       "      <td>-0.51</td>\n",
       "      <td>-0.53</td>\n",
       "    </tr>\n",
       "    <tr>\n",
       "      <th>4</th>\n",
       "      <td>0.48</td>\n",
       "      <td>0.52</td>\n",
       "      <td>0.17</td>\n",
       "      <td>3.82</td>\n",
       "      <td>8.61</td>\n",
       "      <td>12.23</td>\n",
       "      <td>14.09</td>\n",
       "      <td>4.0</td>\n",
       "      <td>-1.17</td>\n",
       "      <td>-0.26</td>\n",
       "      <td>0.56</td>\n",
       "    </tr>\n",
       "    <tr>\n",
       "      <th>7</th>\n",
       "      <td>1.50</td>\n",
       "      <td>1.00</td>\n",
       "      <td>0.00</td>\n",
       "      <td>0.00</td>\n",
       "      <td>4.95</td>\n",
       "      <td>0.00</td>\n",
       "      <td>8.15</td>\n",
       "      <td>7.0</td>\n",
       "      <td>-2.91</td>\n",
       "      <td>-3.75</td>\n",
       "      <td>-5.93</td>\n",
       "    </tr>\n",
       "  </tbody>\n",
       "</table>\n",
       "</div>"
      ],
      "text/plain": [
       "    TS%  3PAr   FTr   ORB%   AST%   TOV%   USG%  Cluster  PCA1  PCA2  PCA3\n",
       "8  0.29  0.00  0.67  66.43  37.97   0.00  36.87      8.0  8.06 -0.87  0.26\n",
       "1  0.57  0.29  0.30   3.61  29.34  12.39  27.69      1.0  1.42  1.75 -1.17\n",
       "5  0.49  0.40  0.20   2.48  20.65  14.35  20.40      5.0  0.01  1.15  0.05\n",
       "9  0.55  0.40  0.23   3.83  11.61   9.33  19.83      9.0 -0.19 -0.14 -0.51\n",
       "0  0.61  0.06  0.48  11.53   9.59  12.79  18.51      0.0  1.93 -1.35  0.25\n",
       "2  0.52  0.21  0.32   7.49  10.59  14.57  17.64      2.0  0.72 -0.42  0.69\n",
       "6  0.33  0.40  0.10   4.64  13.50  29.50  16.13      6.0 -0.38  1.70  3.17\n",
       "3  0.55  0.62  0.15   2.31   7.11   7.40  15.98      3.0 -1.58 -0.51 -0.53\n",
       "4  0.48  0.52  0.17   3.82   8.61  12.23  14.09      4.0 -1.17 -0.26  0.56\n",
       "7  1.50  1.00  0.00   0.00   4.95   0.00   8.15      7.0 -2.91 -3.75 -5.93"
      ]
     },
     "execution_count": 84,
     "metadata": {},
     "output_type": "execute_result"
    }
   ],
   "source": [
    "averages_df.sort_values('USG%', ascending=False)"
   ]
  },
  {
   "cell_type": "markdown",
   "metadata": {},
   "source": [
    "### 6.0 Graph Clusters"
   ]
  },
  {
   "cell_type": "code",
   "execution_count": 85,
   "metadata": {},
   "outputs": [],
   "source": [
    "import matplotlib.pyplot as plt\n",
    "from mpl_toolkits import mplot3d"
   ]
  },
  {
   "cell_type": "code",
   "execution_count": 86,
   "metadata": {},
   "outputs": [
    {
     "data": {
      "image/png": "[encoded data removed]",
      "text/plain": [
       "<Figure size 432x288 with 1 Axes>"
      ]
     },
     "metadata": {
      "needs_background": "light"
     },
     "output_type": "display_data"
    }
   ],
   "source": [
    "cmap = plt.cm.get_cmap('jet', reduced_df['Cluster'].nunique())\n",
    "\n",
    "ax = plt.axes(projection='3d')\n",
    "\n",
    "ax.scatter3D(reduced_df['PCA1'], reduced_df['PCA2'], reduced_df['PCA3'], c=reduced_df['Cluster'], cmap=cmap)\n",
    "\n",
    "for i, txt in enumerate(reduced_df['Player'].tolist()):\n",
    "    if i % 100 == 0:\n",
    "        ax.text(reduced_df['PCA1'][i], reduced_df['PCA2'][i], reduced_df['PCA3'][i], txt)"
   ]
  },
  {
   "cell_type": "code",
   "execution_count": null,
   "metadata": {},
   "outputs": [],
   "source": []
  },
  {
   "cell_type": "markdown",
   "metadata": {},
   "source": [
    "### 7.0 Optional: Player Locator"
   ]
  },
  {
   "cell_type": "code",
   "execution_count": 87,
   "metadata": {},
   "outputs": [
    {
     "name": "stdout",
     "output_type": "stream",
     "text": [
      "Player name: Kemba Walker\n"
     ]
    }
   ],
   "source": [
    "# Input player name:\n",
    "\n",
    "player_name = input('Player name: ')\n",
    "\n",
    "# Retrieve index of player name:\n",
    "\n",
    "index = reduced_df['Player'].tolist().index(f'{player_name}')\n",
    "\n",
    "# Pull player's stats:\n",
    "\n",
    "player_stats = reduced_df.iloc[index,:]\n",
    "\n",
    "player_stats = np.asarray(player_stats)"
   ]
  },
  {
   "cell_type": "markdown",
   "metadata": {},
   "source": [
    "### 7.1 Find L2-Norm of Player's PCA vs. Others"
   ]
  },
  {
   "cell_type": "code",
   "execution_count": 88,
   "metadata": {},
   "outputs": [],
   "source": [
    "# Loop through and create a list of L2-Norms:\n",
    "\n",
    "player_diff = []\n",
    "\n",
    "for i in range(len(reduced_df)):\n",
    "    pca1, pca2, pca3 = player_stats[10], player_stats[11], player_stats[12]\n",
    "    ipca1, ipca2, ipca3 = reduced_df['PCA1'][i], reduced_df['PCA2'][i], reduced_df['PCA3'][i]\n",
    "    total_1 = pca1 - ipca1\n",
    "    total_2 = pca2 - ipca2\n",
    "    total_3 = pca3 - ipca3\n",
    "    l2_norm = np.sqrt(total_1 ** 2 + total_2 ** 2 + total_3 ** 2)\n",
    "    player_diff += [(i,l2_norm)]"
   ]
  },
  {
   "cell_type": "markdown",
   "metadata": {},
   "source": [
    "### 7.2 Idenitify Three Best Comp Players"
   ]
  },
  {
   "cell_type": "code",
   "execution_count": 89,
   "metadata": {
    "scrolled": true
   },
   "outputs": [
    {
     "name": "stdout",
     "output_type": "stream",
     "text": [
      "320 399 143 164\n"
     ]
    }
   ],
   "source": [
    "# Initialize:\n",
    "\n",
    "comp_1, it_1, comp_2, it_2, comp_3, it_3 = [x for x in np.zeros(6) + 3]\n",
    "\n",
    "# Best Comp:\n",
    "\n",
    "for i in range(len(player_diff)):\n",
    "    if (player_diff[i][1] < comp_1) and (player_diff[i][1] > 0):\n",
    "        comp_1 = player_diff[i][1]\n",
    "        it_1 = i\n",
    "\n",
    "# Second Comp:\n",
    "\n",
    "for i in range(len(player_diff)):\n",
    "    if (player_diff[i][1] < comp_2) and (player_diff[i][1] > comp_1):\n",
    "        comp_2 = player_diff[i][1]\n",
    "        it_2 = i\n",
    "\n",
    "# Third Comp:\n",
    "\n",
    "for i in range(len(player_diff)):\n",
    "    if (player_diff[i][1] < comp_3) and (player_diff[i][1] > comp_1) and (player_diff[i][1] > comp_2):\n",
    "        comp_3 = player_diff[i][1]\n",
    "        it_3 = i\n",
    "        \n",
    "# Least Comp:\n",
    "\n",
    "least_comp = 0\n",
    "it_least = 0\n",
    "\n",
    "for i in range(len(player_diff)):\n",
    "    if (player_diff[i][1] > least_comp):\n",
    "        least_comp = player_diff[i][1]\n",
    "        it_least = i\n",
    "\n",
    "print(it_1, it_2, it_3, it_least)"
   ]
  },
  {
   "cell_type": "markdown",
   "metadata": {},
   "source": [
    "### 7.3 Create New DF with Comps"
   ]
  },
  {
   "cell_type": "code",
   "execution_count": 90,
   "metadata": {
    "scrolled": true
   },
   "outputs": [],
   "source": [
    "player_comp_df = pd.DataFrame()\n",
    "\n",
    "player_comp_df['Actual Player'] = reduced_df.iloc[index,1:]\n",
    "player_comp_df['Top Comp'] = reduced_df.iloc[it_1,1:]\n",
    "player_comp_df['Second-Best Comp'] = reduced_df.iloc[it_2,1:]\n",
    "player_comp_df['Third-Best Comp'] = reduced_df.iloc[it_3,1:]"
   ]
  },
  {
   "cell_type": "code",
   "execution_count": 91,
   "metadata": {},
   "outputs": [],
   "source": [
    "comp_df = pd.DataFrame(np.transpose(player_comp_df.values))\n",
    "\n",
    "list_of_columns = ['Player'] + list(averages_df.columns)\n",
    "\n",
    "comp_df.columns = list_of_columns"
   ]
  },
  {
   "cell_type": "code",
   "execution_count": 92,
   "metadata": {
    "scrolled": true
   },
   "outputs": [],
   "source": [
    "player_subject = pd.Series(scaled_vectors[index, :])\n",
    "\n",
    "comp_a = pd.Series(scaled_vectors[it_1, :])\n",
    "comp_b = pd.Series(scaled_vectors[it_2, :])\n",
    "comp_c = pd.Series(scaled_vectors[it_3, :])\n",
    "\n",
    "scaled_array = np.array([player_subject, comp_a, comp_b, comp_c])\n",
    "\n",
    "new_columns = ['sTS%', 's3PAr', 'sFTr', 'sORB%', 'sAST%', 'sTOV%', 'sUSG%']\n",
    "\n",
    "for i, column in enumerate(new_columns):\n",
    "    comp_df[column] = [round(scaled_array[x][i], 2) for x in range(4)]"
   ]
  },
  {
   "cell_type": "code",
   "execution_count": 93,
   "metadata": {},
   "outputs": [],
   "source": [
    "comp_df['Similarity Score'] = [1, (1 - comp_1/least_comp), (1 - comp_2/least_comp), (1 - comp_3/least_comp)]"
   ]
  },
  {
   "cell_type": "code",
   "execution_count": 94,
   "metadata": {},
   "outputs": [],
   "source": [
    "comp_df = comp_df.drop(['PCA1', 'PCA2', 'PCA3'], axis=1)"
   ]
  },
  {
   "cell_type": "code",
   "execution_count": 95,
   "metadata": {},
   "outputs": [
    {
     "data": {
      "text/html": [
       "<div>\n",
       "<style scoped>\n",
       "    .dataframe tbody tr th:only-of-type {\n",
       "        vertical-align: middle;\n",
       "    }\n",
       "\n",
       "    .dataframe tbody tr th {\n",
       "        vertical-align: top;\n",
       "    }\n",
       "\n",
       "    .dataframe thead th {\n",
       "        text-align: right;\n",
       "    }\n",
       "</style>\n",
       "<table border=\"1\" class=\"dataframe\">\n",
       "  <thead>\n",
       "    <tr style=\"text-align: right;\">\n",
       "      <th></th>\n",
       "      <th>Player</th>\n",
       "      <th>TS%</th>\n",
       "      <th>3PAr</th>\n",
       "      <th>FTr</th>\n",
       "      <th>ORB%</th>\n",
       "      <th>AST%</th>\n",
       "      <th>TOV%</th>\n",
       "      <th>USG%</th>\n",
       "      <th>Cluster</th>\n",
       "      <th>sTS%</th>\n",
       "      <th>s3PAr</th>\n",
       "      <th>sFTr</th>\n",
       "      <th>sORB%</th>\n",
       "      <th>sAST%</th>\n",
       "      <th>sTOV%</th>\n",
       "      <th>sUSG%</th>\n",
       "      <th>Similarity Score</th>\n",
       "    </tr>\n",
       "  </thead>\n",
       "  <tbody>\n",
       "    <tr>\n",
       "      <th>0</th>\n",
       "      <td>Kemba Walker</td>\n",
       "      <td>0.558</td>\n",
       "      <td>0.434</td>\n",
       "      <td>0.267</td>\n",
       "      <td>1.9</td>\n",
       "      <td>29.4</td>\n",
       "      <td>10.1</td>\n",
       "      <td>31.5</td>\n",
       "      <td>1</td>\n",
       "      <td>0.23</td>\n",
       "      <td>0.25</td>\n",
       "      <td>0.10</td>\n",
       "      <td>-0.52</td>\n",
       "      <td>1.83</td>\n",
       "      <td>-0.34</td>\n",
       "      <td>2.36</td>\n",
       "      <td>1.000000</td>\n",
       "    </tr>\n",
       "    <tr>\n",
       "      <th>1</th>\n",
       "      <td>Kyrie Irving</td>\n",
       "      <td>0.592</td>\n",
       "      <td>0.35</td>\n",
       "      <td>0.197</td>\n",
       "      <td>3.4</td>\n",
       "      <td>35</td>\n",
       "      <td>11.3</td>\n",
       "      <td>29.6</td>\n",
       "      <td>1</td>\n",
       "      <td>0.53</td>\n",
       "      <td>-0.14</td>\n",
       "      <td>-0.30</td>\n",
       "      <td>-0.27</td>\n",
       "      <td>2.46</td>\n",
       "      <td>-0.13</td>\n",
       "      <td>2.01</td>\n",
       "      <td>0.965522</td>\n",
       "    </tr>\n",
       "    <tr>\n",
       "      <th>2</th>\n",
       "      <td>Damian Lillard</td>\n",
       "      <td>0.588</td>\n",
       "      <td>0.419</td>\n",
       "      <td>0.335</td>\n",
       "      <td>2.6</td>\n",
       "      <td>30.6</td>\n",
       "      <td>10.8</td>\n",
       "      <td>29.3</td>\n",
       "      <td>1</td>\n",
       "      <td>0.50</td>\n",
       "      <td>0.18</td>\n",
       "      <td>0.48</td>\n",
       "      <td>-0.41</td>\n",
       "      <td>1.96</td>\n",
       "      <td>-0.22</td>\n",
       "      <td>1.96</td>\n",
       "      <td>0.965375</td>\n",
       "    </tr>\n",
       "    <tr>\n",
       "      <th>3</th>\n",
       "      <td>Mike Conley</td>\n",
       "      <td>0.569</td>\n",
       "      <td>0.38</td>\n",
       "      <td>0.363</td>\n",
       "      <td>1.9</td>\n",
       "      <td>33.4</td>\n",
       "      <td>9.1</td>\n",
       "      <td>27.3</td>\n",
       "      <td>1</td>\n",
       "      <td>0.33</td>\n",
       "      <td>-0.00</td>\n",
       "      <td>0.64</td>\n",
       "      <td>-0.52</td>\n",
       "      <td>2.28</td>\n",
       "      <td>-0.52</td>\n",
       "      <td>1.59</td>\n",
       "      <td>0.962805</td>\n",
       "    </tr>\n",
       "  </tbody>\n",
       "</table>\n",
       "</div>"
      ],
      "text/plain": [
       "           Player    TS%   3PAr    FTr ORB%  AST%  TOV%  USG% Cluster  sTS%  \\\n",
       "0    Kemba Walker  0.558  0.434  0.267  1.9  29.4  10.1  31.5       1  0.23   \n",
       "1    Kyrie Irving  0.592   0.35  0.197  3.4    35  11.3  29.6       1  0.53   \n",
       "2  Damian Lillard  0.588  0.419  0.335  2.6  30.6  10.8  29.3       1  0.50   \n",
       "3     Mike Conley  0.569   0.38  0.363  1.9  33.4   9.1  27.3       1  0.33   \n",
       "\n",
       "   s3PAr  sFTr  sORB%  sAST%  sTOV%  sUSG%  Similarity Score  \n",
       "0   0.25  0.10  -0.52   1.83  -0.34   2.36          1.000000  \n",
       "1  -0.14 -0.30  -0.27   2.46  -0.13   2.01          0.965522  \n",
       "2   0.18  0.48  -0.41   1.96  -0.22   1.96          0.965375  \n",
       "3  -0.00  0.64  -0.52   2.28  -0.52   1.59          0.962805  "
      ]
     },
     "execution_count": 95,
     "metadata": {},
     "output_type": "execute_result"
    }
   ],
   "source": [
    "comp_df"
   ]
  },
  {
   "cell_type": "code",
   "execution_count": null,
   "metadata": {},
   "outputs": [],
   "source": []
  }
 ],
 "metadata": {
  "kernelspec": {
   "display_name": "Python 3",
   "language": "python",
   "name": "python3"
  },
  "language_info": {
   "codemirror_mode": {
    "name": "ipython",
    "version": 3
   },
   "file_extension": ".py",
   "mimetype": "text/x-python",
   "name": "python",
   "nbconvert_exporter": "python",
   "pygments_lexer": "ipython3",
   "version": "3.7.1"
  }
 },
 "nbformat": 4,
 "nbformat_minor": 2
}
