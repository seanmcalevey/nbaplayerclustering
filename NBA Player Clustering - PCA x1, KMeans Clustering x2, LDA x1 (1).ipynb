{
 "cells": [
  {
   "cell_type": "markdown",
   "metadata": {},
   "source": [
    "### 1.0 Import Libraries"
   ]
  },
  {
   "cell_type": "code",
   "execution_count": 1,
   "metadata": {},
   "outputs": [],
   "source": [
    "import numpy as np\n",
    "from urllib.request import urlopen\n",
    "from bs4 import BeautifulSoup\n",
    "import pandas as pd\n",
    "import matplotlib.pyplot as plt"
   ]
  },
  {
   "cell_type": "markdown",
   "metadata": {},
   "source": [
    "### 2.0 Use BeautifulSoup and Urlopen to Retrieve Data"
   ]
  },
  {
   "cell_type": "code",
   "execution_count": 2,
   "metadata": {
    "scrolled": true
   },
   "outputs": [],
   "source": [
    "list_of_years = [2018, 2019]\n",
    "\n",
    "list_data = []\n",
    "\n",
    "for year in list_of_years:\n",
    "    \n",
    "    url = f'https://www.basketball-reference.com/leagues/NBA_{year}_advanced.html'\n",
    "\n",
    "    html = urlopen(url)\n",
    "\n",
    "    soup = BeautifulSoup(html)\n",
    "    \n",
    "    headers = [th.getText() for th in soup.findAll('tr')[0].findAll('th')]\n",
    "\n",
    "    headers = headers[1:] # columns\n",
    "    \n",
    "    rows = soup.findAll('tr')\n",
    "\n",
    "    player_stats_1 = [[td.getText() for td in rows[i].findAll('td')] for i in range(len(rows))] # rows\n",
    "    \n",
    "    tmp_df = pd.DataFrame(player_stats_1, columns=headers)\n",
    "    \n",
    "    tmp_mat = tmp_df.values\n",
    "    \n",
    "    list_data.append(tmp_mat)"
   ]
  },
  {
   "cell_type": "markdown",
   "metadata": {},
   "source": [
    "### 2.2 Build Full DF"
   ]
  },
  {
   "cell_type": "code",
   "execution_count": 3,
   "metadata": {},
   "outputs": [
    {
     "data": {
      "text/plain": [
       "(1426, 28)"
      ]
     },
     "execution_count": 3,
     "metadata": {},
     "output_type": "execute_result"
    }
   ],
   "source": [
    "full_data = np.array(list_data[0])\n",
    "\n",
    "for list_i in list_data[1:]:\n",
    "    \n",
    "    tmp_data = np.array(list_i)\n",
    "    \n",
    "    full_data = np.vstack((full_data, tmp_data))\n",
    "    \n",
    "    \n",
    "full_data.shape"
   ]
  },
  {
   "cell_type": "code",
   "execution_count": 4,
   "metadata": {},
   "outputs": [
    {
     "data": {
      "text/html": [
       "<div>\n",
       "<style scoped>\n",
       "    .dataframe tbody tr th:only-of-type {\n",
       "        vertical-align: middle;\n",
       "    }\n",
       "\n",
       "    .dataframe tbody tr th {\n",
       "        vertical-align: top;\n",
       "    }\n",
       "\n",
       "    .dataframe thead th {\n",
       "        text-align: right;\n",
       "    }\n",
       "</style>\n",
       "<table border=\"1\" class=\"dataframe\">\n",
       "  <thead>\n",
       "    <tr style=\"text-align: right;\">\n",
       "      <th></th>\n",
       "      <th>Player</th>\n",
       "      <th>Pos</th>\n",
       "      <th>Age</th>\n",
       "      <th>Tm</th>\n",
       "      <th>G</th>\n",
       "      <th>MP</th>\n",
       "      <th>PER</th>\n",
       "      <th>TS%</th>\n",
       "      <th>3PAr</th>\n",
       "      <th>FTr</th>\n",
       "      <th>...</th>\n",
       "      <th></th>\n",
       "      <th>OWS</th>\n",
       "      <th>DWS</th>\n",
       "      <th>WS</th>\n",
       "      <th>WS/48</th>\n",
       "      <th></th>\n",
       "      <th>OBPM</th>\n",
       "      <th>DBPM</th>\n",
       "      <th>BPM</th>\n",
       "      <th>VORP</th>\n",
       "    </tr>\n",
       "  </thead>\n",
       "  <tbody>\n",
       "    <tr>\n",
       "      <th>0</th>\n",
       "      <td>Álex Abrines</td>\n",
       "      <td>SG</td>\n",
       "      <td>24</td>\n",
       "      <td>OKC</td>\n",
       "      <td>75</td>\n",
       "      <td>1134</td>\n",
       "      <td>9.0</td>\n",
       "      <td>.567</td>\n",
       "      <td>.759</td>\n",
       "      <td>.158</td>\n",
       "      <td>...</td>\n",
       "      <td></td>\n",
       "      <td>1.3</td>\n",
       "      <td>1.0</td>\n",
       "      <td>2.2</td>\n",
       "      <td>.094</td>\n",
       "      <td></td>\n",
       "      <td>-1.9</td>\n",
       "      <td>0.4</td>\n",
       "      <td>-1.5</td>\n",
       "      <td>0.1</td>\n",
       "    </tr>\n",
       "    <tr>\n",
       "      <th>1</th>\n",
       "      <td>Quincy Acy</td>\n",
       "      <td>PF</td>\n",
       "      <td>27</td>\n",
       "      <td>BRK</td>\n",
       "      <td>70</td>\n",
       "      <td>1359</td>\n",
       "      <td>8.2</td>\n",
       "      <td>.525</td>\n",
       "      <td>.800</td>\n",
       "      <td>.164</td>\n",
       "      <td>...</td>\n",
       "      <td></td>\n",
       "      <td>-0.1</td>\n",
       "      <td>1.1</td>\n",
       "      <td>1.0</td>\n",
       "      <td>.036</td>\n",
       "      <td></td>\n",
       "      <td>-2.6</td>\n",
       "      <td>0.1</td>\n",
       "      <td>-2.5</td>\n",
       "      <td>-0.2</td>\n",
       "    </tr>\n",
       "    <tr>\n",
       "      <th>2</th>\n",
       "      <td>Steven Adams</td>\n",
       "      <td>C</td>\n",
       "      <td>24</td>\n",
       "      <td>OKC</td>\n",
       "      <td>76</td>\n",
       "      <td>2487</td>\n",
       "      <td>20.6</td>\n",
       "      <td>.630</td>\n",
       "      <td>.003</td>\n",
       "      <td>.402</td>\n",
       "      <td>...</td>\n",
       "      <td></td>\n",
       "      <td>6.7</td>\n",
       "      <td>3.0</td>\n",
       "      <td>9.7</td>\n",
       "      <td>.187</td>\n",
       "      <td></td>\n",
       "      <td>1.7</td>\n",
       "      <td>-0.6</td>\n",
       "      <td>1.1</td>\n",
       "      <td>2.0</td>\n",
       "    </tr>\n",
       "    <tr>\n",
       "      <th>3</th>\n",
       "      <td>Bam Adebayo</td>\n",
       "      <td>C</td>\n",
       "      <td>20</td>\n",
       "      <td>MIA</td>\n",
       "      <td>69</td>\n",
       "      <td>1368</td>\n",
       "      <td>15.7</td>\n",
       "      <td>.570</td>\n",
       "      <td>.021</td>\n",
       "      <td>.526</td>\n",
       "      <td>...</td>\n",
       "      <td></td>\n",
       "      <td>2.3</td>\n",
       "      <td>1.9</td>\n",
       "      <td>4.2</td>\n",
       "      <td>.148</td>\n",
       "      <td></td>\n",
       "      <td>-1.1</td>\n",
       "      <td>0.7</td>\n",
       "      <td>-0.4</td>\n",
       "      <td>0.6</td>\n",
       "    </tr>\n",
       "    <tr>\n",
       "      <th>4</th>\n",
       "      <td>Arron Afflalo</td>\n",
       "      <td>SG</td>\n",
       "      <td>32</td>\n",
       "      <td>ORL</td>\n",
       "      <td>53</td>\n",
       "      <td>682</td>\n",
       "      <td>5.8</td>\n",
       "      <td>.516</td>\n",
       "      <td>.432</td>\n",
       "      <td>.160</td>\n",
       "      <td>...</td>\n",
       "      <td></td>\n",
       "      <td>-0.1</td>\n",
       "      <td>0.2</td>\n",
       "      <td>0.1</td>\n",
       "      <td>.009</td>\n",
       "      <td></td>\n",
       "      <td>-3.8</td>\n",
       "      <td>-1.5</td>\n",
       "      <td>-5.4</td>\n",
       "      <td>-0.6</td>\n",
       "    </tr>\n",
       "  </tbody>\n",
       "</table>\n",
       "<p>5 rows × 28 columns</p>\n",
       "</div>"
      ],
      "text/plain": [
       "          Player Pos Age   Tm   G    MP   PER   TS%  3PAr   FTr  ...     OWS  \\\n",
       "0   Álex Abrines  SG  24  OKC  75  1134   9.0  .567  .759  .158  ...     1.3   \n",
       "1     Quincy Acy  PF  27  BRK  70  1359   8.2  .525  .800  .164  ...    -0.1   \n",
       "2   Steven Adams   C  24  OKC  76  2487  20.6  .630  .003  .402  ...     6.7   \n",
       "3    Bam Adebayo   C  20  MIA  69  1368  15.7  .570  .021  .526  ...     2.3   \n",
       "4  Arron Afflalo  SG  32  ORL  53   682   5.8  .516  .432  .160  ...    -0.1   \n",
       "\n",
       "   DWS   WS WS/48    OBPM  DBPM   BPM  VORP  \n",
       "0  1.0  2.2  .094    -1.9   0.4  -1.5   0.1  \n",
       "1  1.1  1.0  .036    -2.6   0.1  -2.5  -0.2  \n",
       "2  3.0  9.7  .187     1.7  -0.6   1.1   2.0  \n",
       "3  1.9  4.2  .148    -1.1   0.7  -0.4   0.6  \n",
       "4  0.2  0.1  .009    -3.8  -1.5  -5.4  -0.6  \n",
       "\n",
       "[5 rows x 28 columns]"
      ]
     },
     "execution_count": 4,
     "metadata": {},
     "output_type": "execute_result"
    }
   ],
   "source": [
    "og_df = pd.DataFrame(full_data[1:], columns=headers)\n",
    "\n",
    "og_df.head()"
   ]
  },
  {
   "cell_type": "markdown",
   "metadata": {},
   "source": [
    "### 2.3 Create DataFrame and Group By Player Name"
   ]
  },
  {
   "cell_type": "code",
   "execution_count": 5,
   "metadata": {},
   "outputs": [],
   "source": [
    "og_df = og_df.apply(pd.to_numeric, errors='ignore')\n",
    "\n",
    "# Converts ordinal variable (Pos) into numeric\n",
    "og_df['Pos'] = og_df['Pos'].map({'PG': 1, 'SG': 2, 'SF': 3, 'PF': 4, 'C': 5})\n",
    "\n",
    "new_df = og_df.groupby(by='Player').mean()\n",
    "\n",
    "new_df = new_df.round(3) # round to 3 decimal places"
   ]
  },
  {
   "cell_type": "markdown",
   "metadata": {},
   "source": [
    "### 2.4 Control Size of Player Sample by Minimum Minutes Played"
   ]
  },
  {
   "cell_type": "code",
   "execution_count": 6,
   "metadata": {},
   "outputs": [
    {
     "data": {
      "text/html": [
       "<div>\n",
       "<style scoped>\n",
       "    .dataframe tbody tr th:only-of-type {\n",
       "        vertical-align: middle;\n",
       "    }\n",
       "\n",
       "    .dataframe tbody tr th {\n",
       "        vertical-align: top;\n",
       "    }\n",
       "\n",
       "    .dataframe thead th {\n",
       "        text-align: right;\n",
       "    }\n",
       "</style>\n",
       "<table border=\"1\" class=\"dataframe\">\n",
       "  <thead>\n",
       "    <tr style=\"text-align: right;\">\n",
       "      <th></th>\n",
       "      <th>Player</th>\n",
       "      <th>Pos</th>\n",
       "      <th>Age</th>\n",
       "      <th>G</th>\n",
       "      <th>MP</th>\n",
       "      <th>PER</th>\n",
       "      <th>TS%</th>\n",
       "      <th>3PAr</th>\n",
       "      <th>FTr</th>\n",
       "      <th>ORB%</th>\n",
       "      <th>...</th>\n",
       "      <th></th>\n",
       "      <th>OWS</th>\n",
       "      <th>DWS</th>\n",
       "      <th>WS</th>\n",
       "      <th>WS/48</th>\n",
       "      <th></th>\n",
       "      <th>OBPM</th>\n",
       "      <th>DBPM</th>\n",
       "      <th>BPM</th>\n",
       "      <th>VORP</th>\n",
       "    </tr>\n",
       "  </thead>\n",
       "  <tbody>\n",
       "    <tr>\n",
       "      <th>0</th>\n",
       "      <td>Aaron Gordon</td>\n",
       "      <td>4.0</td>\n",
       "      <td>22.5</td>\n",
       "      <td>68.0</td>\n",
       "      <td>2271.0</td>\n",
       "      <td>15.8</td>\n",
       "      <td>0.534</td>\n",
       "      <td>0.364</td>\n",
       "      <td>0.251</td>\n",
       "      <td>5.10</td>\n",
       "      <td>...</td>\n",
       "      <td>NaN</td>\n",
       "      <td>1.35</td>\n",
       "      <td>2.65</td>\n",
       "      <td>4.00</td>\n",
       "      <td>0.083</td>\n",
       "      <td>NaN</td>\n",
       "      <td>0.60</td>\n",
       "      <td>-0.15</td>\n",
       "      <td>0.45</td>\n",
       "      <td>1.40</td>\n",
       "    </tr>\n",
       "    <tr>\n",
       "      <th>1</th>\n",
       "      <td>Al Horford</td>\n",
       "      <td>5.0</td>\n",
       "      <td>31.5</td>\n",
       "      <td>70.0</td>\n",
       "      <td>2125.0</td>\n",
       "      <td>18.9</td>\n",
       "      <td>0.590</td>\n",
       "      <td>0.290</td>\n",
       "      <td>0.145</td>\n",
       "      <td>5.75</td>\n",
       "      <td>...</td>\n",
       "      <td>NaN</td>\n",
       "      <td>4.25</td>\n",
       "      <td>3.35</td>\n",
       "      <td>7.65</td>\n",
       "      <td>0.173</td>\n",
       "      <td>NaN</td>\n",
       "      <td>2.85</td>\n",
       "      <td>1.95</td>\n",
       "      <td>4.75</td>\n",
       "      <td>3.65</td>\n",
       "    </tr>\n",
       "    <tr>\n",
       "      <th>2</th>\n",
       "      <td>Al-Farouq Aminu</td>\n",
       "      <td>4.0</td>\n",
       "      <td>27.5</td>\n",
       "      <td>75.0</td>\n",
       "      <td>2182.0</td>\n",
       "      <td>12.6</td>\n",
       "      <td>0.545</td>\n",
       "      <td>0.527</td>\n",
       "      <td>0.214</td>\n",
       "      <td>5.25</td>\n",
       "      <td>...</td>\n",
       "      <td>NaN</td>\n",
       "      <td>1.95</td>\n",
       "      <td>3.00</td>\n",
       "      <td>5.00</td>\n",
       "      <td>0.109</td>\n",
       "      <td>NaN</td>\n",
       "      <td>-0.30</td>\n",
       "      <td>0.85</td>\n",
       "      <td>0.55</td>\n",
       "      <td>1.40</td>\n",
       "    </tr>\n",
       "    <tr>\n",
       "      <th>3</th>\n",
       "      <td>Alex Len</td>\n",
       "      <td>5.0</td>\n",
       "      <td>24.5</td>\n",
       "      <td>73.0</td>\n",
       "      <td>1469.5</td>\n",
       "      <td>18.3</td>\n",
       "      <td>0.593</td>\n",
       "      <td>0.162</td>\n",
       "      <td>0.472</td>\n",
       "      <td>11.85</td>\n",
       "      <td>...</td>\n",
       "      <td>NaN</td>\n",
       "      <td>2.70</td>\n",
       "      <td>1.15</td>\n",
       "      <td>3.85</td>\n",
       "      <td>0.127</td>\n",
       "      <td>NaN</td>\n",
       "      <td>0.30</td>\n",
       "      <td>-0.80</td>\n",
       "      <td>-0.45</td>\n",
       "      <td>0.55</td>\n",
       "    </tr>\n",
       "    <tr>\n",
       "      <th>4</th>\n",
       "      <td>Allen Crabbe</td>\n",
       "      <td>2.0</td>\n",
       "      <td>25.5</td>\n",
       "      <td>59.0</td>\n",
       "      <td>1665.0</td>\n",
       "      <td>10.0</td>\n",
       "      <td>0.538</td>\n",
       "      <td>0.669</td>\n",
       "      <td>0.156</td>\n",
       "      <td>1.40</td>\n",
       "      <td>...</td>\n",
       "      <td>NaN</td>\n",
       "      <td>0.80</td>\n",
       "      <td>1.20</td>\n",
       "      <td>2.00</td>\n",
       "      <td>0.053</td>\n",
       "      <td>NaN</td>\n",
       "      <td>-1.20</td>\n",
       "      <td>-0.55</td>\n",
       "      <td>-1.75</td>\n",
       "      <td>0.25</td>\n",
       "    </tr>\n",
       "  </tbody>\n",
       "</table>\n",
       "<p>5 rows × 27 columns</p>\n",
       "</div>"
      ],
      "text/plain": [
       "            Player  Pos   Age     G      MP   PER    TS%   3PAr    FTr   ORB%  \\\n",
       "0     Aaron Gordon  4.0  22.5  68.0  2271.0  15.8  0.534  0.364  0.251   5.10   \n",
       "1       Al Horford  5.0  31.5  70.0  2125.0  18.9  0.590  0.290  0.145   5.75   \n",
       "2  Al-Farouq Aminu  4.0  27.5  75.0  2182.0  12.6  0.545  0.527  0.214   5.25   \n",
       "3         Alex Len  5.0  24.5  73.0  1469.5  18.3  0.593  0.162  0.472  11.85   \n",
       "4     Allen Crabbe  2.0  25.5  59.0  1665.0  10.0  0.538  0.669  0.156   1.40   \n",
       "\n",
       "   ...       OWS   DWS    WS  WS/48      OBPM  DBPM   BPM  VORP  \n",
       "0  ... NaN  1.35  2.65  4.00  0.083 NaN  0.60 -0.15  0.45  1.40  \n",
       "1  ... NaN  4.25  3.35  7.65  0.173 NaN  2.85  1.95  4.75  3.65  \n",
       "2  ... NaN  1.95  3.00  5.00  0.109 NaN -0.30  0.85  0.55  1.40  \n",
       "3  ... NaN  2.70  1.15  3.85  0.127 NaN  0.30 -0.80 -0.45  0.55  \n",
       "4  ... NaN  0.80  1.20  2.00  0.053 NaN -1.20 -0.55 -1.75  0.25  \n",
       "\n",
       "[5 rows x 27 columns]"
      ]
     },
     "execution_count": 6,
     "metadata": {},
     "output_type": "execute_result"
    }
   ],
   "source": [
    "min_mins_played = 1000\n",
    "\n",
    "new_df = new_df[new_df['MP'] > min_mins_played]\n",
    "\n",
    "new_df = new_df.reset_index(drop=False)\n",
    "\n",
    "new_df.head()"
   ]
  },
  {
   "cell_type": "code",
   "execution_count": 7,
   "metadata": {},
   "outputs": [],
   "source": [
    "df = new_df.copy()"
   ]
  },
  {
   "cell_type": "markdown",
   "metadata": {},
   "source": [
    "### 2.5 Convert to Numbers and Drop Unnecessary Columns"
   ]
  },
  {
   "cell_type": "code",
   "execution_count": 8,
   "metadata": {},
   "outputs": [],
   "source": [
    "# Keep specific columns\n",
    "columns_to_keep = ['Player', 'Pos', 'MP', 'Age', 'TS%', '3PAr', 'FTr', 'ORB%', 'DRB%',\n",
    "                   'AST%', 'TOV%', 'USG%', 'STL%', 'BLK%', 'DBPM', 'WS']\n",
    "\n",
    "df = pd.DataFrame(new_df[columns_to_keep], columns=columns_to_keep)"
   ]
  },
  {
   "cell_type": "markdown",
   "metadata": {},
   "source": [
    "### 2.6 Convert to Base English ASCII Letters"
   ]
  },
  {
   "cell_type": "code",
   "execution_count": 9,
   "metadata": {},
   "outputs": [],
   "source": [
    "import unidecode\n",
    "\n",
    "df['Player'] = df['Player'].apply(lambda x: unidecode.unidecode(x))"
   ]
  },
  {
   "cell_type": "markdown",
   "metadata": {},
   "source": [
    "### 3.0 Import 'DRAYMOND' data from FiveThirtyEight"
   ]
  },
  {
   "cell_type": "code",
   "execution_count": 10,
   "metadata": {},
   "outputs": [],
   "source": [
    "import sys\n",
    "\n",
    "sys.path.append('/Users/seanmcalevey/')"
   ]
  },
  {
   "cell_type": "code",
   "execution_count": 11,
   "metadata": {},
   "outputs": [],
   "source": [
    "directory = '/Users/seanmcalevey/documents/github/nbaplayerclustering/fivethirtyeight_data/nba-draymond/'\n",
    "\n",
    "df1 = pd.read_csv(directory + 'draymond.csv', sep=',')"
   ]
  },
  {
   "cell_type": "markdown",
   "metadata": {},
   "source": [
    "### 3.1 Limit DRAYMOND to Players with >500 Poss."
   ]
  },
  {
   "cell_type": "code",
   "execution_count": 12,
   "metadata": {},
   "outputs": [],
   "source": [
    "min_possessions = 500\n",
    "\n",
    "df1 = df1[df1['season'] >= min(list_of_years)]\n",
    "\n",
    "df1 = df1[df1['possessions'] > min_possessions]"
   ]
  },
  {
   "cell_type": "markdown",
   "metadata": {},
   "source": [
    "### 3.2 Build Total DF"
   ]
  },
  {
   "cell_type": "code",
   "execution_count": 13,
   "metadata": {},
   "outputs": [],
   "source": [
    "total_df = pd.merge(df, df1, left_on='Player', right_on='player')"
   ]
  },
  {
   "cell_type": "code",
   "execution_count": 14,
   "metadata": {},
   "outputs": [],
   "source": [
    "total_df = total_df.drop(['player', 'season', 'possessions'], axis=1)"
   ]
  },
  {
   "cell_type": "code",
   "execution_count": 15,
   "metadata": {
    "scrolled": true
   },
   "outputs": [],
   "source": [
    "total_df = total_df[['Player', 'Pos', 'MP', 'Age', 'TS%', '3PAr', 'FTr', 'ORB%', 'DRB%', 'AST%', 'TOV%',\n",
    "       'USG%', 'STL%', 'BLK%', 'DBPM', 'DRAYMOND', 'WS']]"
   ]
  },
  {
   "cell_type": "code",
   "execution_count": 16,
   "metadata": {},
   "outputs": [],
   "source": [
    "total_df = total_df.groupby('Player').mean()\n",
    "\n",
    "total_df = total_df.reset_index()"
   ]
  },
  {
   "cell_type": "code",
   "execution_count": 17,
   "metadata": {},
   "outputs": [
    {
     "name": "stdout",
     "output_type": "stream",
     "text": [
      "There are 273 unique players who qualify for this clustering.\n",
      "There are 273 total player names in this dataframe.\n"
     ]
    }
   ],
   "source": [
    "print('There are ' + str(len(total_df['Player'].unique())) + ' unique players who qualify for this clustering.')\n",
    "\n",
    "print('There are ' + str(len(total_df)) + ' total player names in this dataframe.')"
   ]
  },
  {
   "cell_type": "markdown",
   "metadata": {},
   "source": [
    "### 3.3 Convert Pandas DataFrame into Matrix for Processing"
   ]
  },
  {
   "cell_type": "code",
   "execution_count": 18,
   "metadata": {},
   "outputs": [],
   "source": [
    "df_as_matrix = total_df.values"
   ]
  },
  {
   "cell_type": "markdown",
   "metadata": {},
   "source": [
    "### 4.0 Import and Scale Vectors"
   ]
  },
  {
   "cell_type": "code",
   "execution_count": 19,
   "metadata": {},
   "outputs": [],
   "source": [
    "from sklearn.preprocessing import StandardScaler"
   ]
  },
  {
   "cell_type": "code",
   "execution_count": 20,
   "metadata": {},
   "outputs": [],
   "source": [
    "standard_scaler = StandardScaler()\n",
    "\n",
    "scaled_vectors = standard_scaler.fit_transform(df_as_matrix[:,1:-1])"
   ]
  },
  {
   "cell_type": "markdown",
   "metadata": {},
   "source": [
    "### 4.1 Import PCA and Reduce Dimensionality"
   ]
  },
  {
   "cell_type": "code",
   "execution_count": 21,
   "metadata": {},
   "outputs": [
    {
     "data": {
      "image/png": "[encoded data removed]",
      "text/plain": [
       "<Figure size 432x288 with 1 Axes>"
      ]
     },
     "metadata": {
      "needs_background": "light"
     },
     "output_type": "display_data"
    }
   ],
   "source": [
    "from sklearn.decomposition import PCA\n",
    "\n",
    "search_space = np.arange(3,13)\n",
    "\n",
    "list_of_ev = []\n",
    "\n",
    "for n_components in search_space:\n",
    "    \n",
    "    pca = PCA(n_components)\n",
    "\n",
    "    dim_reduction = pca.fit_transform(scaled_vectors)\n",
    "\n",
    "    explained_variance_1 = round(100*sum(pca.explained_variance_ratio_), 3)\n",
    "    \n",
    "    list_of_ev.append(explained_variance_1)\n",
    "\n",
    "plt.plot(search_space, list_of_ev)\n",
    "\n",
    "plt.show()"
   ]
  },
  {
   "cell_type": "code",
   "execution_count": 22,
   "metadata": {},
   "outputs": [],
   "source": [
    "n_components = 8\n",
    "\n",
    "pca = PCA(n_components)\n",
    "\n",
    "dim_reduction = pca.fit_transform(scaled_vectors)\n",
    "\n",
    "reduced_df = total_df.copy()\n",
    "\n",
    "for i in range(n_components):\n",
    "\n",
    "    reduced_df[f'PCA{i+1}'] = [dim_reduction[x][i] for x in range(len(dim_reduction))]"
   ]
  },
  {
   "cell_type": "markdown",
   "metadata": {},
   "source": [
    "### 4.2 Scale and Cluster with KMeans"
   ]
  },
  {
   "cell_type": "code",
   "execution_count": 23,
   "metadata": {},
   "outputs": [],
   "source": [
    "# Scale before clustering:\n",
    "\n",
    "from sklearn.cluster import KMeans\n",
    "\n",
    "scaler = StandardScaler()\n",
    "\n",
    "dim_reduction = scaler.fit_transform(dim_reduction)"
   ]
  },
  {
   "cell_type": "markdown",
   "metadata": {},
   "source": [
    "### 4.3 Graph Silhouette_Scores"
   ]
  },
  {
   "cell_type": "code",
   "execution_count": 24,
   "metadata": {},
   "outputs": [
    {
     "data": {
      "image/png": "[encoded data removed]",
      "text/plain": [
       "<Figure size 432x288 with 1 Axes>"
      ]
     },
     "metadata": {
      "needs_background": "light"
     },
     "output_type": "display_data"
    }
   ],
   "source": [
    "from sklearn.metrics import silhouette_score\n",
    "\n",
    "num_clusters_list = np.arange(2,15)\n",
    "\n",
    "sil_score = []\n",
    "\n",
    "for num_clusters in num_clusters_list:\n",
    "\n",
    "    kmeans = KMeans(num_clusters, random_state=42)\n",
    "\n",
    "    clusters = kmeans.fit_transform(dim_reduction)\n",
    "\n",
    "    sil_score.append(silhouette_score(clusters, kmeans.labels_))\n",
    "    \n",
    "\n",
    "plt.plot(num_clusters_list, sil_score)\n",
    "\n",
    "plt.show()"
   ]
  },
  {
   "cell_type": "markdown",
   "metadata": {},
   "source": [
    "### 4.4 Set Num_Clusters According to Silhouette_Score"
   ]
  },
  {
   "cell_type": "code",
   "execution_count": 25,
   "metadata": {},
   "outputs": [],
   "source": [
    "num_clusters = 6\n",
    "\n",
    "kmeans = KMeans(num_clusters, random_state=42)\n",
    "\n",
    "clusters = kmeans.fit_predict(dim_reduction)"
   ]
  },
  {
   "cell_type": "code",
   "execution_count": 26,
   "metadata": {},
   "outputs": [],
   "source": [
    "reduced_df['Cluster'] = clusters\n",
    "\n",
    "reduced_df = reduced_df.reset_index(drop=True)"
   ]
  },
  {
   "cell_type": "markdown",
   "metadata": {},
   "source": [
    "### 5.3 Build Averages Table to See Clusters Grouped"
   ]
  },
  {
   "cell_type": "code",
   "execution_count": 27,
   "metadata": {},
   "outputs": [],
   "source": [
    "averages_df = reduced_df.groupby('Cluster').mean()\n",
    "\n",
    "averages_df = averages_df.reset_index(drop=False)"
   ]
  },
  {
   "cell_type": "code",
   "execution_count": 28,
   "metadata": {},
   "outputs": [],
   "source": [
    "averages_df = averages_df.apply(lambda x: round(x, 3))"
   ]
  },
  {
   "cell_type": "code",
   "execution_count": 29,
   "metadata": {},
   "outputs": [],
   "source": [
    "averages_df = averages_df[['Cluster', 'Pos', 'MP', 'Age', 'TS%', '3PAr', 'FTr', 'ORB%', 'DRB%', 'AST%', 'TOV%', 'USG%',\n",
    "       'STL%', 'BLK%', 'DBPM', 'DRAYMOND']]"
   ]
  },
  {
   "cell_type": "code",
   "execution_count": 30,
   "metadata": {},
   "outputs": [],
   "source": [
    "averages_df['Cluster'] = averages_df['Cluster'].apply(lambda x: int(x))\n",
    "\n",
    "averages_df = averages_df.sort_values(by='Pos', ascending=True)"
   ]
  },
  {
   "cell_type": "code",
   "execution_count": 31,
   "metadata": {},
   "outputs": [
    {
     "data": {
      "text/html": [
       "<div>\n",
       "<style scoped>\n",
       "    .dataframe tbody tr th:only-of-type {\n",
       "        vertical-align: middle;\n",
       "    }\n",
       "\n",
       "    .dataframe tbody tr th {\n",
       "        vertical-align: top;\n",
       "    }\n",
       "\n",
       "    .dataframe thead th {\n",
       "        text-align: right;\n",
       "    }\n",
       "</style>\n",
       "<table border=\"1\" class=\"dataframe\">\n",
       "  <thead>\n",
       "    <tr style=\"text-align: right;\">\n",
       "      <th></th>\n",
       "      <th>Cluster</th>\n",
       "      <th>Pos</th>\n",
       "      <th>MP</th>\n",
       "      <th>Age</th>\n",
       "      <th>TS%</th>\n",
       "      <th>3PAr</th>\n",
       "      <th>FTr</th>\n",
       "      <th>ORB%</th>\n",
       "      <th>DRB%</th>\n",
       "      <th>AST%</th>\n",
       "      <th>TOV%</th>\n",
       "      <th>USG%</th>\n",
       "      <th>STL%</th>\n",
       "      <th>BLK%</th>\n",
       "      <th>DBPM</th>\n",
       "      <th>DRAYMOND</th>\n",
       "    </tr>\n",
       "  </thead>\n",
       "  <tbody>\n",
       "    <tr>\n",
       "      <th>2</th>\n",
       "      <td>2</td>\n",
       "      <td>1.817</td>\n",
       "      <td>1514.868</td>\n",
       "      <td>26.100</td>\n",
       "      <td>0.521</td>\n",
       "      <td>0.315</td>\n",
       "      <td>0.248</td>\n",
       "      <td>2.667</td>\n",
       "      <td>12.253</td>\n",
       "      <td>22.734</td>\n",
       "      <td>13.724</td>\n",
       "      <td>23.578</td>\n",
       "      <td>1.432</td>\n",
       "      <td>0.847</td>\n",
       "      <td>-1.127</td>\n",
       "      <td>-0.635</td>\n",
       "    </tr>\n",
       "    <tr>\n",
       "      <th>3</th>\n",
       "      <td>3</td>\n",
       "      <td>2.163</td>\n",
       "      <td>1479.833</td>\n",
       "      <td>25.317</td>\n",
       "      <td>0.543</td>\n",
       "      <td>0.351</td>\n",
       "      <td>0.255</td>\n",
       "      <td>3.557</td>\n",
       "      <td>13.978</td>\n",
       "      <td>16.678</td>\n",
       "      <td>13.433</td>\n",
       "      <td>18.902</td>\n",
       "      <td>2.309</td>\n",
       "      <td>1.682</td>\n",
       "      <td>0.898</td>\n",
       "      <td>-0.089</td>\n",
       "    </tr>\n",
       "    <tr>\n",
       "      <th>0</th>\n",
       "      <td>0</td>\n",
       "      <td>2.707</td>\n",
       "      <td>1775.059</td>\n",
       "      <td>26.257</td>\n",
       "      <td>0.568</td>\n",
       "      <td>0.492</td>\n",
       "      <td>0.193</td>\n",
       "      <td>2.847</td>\n",
       "      <td>12.653</td>\n",
       "      <td>10.709</td>\n",
       "      <td>10.085</td>\n",
       "      <td>18.011</td>\n",
       "      <td>1.340</td>\n",
       "      <td>1.001</td>\n",
       "      <td>-0.469</td>\n",
       "      <td>-0.434</td>\n",
       "    </tr>\n",
       "    <tr>\n",
       "      <th>1</th>\n",
       "      <td>1</td>\n",
       "      <td>2.839</td>\n",
       "      <td>2487.742</td>\n",
       "      <td>25.694</td>\n",
       "      <td>0.574</td>\n",
       "      <td>0.303</td>\n",
       "      <td>0.312</td>\n",
       "      <td>4.644</td>\n",
       "      <td>18.377</td>\n",
       "      <td>23.682</td>\n",
       "      <td>12.219</td>\n",
       "      <td>27.781</td>\n",
       "      <td>1.727</td>\n",
       "      <td>2.129</td>\n",
       "      <td>0.552</td>\n",
       "      <td>0.516</td>\n",
       "    </tr>\n",
       "    <tr>\n",
       "      <th>5</th>\n",
       "      <td>5</td>\n",
       "      <td>3.725</td>\n",
       "      <td>1474.198</td>\n",
       "      <td>28.849</td>\n",
       "      <td>0.543</td>\n",
       "      <td>0.384</td>\n",
       "      <td>0.197</td>\n",
       "      <td>5.139</td>\n",
       "      <td>17.592</td>\n",
       "      <td>11.156</td>\n",
       "      <td>12.443</td>\n",
       "      <td>16.906</td>\n",
       "      <td>1.345</td>\n",
       "      <td>2.506</td>\n",
       "      <td>0.416</td>\n",
       "      <td>0.869</td>\n",
       "    </tr>\n",
       "    <tr>\n",
       "      <th>4</th>\n",
       "      <td>4</td>\n",
       "      <td>4.852</td>\n",
       "      <td>1686.074</td>\n",
       "      <td>24.000</td>\n",
       "      <td>0.611</td>\n",
       "      <td>0.048</td>\n",
       "      <td>0.418</td>\n",
       "      <td>11.742</td>\n",
       "      <td>23.425</td>\n",
       "      <td>9.118</td>\n",
       "      <td>13.289</td>\n",
       "      <td>18.230</td>\n",
       "      <td>1.286</td>\n",
       "      <td>3.548</td>\n",
       "      <td>0.321</td>\n",
       "      <td>0.978</td>\n",
       "    </tr>\n",
       "  </tbody>\n",
       "</table>\n",
       "</div>"
      ],
      "text/plain": [
       "   Cluster    Pos        MP     Age    TS%   3PAr    FTr    ORB%    DRB%  \\\n",
       "2        2  1.817  1514.868  26.100  0.521  0.315  0.248   2.667  12.253   \n",
       "3        3  2.163  1479.833  25.317  0.543  0.351  0.255   3.557  13.978   \n",
       "0        0  2.707  1775.059  26.257  0.568  0.492  0.193   2.847  12.653   \n",
       "1        1  2.839  2487.742  25.694  0.574  0.303  0.312   4.644  18.377   \n",
       "5        5  3.725  1474.198  28.849  0.543  0.384  0.197   5.139  17.592   \n",
       "4        4  4.852  1686.074  24.000  0.611  0.048  0.418  11.742  23.425   \n",
       "\n",
       "     AST%    TOV%    USG%   STL%   BLK%   DBPM  DRAYMOND  \n",
       "2  22.734  13.724  23.578  1.432  0.847 -1.127    -0.635  \n",
       "3  16.678  13.433  18.902  2.309  1.682  0.898    -0.089  \n",
       "0  10.709  10.085  18.011  1.340  1.001 -0.469    -0.434  \n",
       "1  23.682  12.219  27.781  1.727  2.129  0.552     0.516  \n",
       "5  11.156  12.443  16.906  1.345  2.506  0.416     0.869  \n",
       "4   9.118  13.289  18.230  1.286  3.548  0.321     0.978  "
      ]
     },
     "execution_count": 31,
     "metadata": {},
     "output_type": "execute_result"
    }
   ],
   "source": [
    "averages_df.sort_values(by='Pos', ascending=True)"
   ]
  },
  {
   "cell_type": "markdown",
   "metadata": {},
   "source": [
    "### 5.0 Linear Discriminant Analysis w/ Clusters as Targets"
   ]
  },
  {
   "cell_type": "code",
   "execution_count": 32,
   "metadata": {},
   "outputs": [
    {
     "data": {
      "text/plain": [
       "71.429"
      ]
     },
     "execution_count": 32,
     "metadata": {},
     "output_type": "execute_result"
    }
   ],
   "source": [
    "from sklearn.discriminant_analysis import LinearDiscriminantAnalysis\n",
    "\n",
    "num_components = 3\n",
    "\n",
    "scale = StandardScaler() # scale before LDA\n",
    "\n",
    "dim_reduction = scale.fit_transform(dim_reduction)\n",
    "\n",
    "lda = LinearDiscriminantAnalysis(n_components=num_components)\n",
    "\n",
    "X = dim_reduction\n",
    "\n",
    "y = clusters\n",
    "\n",
    "discriminated = lda.fit_transform(X, y)\n",
    "\n",
    "explained_variance = round(100*sum(lda.explained_variance_ratio_), 3)\n",
    "\n",
    "explained_variance"
   ]
  },
  {
   "cell_type": "code",
   "execution_count": 33,
   "metadata": {},
   "outputs": [],
   "source": [
    "reduced_df['LDA1'] = [discriminated[x][0] for x in range(len(dim_reduction))]\n",
    "\n",
    "reduced_df['LDA2'] = [discriminated[x][1] for x in range(len(dim_reduction))]\n",
    "\n",
    "reduced_df['LDA3'] = [discriminated[x][2] for x in range(len(dim_reduction))]"
   ]
  },
  {
   "cell_type": "markdown",
   "metadata": {},
   "source": [
    "### 5.1 Graph Silhouette_Score for KMeans "
   ]
  },
  {
   "cell_type": "code",
   "execution_count": 34,
   "metadata": {},
   "outputs": [
    {
     "data": {
      "image/png": "[encoded data removed]",
      "text/plain": [
       "<Figure size 432x288 with 1 Axes>"
      ]
     },
     "metadata": {
      "needs_background": "light"
     },
     "output_type": "display_data"
    }
   ],
   "source": [
    "from sklearn.metrics import silhouette_score\n",
    "\n",
    "scaler = StandardScaler()\n",
    "\n",
    "num_clusters_list = np.arange(3,14)\n",
    "\n",
    "sil_score = []\n",
    "\n",
    "for num_clusters in num_clusters_list:\n",
    "    \n",
    "    scaled = scaler.fit_transform(discriminated)\n",
    "\n",
    "    kmeans = KMeans(num_clusters, random_state=42)\n",
    "\n",
    "    clusters = kmeans.fit_transform(scaled)\n",
    "\n",
    "    sil_score.append(silhouette_score(clusters, kmeans.labels_))\n",
    "    \n",
    "plt.plot(num_clusters_list, sil_score)\n",
    "\n",
    "plt.show()"
   ]
  },
  {
   "cell_type": "markdown",
   "metadata": {},
   "source": [
    "### 5.2 KMeans Clustering"
   ]
  },
  {
   "cell_type": "code",
   "execution_count": 35,
   "metadata": {},
   "outputs": [],
   "source": [
    "num_clusters_2 = 7\n",
    "\n",
    "scaler = StandardScaler()\n",
    "\n",
    "reduced = reduced_df[['LDA1', 'LDA2', 'LDA3']]\n",
    "\n",
    "red_scaled = scaler.fit_transform(reduced)\n",
    "\n",
    "k_cluster = KMeans(num_clusters_2, random_state=42)\n",
    "    \n",
    "clusters = k_cluster.fit_predict(red_scaled)"
   ]
  },
  {
   "cell_type": "code",
   "execution_count": 36,
   "metadata": {},
   "outputs": [],
   "source": [
    "reduced_df['Cluster_2'] = clusters"
   ]
  },
  {
   "cell_type": "markdown",
   "metadata": {},
   "source": [
    "### 5.3 2nd Cluster Averages Table"
   ]
  },
  {
   "cell_type": "code",
   "execution_count": 37,
   "metadata": {},
   "outputs": [],
   "source": [
    "averages_dict_2 = {}\n",
    "\n",
    "total_per_cluster_2 = {}\n",
    "\n",
    "for cluster in reduced_df['Cluster_2'].unique():\n",
    "    \n",
    "    cluster_group = reduced_df[reduced_df['Cluster_2'] == cluster]\n",
    "    \n",
    "    averages_dict_2[cluster] = np.mean(cluster_group)\n",
    "    \n",
    "    total_per_cluster_2[cluster] = len(cluster_group)"
   ]
  },
  {
   "cell_type": "code",
   "execution_count": 38,
   "metadata": {},
   "outputs": [
    {
     "data": {
      "text/html": [
       "<div>\n",
       "<style scoped>\n",
       "    .dataframe tbody tr th:only-of-type {\n",
       "        vertical-align: middle;\n",
       "    }\n",
       "\n",
       "    .dataframe tbody tr th {\n",
       "        vertical-align: top;\n",
       "    }\n",
       "\n",
       "    .dataframe thead th {\n",
       "        text-align: right;\n",
       "    }\n",
       "</style>\n",
       "<table border=\"1\" class=\"dataframe\">\n",
       "  <thead>\n",
       "    <tr style=\"text-align: right;\">\n",
       "      <th></th>\n",
       "      <th>Cluster_2</th>\n",
       "      <th>Pos</th>\n",
       "      <th>MP</th>\n",
       "      <th>Age</th>\n",
       "      <th>TS%</th>\n",
       "      <th>3PAr</th>\n",
       "      <th>FTr</th>\n",
       "      <th>ORB%</th>\n",
       "      <th>DRB%</th>\n",
       "      <th>AST%</th>\n",
       "      <th>TOV%</th>\n",
       "      <th>USG%</th>\n",
       "      <th>STL%</th>\n",
       "      <th>BLK%</th>\n",
       "      <th>DBPM</th>\n",
       "      <th>DRAYMOND</th>\n",
       "      <th>Total Players</th>\n",
       "    </tr>\n",
       "  </thead>\n",
       "  <tbody>\n",
       "    <tr>\n",
       "      <th>6</th>\n",
       "      <td>6</td>\n",
       "      <td>1.452</td>\n",
       "      <td>1522.081</td>\n",
       "      <td>27.218</td>\n",
       "      <td>0.521</td>\n",
       "      <td>0.311</td>\n",
       "      <td>0.244</td>\n",
       "      <td>2.317</td>\n",
       "      <td>11.660</td>\n",
       "      <td>26.979</td>\n",
       "      <td>14.078</td>\n",
       "      <td>24.549</td>\n",
       "      <td>1.768</td>\n",
       "      <td>0.903</td>\n",
       "      <td>-0.748</td>\n",
       "      <td>-0.579</td>\n",
       "      <td>31</td>\n",
       "    </tr>\n",
       "    <tr>\n",
       "      <th>5</th>\n",
       "      <td>5</td>\n",
       "      <td>1.724</td>\n",
       "      <td>1312.310</td>\n",
       "      <td>25.614</td>\n",
       "      <td>0.520</td>\n",
       "      <td>0.372</td>\n",
       "      <td>0.217</td>\n",
       "      <td>2.778</td>\n",
       "      <td>12.047</td>\n",
       "      <td>16.725</td>\n",
       "      <td>14.414</td>\n",
       "      <td>17.866</td>\n",
       "      <td>2.045</td>\n",
       "      <td>1.235</td>\n",
       "      <td>0.440</td>\n",
       "      <td>-0.168</td>\n",
       "      <td>35</td>\n",
       "    </tr>\n",
       "    <tr>\n",
       "      <th>3</th>\n",
       "      <td>3</td>\n",
       "      <td>2.224</td>\n",
       "      <td>2387.052</td>\n",
       "      <td>24.819</td>\n",
       "      <td>0.564</td>\n",
       "      <td>0.313</td>\n",
       "      <td>0.330</td>\n",
       "      <td>3.404</td>\n",
       "      <td>15.453</td>\n",
       "      <td>26.216</td>\n",
       "      <td>12.741</td>\n",
       "      <td>28.664</td>\n",
       "      <td>1.572</td>\n",
       "      <td>1.645</td>\n",
       "      <td>-0.204</td>\n",
       "      <td>0.025</td>\n",
       "      <td>29</td>\n",
       "    </tr>\n",
       "    <tr>\n",
       "      <th>2</th>\n",
       "      <td>2</td>\n",
       "      <td>2.896</td>\n",
       "      <td>1504.718</td>\n",
       "      <td>27.553</td>\n",
       "      <td>0.549</td>\n",
       "      <td>0.519</td>\n",
       "      <td>0.166</td>\n",
       "      <td>3.077</td>\n",
       "      <td>13.740</td>\n",
       "      <td>10.173</td>\n",
       "      <td>10.632</td>\n",
       "      <td>15.920</td>\n",
       "      <td>1.441</td>\n",
       "      <td>1.382</td>\n",
       "      <td>0.030</td>\n",
       "      <td>-0.014</td>\n",
       "      <td>72</td>\n",
       "    </tr>\n",
       "    <tr>\n",
       "      <th>0</th>\n",
       "      <td>0</td>\n",
       "      <td>3.188</td>\n",
       "      <td>2159.181</td>\n",
       "      <td>26.315</td>\n",
       "      <td>0.573</td>\n",
       "      <td>0.395</td>\n",
       "      <td>0.226</td>\n",
       "      <td>3.797</td>\n",
       "      <td>15.116</td>\n",
       "      <td>13.559</td>\n",
       "      <td>11.017</td>\n",
       "      <td>21.205</td>\n",
       "      <td>1.341</td>\n",
       "      <td>1.620</td>\n",
       "      <td>-0.169</td>\n",
       "      <td>0.082</td>\n",
       "      <td>46</td>\n",
       "    </tr>\n",
       "    <tr>\n",
       "      <th>1</th>\n",
       "      <td>1</td>\n",
       "      <td>3.667</td>\n",
       "      <td>1449.312</td>\n",
       "      <td>25.266</td>\n",
       "      <td>0.560</td>\n",
       "      <td>0.243</td>\n",
       "      <td>0.301</td>\n",
       "      <td>6.203</td>\n",
       "      <td>18.832</td>\n",
       "      <td>12.105</td>\n",
       "      <td>12.322</td>\n",
       "      <td>19.925</td>\n",
       "      <td>1.592</td>\n",
       "      <td>2.225</td>\n",
       "      <td>0.116</td>\n",
       "      <td>0.206</td>\n",
       "      <td>32</td>\n",
       "    </tr>\n",
       "    <tr>\n",
       "      <th>4</th>\n",
       "      <td>4</td>\n",
       "      <td>4.875</td>\n",
       "      <td>1705.982</td>\n",
       "      <td>24.857</td>\n",
       "      <td>0.615</td>\n",
       "      <td>0.044</td>\n",
       "      <td>0.411</td>\n",
       "      <td>12.104</td>\n",
       "      <td>23.963</td>\n",
       "      <td>8.847</td>\n",
       "      <td>13.214</td>\n",
       "      <td>18.446</td>\n",
       "      <td>1.301</td>\n",
       "      <td>3.750</td>\n",
       "      <td>0.354</td>\n",
       "      <td>1.008</td>\n",
       "      <td>28</td>\n",
       "    </tr>\n",
       "  </tbody>\n",
       "</table>\n",
       "</div>"
      ],
      "text/plain": [
       "   Cluster_2    Pos        MP     Age    TS%   3PAr    FTr    ORB%    DRB%  \\\n",
       "6          6  1.452  1522.081  27.218  0.521  0.311  0.244   2.317  11.660   \n",
       "5          5  1.724  1312.310  25.614  0.520  0.372  0.217   2.778  12.047   \n",
       "3          3  2.224  2387.052  24.819  0.564  0.313  0.330   3.404  15.453   \n",
       "2          2  2.896  1504.718  27.553  0.549  0.519  0.166   3.077  13.740   \n",
       "0          0  3.188  2159.181  26.315  0.573  0.395  0.226   3.797  15.116   \n",
       "1          1  3.667  1449.312  25.266  0.560  0.243  0.301   6.203  18.832   \n",
       "4          4  4.875  1705.982  24.857  0.615  0.044  0.411  12.104  23.963   \n",
       "\n",
       "     AST%    TOV%    USG%   STL%   BLK%   DBPM  DRAYMOND  Total Players  \n",
       "6  26.979  14.078  24.549  1.768  0.903 -0.748    -0.579             31  \n",
       "5  16.725  14.414  17.866  2.045  1.235  0.440    -0.168             35  \n",
       "3  26.216  12.741  28.664  1.572  1.645 -0.204     0.025             29  \n",
       "2  10.173  10.632  15.920  1.441  1.382  0.030    -0.014             72  \n",
       "0  13.559  11.017  21.205  1.341  1.620 -0.169     0.082             46  \n",
       "1  12.105  12.322  19.925  1.592  2.225  0.116     0.206             32  \n",
       "4   8.847  13.214  18.446  1.301  3.750  0.354     1.008             28  "
      ]
     },
     "execution_count": 38,
     "metadata": {},
     "output_type": "execute_result"
    }
   ],
   "source": [
    "averages_df_2 = pd.DataFrame.from_dict(averages_dict_2, orient='index', \n",
    "                                       columns=reduced_df.drop('Player',axis=1).columns)\n",
    "\n",
    "averages_df_2['Total Players'] = total_per_cluster_2.values()\n",
    "\n",
    "averages_df_2 = averages_df_2.apply(lambda x: round(x, 3))\n",
    "\n",
    "averages_df_2 = averages_df_2[['Cluster_2', 'Pos', 'MP', 'Age', 'TS%', '3PAr', 'FTr', 'ORB%', 'DRB%', 'AST%',\n",
    "                               'TOV%', 'USG%', 'STL%', 'BLK%', 'DBPM', 'DRAYMOND', 'Total Players']]\n",
    "\n",
    "averages_df_2['Cluster_2'] = averages_df_2['Cluster_2'].apply(lambda x: int(x))\n",
    "\n",
    "averages_df_2 = averages_df_2.sort_values(by='Pos', ascending=True)\n",
    "\n",
    "averages_df_2.sort_values(by='Pos', ascending=True)"
   ]
  },
  {
   "cell_type": "markdown",
   "metadata": {},
   "source": [
    "### 5.4 Find Cluster Centers and Calculate the Closest Player to Each"
   ]
  },
  {
   "cell_type": "code",
   "execution_count": 39,
   "metadata": {},
   "outputs": [],
   "source": [
    "cluster_centers = k_cluster.cluster_centers_.tolist()\n",
    "\n",
    "example_players = []\n",
    "\n",
    "for x, y, z in cluster_centers:\n",
    "    \n",
    "    min_dist = 1000\n",
    "    \n",
    "    player = str()\n",
    "    \n",
    "    tmp_df = reduced_df.copy()\n",
    "    \n",
    "    tmp_df['L2_dist'] = np.sqrt( ( (tmp_df['LDA1'] - x) ** 2) + ( (tmp_df['LDA2'] - y) ** 2) + \n",
    "                               ( (tmp_df['LDA3'] - z) ** 2) ) # euclidian dist (l2)\n",
    "    \n",
    "    for i in range(len(tmp_df)):\n",
    "        \n",
    "        if tmp_df.loc[i,'L2_dist'] < min_dist:\n",
    "            \n",
    "            min_dist = tmp_df.loc[i, 'L2_dist']\n",
    "            \n",
    "            player = tmp_df.loc[i, 'Player']\n",
    "    \n",
    "    example_players.append(player)"
   ]
  },
  {
   "cell_type": "code",
   "execution_count": 40,
   "metadata": {},
   "outputs": [],
   "source": [
    "player_clusters = {}\n",
    "\n",
    "for player in example_players:\n",
    "    \n",
    "    index = reduced_df[reduced_df.loc[:,'Player'] == player].index\n",
    "    \n",
    "    cluster = reduced_df.loc[index, 'Cluster_2'].values\n",
    "    \n",
    "    player_clusters[player] = cluster\n",
    "\n",
    "averages_df_2 = averages_df_2.sort_values('Cluster_2', ascending=True)\n",
    "\n",
    "averages_df_2['Example'] = list(player_clusters.keys())\n",
    "\n",
    "averages_df_2 = averages_df_2.sort_values('Pos', ascending=True)"
   ]
  },
  {
   "cell_type": "markdown",
   "metadata": {},
   "source": [
    "### 5.5 Averages DF with Example Players Added"
   ]
  },
  {
   "cell_type": "code",
   "execution_count": 41,
   "metadata": {},
   "outputs": [
    {
     "data": {
      "text/html": [
       "<div>\n",
       "<style scoped>\n",
       "    .dataframe tbody tr th:only-of-type {\n",
       "        vertical-align: middle;\n",
       "    }\n",
       "\n",
       "    .dataframe tbody tr th {\n",
       "        vertical-align: top;\n",
       "    }\n",
       "\n",
       "    .dataframe thead th {\n",
       "        text-align: right;\n",
       "    }\n",
       "</style>\n",
       "<table border=\"1\" class=\"dataframe\">\n",
       "  <thead>\n",
       "    <tr style=\"text-align: right;\">\n",
       "      <th></th>\n",
       "      <th>Cluster_2</th>\n",
       "      <th>Pos</th>\n",
       "      <th>MP</th>\n",
       "      <th>Age</th>\n",
       "      <th>TS%</th>\n",
       "      <th>3PAr</th>\n",
       "      <th>FTr</th>\n",
       "      <th>ORB%</th>\n",
       "      <th>DRB%</th>\n",
       "      <th>AST%</th>\n",
       "      <th>TOV%</th>\n",
       "      <th>USG%</th>\n",
       "      <th>STL%</th>\n",
       "      <th>BLK%</th>\n",
       "      <th>DBPM</th>\n",
       "      <th>DRAYMOND</th>\n",
       "      <th>Total Players</th>\n",
       "      <th>Example</th>\n",
       "      <th>Cluster Name</th>\n",
       "    </tr>\n",
       "  </thead>\n",
       "  <tbody>\n",
       "    <tr>\n",
       "      <th>6</th>\n",
       "      <td>6</td>\n",
       "      <td>1.452</td>\n",
       "      <td>1522.081</td>\n",
       "      <td>27.218</td>\n",
       "      <td>0.521</td>\n",
       "      <td>0.311</td>\n",
       "      <td>0.244</td>\n",
       "      <td>2.317</td>\n",
       "      <td>11.660</td>\n",
       "      <td>26.979</td>\n",
       "      <td>14.078</td>\n",
       "      <td>24.549</td>\n",
       "      <td>1.768</td>\n",
       "      <td>0.903</td>\n",
       "      <td>-0.748</td>\n",
       "      <td>-0.579</td>\n",
       "      <td>31</td>\n",
       "      <td>Victor Oladipo</td>\n",
       "      <td>Point guards</td>\n",
       "    </tr>\n",
       "    <tr>\n",
       "      <th>5</th>\n",
       "      <td>5</td>\n",
       "      <td>1.724</td>\n",
       "      <td>1312.310</td>\n",
       "      <td>25.614</td>\n",
       "      <td>0.520</td>\n",
       "      <td>0.372</td>\n",
       "      <td>0.217</td>\n",
       "      <td>2.778</td>\n",
       "      <td>12.047</td>\n",
       "      <td>16.725</td>\n",
       "      <td>14.414</td>\n",
       "      <td>17.866</td>\n",
       "      <td>2.045</td>\n",
       "      <td>1.235</td>\n",
       "      <td>0.440</td>\n",
       "      <td>-0.168</td>\n",
       "      <td>35</td>\n",
       "      <td>Mario Hezonja</td>\n",
       "      <td>Shooting guards</td>\n",
       "    </tr>\n",
       "    <tr>\n",
       "      <th>3</th>\n",
       "      <td>3</td>\n",
       "      <td>2.224</td>\n",
       "      <td>2387.052</td>\n",
       "      <td>24.819</td>\n",
       "      <td>0.564</td>\n",
       "      <td>0.313</td>\n",
       "      <td>0.330</td>\n",
       "      <td>3.404</td>\n",
       "      <td>15.453</td>\n",
       "      <td>26.216</td>\n",
       "      <td>12.741</td>\n",
       "      <td>28.664</td>\n",
       "      <td>1.572</td>\n",
       "      <td>1.645</td>\n",
       "      <td>-0.204</td>\n",
       "      <td>0.025</td>\n",
       "      <td>29</td>\n",
       "      <td>Kristaps Porzingis</td>\n",
       "      <td>Star wings</td>\n",
       "    </tr>\n",
       "    <tr>\n",
       "      <th>2</th>\n",
       "      <td>2</td>\n",
       "      <td>2.896</td>\n",
       "      <td>1504.718</td>\n",
       "      <td>27.553</td>\n",
       "      <td>0.549</td>\n",
       "      <td>0.519</td>\n",
       "      <td>0.166</td>\n",
       "      <td>3.077</td>\n",
       "      <td>13.740</td>\n",
       "      <td>10.173</td>\n",
       "      <td>10.632</td>\n",
       "      <td>15.920</td>\n",
       "      <td>1.441</td>\n",
       "      <td>1.382</td>\n",
       "      <td>0.030</td>\n",
       "      <td>-0.014</td>\n",
       "      <td>72</td>\n",
       "      <td>Justin Jackson</td>\n",
       "      <td>Three-and-d wings</td>\n",
       "    </tr>\n",
       "    <tr>\n",
       "      <th>0</th>\n",
       "      <td>0</td>\n",
       "      <td>3.188</td>\n",
       "      <td>2159.181</td>\n",
       "      <td>26.315</td>\n",
       "      <td>0.573</td>\n",
       "      <td>0.395</td>\n",
       "      <td>0.226</td>\n",
       "      <td>3.797</td>\n",
       "      <td>15.116</td>\n",
       "      <td>13.559</td>\n",
       "      <td>11.017</td>\n",
       "      <td>21.205</td>\n",
       "      <td>1.341</td>\n",
       "      <td>1.620</td>\n",
       "      <td>-0.169</td>\n",
       "      <td>0.082</td>\n",
       "      <td>46</td>\n",
       "      <td>Taurean Prince</td>\n",
       "      <td>Skilled forwards</td>\n",
       "    </tr>\n",
       "    <tr>\n",
       "      <th>1</th>\n",
       "      <td>1</td>\n",
       "      <td>3.667</td>\n",
       "      <td>1449.312</td>\n",
       "      <td>25.266</td>\n",
       "      <td>0.560</td>\n",
       "      <td>0.243</td>\n",
       "      <td>0.301</td>\n",
       "      <td>6.203</td>\n",
       "      <td>18.832</td>\n",
       "      <td>12.105</td>\n",
       "      <td>12.322</td>\n",
       "      <td>19.925</td>\n",
       "      <td>1.592</td>\n",
       "      <td>2.225</td>\n",
       "      <td>0.116</td>\n",
       "      <td>0.206</td>\n",
       "      <td>32</td>\n",
       "      <td>Paul Millsap</td>\n",
       "      <td>Power forwards</td>\n",
       "    </tr>\n",
       "    <tr>\n",
       "      <th>4</th>\n",
       "      <td>4</td>\n",
       "      <td>4.875</td>\n",
       "      <td>1705.982</td>\n",
       "      <td>24.857</td>\n",
       "      <td>0.615</td>\n",
       "      <td>0.044</td>\n",
       "      <td>0.411</td>\n",
       "      <td>12.104</td>\n",
       "      <td>23.963</td>\n",
       "      <td>8.847</td>\n",
       "      <td>13.214</td>\n",
       "      <td>18.446</td>\n",
       "      <td>1.301</td>\n",
       "      <td>3.750</td>\n",
       "      <td>0.354</td>\n",
       "      <td>1.008</td>\n",
       "      <td>28</td>\n",
       "      <td>Hassan Whiteside</td>\n",
       "      <td>Centers</td>\n",
       "    </tr>\n",
       "  </tbody>\n",
       "</table>\n",
       "</div>"
      ],
      "text/plain": [
       "   Cluster_2    Pos        MP     Age    TS%   3PAr    FTr    ORB%    DRB%  \\\n",
       "6          6  1.452  1522.081  27.218  0.521  0.311  0.244   2.317  11.660   \n",
       "5          5  1.724  1312.310  25.614  0.520  0.372  0.217   2.778  12.047   \n",
       "3          3  2.224  2387.052  24.819  0.564  0.313  0.330   3.404  15.453   \n",
       "2          2  2.896  1504.718  27.553  0.549  0.519  0.166   3.077  13.740   \n",
       "0          0  3.188  2159.181  26.315  0.573  0.395  0.226   3.797  15.116   \n",
       "1          1  3.667  1449.312  25.266  0.560  0.243  0.301   6.203  18.832   \n",
       "4          4  4.875  1705.982  24.857  0.615  0.044  0.411  12.104  23.963   \n",
       "\n",
       "     AST%    TOV%    USG%   STL%   BLK%   DBPM  DRAYMOND  Total Players  \\\n",
       "6  26.979  14.078  24.549  1.768  0.903 -0.748    -0.579             31   \n",
       "5  16.725  14.414  17.866  2.045  1.235  0.440    -0.168             35   \n",
       "3  26.216  12.741  28.664  1.572  1.645 -0.204     0.025             29   \n",
       "2  10.173  10.632  15.920  1.441  1.382  0.030    -0.014             72   \n",
       "0  13.559  11.017  21.205  1.341  1.620 -0.169     0.082             46   \n",
       "1  12.105  12.322  19.925  1.592  2.225  0.116     0.206             32   \n",
       "4   8.847  13.214  18.446  1.301  3.750  0.354     1.008             28   \n",
       "\n",
       "              Example       Cluster Name  \n",
       "6      Victor Oladipo       Point guards  \n",
       "5       Mario Hezonja    Shooting guards  \n",
       "3  Kristaps Porzingis         Star wings  \n",
       "2      Justin Jackson  Three-and-d wings  \n",
       "0      Taurean Prince   Skilled forwards  \n",
       "1        Paul Millsap     Power forwards  \n",
       "4    Hassan Whiteside            Centers  "
      ]
     },
     "execution_count": 41,
     "metadata": {},
     "output_type": "execute_result"
    }
   ],
   "source": [
    "averages_df_2['Cluster Name'] = ['Point guards', 'Shooting guards', 'Star wings', 'Three-and-d wings',\n",
    "                                'Skilled forwards', 'Power forwards', 'Centers']\n",
    "\n",
    "averages_df_2.sort_values('Pos', ascending=True)"
   ]
  },
  {
   "cell_type": "markdown",
   "metadata": {},
   "source": [
    "### 6.0 Graph Clusters"
   ]
  },
  {
   "cell_type": "code",
   "execution_count": 42,
   "metadata": {},
   "outputs": [],
   "source": [
    "# averages_df_2 = averages_df_2.sort_values('Cluster_2', ascending=True)\n",
    "\n",
    "cluster_and_player = []\n",
    "\n",
    "for i in range(len(averages_df_2)):\n",
    "    \n",
    "    cluster = averages_df_2.loc[i, 'Cluster Name']\n",
    "    \n",
    "    player = averages_df_2.loc[i, 'Example']\n",
    "    \n",
    "    cluster_and_player.append(str(cluster) + ': ' + str(player))"
   ]
  },
  {
   "cell_type": "markdown",
   "metadata": {},
   "source": [
    "### 6.1 Graph in 3D"
   ]
  },
  {
   "cell_type": "code",
   "execution_count": 43,
   "metadata": {
    "scrolled": true
   },
   "outputs": [
    {
     "data": {
      "image/png": "[encoded data removed]",
      "text/plain": [
       "<Figure size 864x576 with 1 Axes>"
      ]
     },
     "metadata": {
      "needs_background": "light"
     },
     "output_type": "display_data"
    }
   ],
   "source": [
    "import matplotlib\n",
    "import matplotlib.pyplot as plt\n",
    "from mpl_toolkits import mplot3d\n",
    "\n",
    "fig = plt.figure(figsize=(12,8))\n",
    "\n",
    "ax = fig.add_subplot(111, projection='3d')\n",
    "\n",
    "ax.set_title('NBA Player Style (Reduced to Three Dims)', size=20)\n",
    "\n",
    "ax.set_xlabel('LDA1: Size, Position, and Defense', size=15)\n",
    "\n",
    "ax.set_ylabel('LDA2: Outside shooting', size=15)\n",
    "\n",
    "ax.set_zlabel('LDA3: Usage and Playmaking', size=15)\n",
    "\n",
    "handles = []\n",
    "\n",
    "for cluster in range(num_clusters_2):\n",
    "\n",
    "    handles.append(cluster)\n",
    "\n",
    "    tmp_df = reduced_df[reduced_df['Cluster_2'] == cluster]\n",
    "\n",
    "    ax.scatter(tmp_df['LDA1'], tmp_df['LDA2'], tmp_df['LDA3'], label=cluster, s=100, alpha=0.8)\n",
    "\n",
    "ax.legend(cluster_and_player)\n",
    "\n",
    "ax.view_init(30,60)\n",
    "\n",
    "ax.grid()\n",
    "    \n",
    "plt.show()"
   ]
  },
  {
   "cell_type": "markdown",
   "metadata": {},
   "source": [
    "Note the axes are given descriptions only to aid in viewing. The axes are some low-dimensional mixture of these higher order skills/talents. The descriptive names are simple what the axes *appear* to be showing."
   ]
  },
  {
   "cell_type": "markdown",
   "metadata": {},
   "source": [
    "### 6.2 Graph Clusters in 2D"
   ]
  },
  {
   "cell_type": "code",
   "execution_count": 44,
   "metadata": {},
   "outputs": [
    {
     "data": {
      "image/png": "[encoded data removed]",
      "text/plain": [
       "<Figure size 864x504 with 1 Axes>"
      ]
     },
     "metadata": {
      "needs_background": "light"
     },
     "output_type": "display_data"
    }
   ],
   "source": [
    "import matplotlib.pyplot as plt\n",
    "\n",
    "# cmap = plt.cm.get_cmap('jet', reduced_df['Cluster_2'].nunique())\n",
    "\n",
    "fig, ax = plt.subplots(figsize=(12,7))\n",
    "\n",
    "ax.set_title('NBA Player Style (Reduced to Two Dims)', size=20)\n",
    "\n",
    "ax.set_xlabel('LDA1: Size, Position, and Defense', size=15)\n",
    "\n",
    "ax.set_ylabel('LDA2: Outside shooting', size=15)\n",
    "\n",
    "handles = []\n",
    "\n",
    "for cluster in range(num_clusters_2):\n",
    "    \n",
    "    handles.append(cluster)\n",
    "    \n",
    "    tmp_df = reduced_df[reduced_df['Cluster_2'] == cluster]\n",
    "    \n",
    "    ax.scatter(tmp_df['LDA1'], tmp_df['LDA2'], label=cluster, s=100, alpha=0.8)\n",
    "\n",
    "ax.legend(cluster_and_player)\n",
    "\n",
    "ax.grid()\n",
    "\n",
    "plt.show()"
   ]
  },
  {
   "cell_type": "markdown",
   "metadata": {},
   "source": [
    "### 7.0 Input Player to Get Comps"
   ]
  },
  {
   "cell_type": "code",
   "execution_count": 45,
   "metadata": {},
   "outputs": [
    {
     "name": "stdout",
     "output_type": "stream",
     "text": [
      "Player name: Mario Hezonja\n"
     ]
    }
   ],
   "source": [
    "# Input player name:\n",
    "\n",
    "player_name = input('Player name: ')\n",
    "\n",
    "# Retrieve index of player name:\n",
    "\n",
    "index = reduced_df['Player'].tolist().index(f'{player_name}')\n",
    "\n",
    "# Pull player's stats:\n",
    "\n",
    "player_stats = reduced_df.iloc[index,:]\n",
    "\n",
    "player_stats = np.asarray(player_stats)"
   ]
  },
  {
   "cell_type": "markdown",
   "metadata": {},
   "source": [
    "### 7.1 Input Player You Would Like to Compare"
   ]
  },
  {
   "cell_type": "code",
   "execution_count": 46,
   "metadata": {
    "scrolled": true
   },
   "outputs": [
    {
     "name": "stdout",
     "output_type": "stream",
     "text": [
      "Comp player name: Kristaps Porzingis\n"
     ]
    }
   ],
   "source": [
    "comp_name = input('Comp player name: ')\n",
    "\n",
    "comp_index = reduced_df['Player'].tolist().index(f'{comp_name}')\n",
    "\n",
    "comp_stats = reduced_df.iloc[comp_index,:]\n",
    "\n",
    "comp_stats = np.asarray(comp_stats)"
   ]
  },
  {
   "cell_type": "markdown",
   "metadata": {},
   "source": [
    "### 7.2 Calculate Dissimilarity"
   ]
  },
  {
   "cell_type": "code",
   "execution_count": 47,
   "metadata": {},
   "outputs": [],
   "source": [
    "total_player_diff = []\n",
    "\n",
    "for player in reduced_df['Player']:\n",
    "    \n",
    "    new_index = reduced_df['Player'].tolist().index(player)\n",
    "    \n",
    "    player_stats_tmp = np.asarray(reduced_df.iloc[new_index,:])\n",
    "    \n",
    "    sub_player_diff = []\n",
    "    \n",
    "    for i in range(len(reduced_df)):\n",
    "        \n",
    "        lda1, lda2, lda3 = player_stats_tmp[-4], player_stats_tmp[-3], player_stats_tmp[-2]\n",
    "        ilda1, ilda2, ilda3 = reduced_df['LDA1'][i], reduced_df['LDA2'][i], reduced_df['LDA3'][i]\n",
    "        total_1 = lda1 - ilda1\n",
    "        total_2 = lda2 - ilda2\n",
    "        total_3 = lda3 - ilda3\n",
    "        l2_norm = np.sqrt((total_1 ** 2) + (total_2 ** 2) + (total_3 ** 2))\n",
    "        \n",
    "        sub_player_diff.append(l2_norm)\n",
    "    \n",
    "    sub_mean = np.mean(sub_player_diff)\n",
    "    \n",
    "    total_player_diff.append(sub_mean)\n",
    "\n",
    "total_mean, total_std = np.mean(total_player_diff), np.std(total_player_diff)"
   ]
  },
  {
   "cell_type": "markdown",
   "metadata": {},
   "source": [
    "### 6.3 Calculate L2-Norms"
   ]
  },
  {
   "cell_type": "code",
   "execution_count": 48,
   "metadata": {},
   "outputs": [],
   "source": [
    "# Loop through and create a list of L2-Norms:\n",
    "\n",
    "player_diff = []\n",
    "\n",
    "for i in range(len(reduced_df)):\n",
    "    \n",
    "    lda1, lda2, lda3 = player_stats[-4], player_stats[-3], player_stats[-2]\n",
    "    ilda1, ilda2, ilda3 = reduced_df['LDA1'][i], reduced_df['LDA2'][i], reduced_df['LDA3'][i]\n",
    "    total_1 = lda1 - ilda1\n",
    "    total_2 = lda2 - ilda2\n",
    "    total_3 = lda3  - ilda3\n",
    "    l2_norm = np.sqrt((total_1 ** 2) + (total_2 ** 2) + (total_3 ** 2))\n",
    "    player_diff += [(i,l2_norm)]\n",
    "\n",
    "# And for just Target Comp:\n",
    "\n",
    "lda1, lda2, lda3 = player_stats[-4], player_stats[-3], player_stats[-2]\n",
    "ilda1, ilda2, ilda3 = comp_stats[-4], comp_stats[-3], comp_stats[-2]\n",
    "total_1 = lda1 - ilda1\n",
    "total_2 = lda2 - ilda2\n",
    "total_3 = lda3 - ilda3\n",
    "l2_norm = np.sqrt((total_1 ** 2) + (total_2 ** 2) + (total_3 ** 2))\n",
    "target_comp = l2_norm"
   ]
  },
  {
   "cell_type": "markdown",
   "metadata": {},
   "source": [
    "### 6.4 Calculate Comps"
   ]
  },
  {
   "cell_type": "code",
   "execution_count": 49,
   "metadata": {},
   "outputs": [],
   "source": [
    "# Initialize:\n",
    "\n",
    "comp_1, it_1, comp_2, it_2, comp_3, it_3 = [x + 3 for x in np.zeros(6)]\n",
    "\n",
    "# 1. Best Comp:\n",
    "\n",
    "for i in range(len(player_diff)):\n",
    "    if (player_diff[i][1] < comp_1) and (player_diff[i][1] > 0):\n",
    "        comp_1 = player_diff[i][1]\n",
    "        it_1 = i\n",
    "\n",
    "# 2. Second Comp:\n",
    "\n",
    "for i in range(len(player_diff)):\n",
    "    if (player_diff[i][1] < comp_2) and (player_diff[i][1] > comp_1):\n",
    "        comp_2 = player_diff[i][1]\n",
    "        it_2 = i\n",
    "\n",
    "# 3. Third Comp:\n",
    "\n",
    "for i in range(len(player_diff)):\n",
    "    if (player_diff[i][1] < comp_3) and (player_diff[i][1] > comp_1) and (player_diff[i][1] > comp_2):\n",
    "        comp_3 = player_diff[i][1]\n",
    "        it_3 = i"
   ]
  },
  {
   "cell_type": "code",
   "execution_count": 50,
   "metadata": {},
   "outputs": [],
   "source": [
    "# Dissimilarity (dissim_factor) calculation to add to final comp_df:\n",
    "\n",
    "dissimilarity = 0\n",
    "\n",
    "for i in range(len(player_diff)):\n",
    "    \n",
    "    dissimilarity += player_diff[i][1]\n",
    "\n",
    "dissimilarity = dissimilarity / len(player_diff)\n",
    "\n",
    "dissim_factor = (dissimilarity - total_mean) / total_std"
   ]
  },
  {
   "cell_type": "markdown",
   "metadata": {},
   "source": [
    "### 7.0 Player Comp Df"
   ]
  },
  {
   "cell_type": "code",
   "execution_count": 51,
   "metadata": {},
   "outputs": [],
   "source": [
    "player_stat_array = np.array(reduced_df.iloc[index,1:]).reshape(1,-1)\n",
    "\n",
    "player_stat_array = np.vstack((player_stat_array, np.array(reduced_df.iloc[it_1, 1:]).reshape(1,-1)))\n",
    "\n",
    "player_stat_array = np.vstack((player_stat_array, np.array(reduced_df.iloc[it_2, 1:]).reshape(1,-1)))\n",
    "\n",
    "player_stat_array = np.vstack((player_stat_array, np.array(reduced_df.iloc[it_3, 1:]).reshape(1,-1)))\n",
    "\n",
    "player_stat_array = np.vstack((player_stat_array, np.array(reduced_df.iloc[comp_index, 1:]).reshape(1,-1)))\n",
    "\n",
    "# player_comp_df['Top Comp'] = reduced_df.iloc[it_1,1:]\n",
    "# player_comp_df['Second-Best Comp'] = reduced_df.iloc[it_2,1:]\n",
    "# player_comp_df['Third-Best Comp'] = reduced_df.iloc[it_3,1:]\n",
    "# player_comp_df['Target Comp'] = reduced_df.iloc[comp_index,1:]"
   ]
  },
  {
   "cell_type": "code",
   "execution_count": 52,
   "metadata": {},
   "outputs": [
    {
     "data": {
      "text/plain": [
       "(5, 29)"
      ]
     },
     "execution_count": 52,
     "metadata": {},
     "output_type": "execute_result"
    }
   ],
   "source": [
    "player_stat_array.shape"
   ]
  },
  {
   "cell_type": "code",
   "execution_count": 53,
   "metadata": {},
   "outputs": [],
   "source": [
    "comp_df = pd.DataFrame(player_stat_array)\n",
    "\n",
    "list_of_columns = list(total_df.columns.drop('Player')) + [f'PCA{i}' for i in range(n_components)] \\\n",
    "+ ['Cluster', 'LDA1', 'LDA2', 'LDA3','Cluster_2']\n",
    "\n",
    "comp_df.columns = list_of_columns\n",
    "\n",
    "comp_df['Player'] = [reduced_df.iloc[index,0], reduced_df.iloc[it_1,0], reduced_df.iloc[it_2,0],\n",
    "                     reduced_df.iloc[it_3,0], reduced_df.iloc[comp_index,0]]"
   ]
  },
  {
   "cell_type": "code",
   "execution_count": 54,
   "metadata": {},
   "outputs": [],
   "source": [
    "player_subject = pd.Series(scaled_vectors[index, :].reshape(-1))\n",
    "\n",
    "comp_a = pd.Series(scaled_vectors[it_1, :])\n",
    "comp_b = pd.Series(scaled_vectors[it_2, :])\n",
    "comp_c = pd.Series(scaled_vectors[it_3, :])\n",
    "comp_target = pd.Series(scaled_vectors[comp_index, :])\n",
    "\n",
    "scaled_array = np.array([player_subject, comp_a, comp_b, comp_c, comp_target])\n",
    "\n",
    "new_columns = ['sPos', 'sAge', 'sTS%', 's3PAr', 'sFTr', 'sORB%', 'sDRB%', 'sAST%', 'sTOV%', \n",
    "               'sUSG%', 'sSTL%', 'sBLK%', 'sDBPM', 'sDRAY']\n",
    "\n",
    "for i, column in enumerate(new_columns):\n",
    "    comp_df[column] = [round(scaled_array[x][i], 2) for x in range(5)]"
   ]
  },
  {
   "cell_type": "code",
   "execution_count": 55,
   "metadata": {},
   "outputs": [],
   "source": [
    "comp_df['Similarity Score'] = [1, round(1 - comp_1/dissimilarity, 3), round(1 - comp_2/dissimilarity, 3), \n",
    "                               round(1 - comp_3/dissimilarity, 3), round(1 - target_comp/dissimilarity, 3)]"
   ]
  },
  {
   "cell_type": "code",
   "execution_count": 56,
   "metadata": {},
   "outputs": [],
   "source": [
    "keep_columns = comp_df.columns\n",
    "\n",
    "keep_columns = ['Player', 'Pos', 'Age', 'sPos', 'sAge', 'sTS%', 's3PAr',\n",
    "       'sFTr', 'sORB%', 'sDRB%', 'sAST%', 'sTOV%', 'sUSG%', 'sSTL%', 'sBLK%', 'sDBPM', 'sDRAY',\n",
    "       'Similarity Score', 'Cluster_2']\n",
    "\n",
    "comp_df = comp_df[keep_columns]\n",
    "\n",
    "comp_df.columns = ['Player', 'Pos', 'Age', 'sPos', 'sAge', 'sTS%', 's3PAr',\n",
    "       'sFTr', 'sORB%', 'sDRB%', 'sAST%', 'sTOV%', 'sUSG%', 'sSTL%', 'sBLK%', 'sDBPM', 'sDRAY',\n",
    "       'Similarity', 'Cluster_2']\n",
    "\n",
    "comp_df['sDRAY'] = comp_df['sDRAY'].apply(lambda x: round(x,2))"
   ]
  },
  {
   "cell_type": "markdown",
   "metadata": {},
   "source": [
    "### 7.1 DataFrame with Comps and Selected Player"
   ]
  },
  {
   "cell_type": "code",
   "execution_count": 57,
   "metadata": {
    "scrolled": false
   },
   "outputs": [
    {
     "data": {
      "text/html": [
       "<div>\n",
       "<style scoped>\n",
       "    .dataframe tbody tr th:only-of-type {\n",
       "        vertical-align: middle;\n",
       "    }\n",
       "\n",
       "    .dataframe tbody tr th {\n",
       "        vertical-align: top;\n",
       "    }\n",
       "\n",
       "    .dataframe thead th {\n",
       "        text-align: right;\n",
       "    }\n",
       "</style>\n",
       "<table border=\"1\" class=\"dataframe\">\n",
       "  <thead>\n",
       "    <tr style=\"text-align: right;\">\n",
       "      <th></th>\n",
       "      <th>Player</th>\n",
       "      <th>Pos</th>\n",
       "      <th>Age</th>\n",
       "      <th>sPos</th>\n",
       "      <th>sAge</th>\n",
       "      <th>sTS%</th>\n",
       "      <th>s3PAr</th>\n",
       "      <th>sFTr</th>\n",
       "      <th>sORB%</th>\n",
       "      <th>sDRB%</th>\n",
       "      <th>sAST%</th>\n",
       "      <th>sTOV%</th>\n",
       "      <th>sUSG%</th>\n",
       "      <th>sSTL%</th>\n",
       "      <th>sBLK%</th>\n",
       "      <th>sDBPM</th>\n",
       "      <th>sDRAY</th>\n",
       "      <th>Similarity</th>\n",
       "      <th>Cluster_2</th>\n",
       "    </tr>\n",
       "  </thead>\n",
       "  <tbody>\n",
       "    <tr>\n",
       "      <th>0</th>\n",
       "      <td>Mario Hezonja</td>\n",
       "      <td>3</td>\n",
       "      <td>22.5</td>\n",
       "      <td>0.11</td>\n",
       "      <td>-0.55</td>\n",
       "      <td>-0.86</td>\n",
       "      <td>-0.86</td>\n",
       "      <td>0.15</td>\n",
       "      <td>-0.40</td>\n",
       "      <td>-0.53</td>\n",
       "      <td>0.33</td>\n",
       "      <td>-0.50</td>\n",
       "      <td>0.25</td>\n",
       "      <td>0.09</td>\n",
       "      <td>1.48</td>\n",
       "      <td>-0.47</td>\n",
       "      <td>0.06</td>\n",
       "      <td>1.000</td>\n",
       "      <td>5</td>\n",
       "    </tr>\n",
       "    <tr>\n",
       "      <th>1</th>\n",
       "      <td>Tyler Johnson</td>\n",
       "      <td>1</td>\n",
       "      <td>25.75</td>\n",
       "      <td>-1.33</td>\n",
       "      <td>-0.87</td>\n",
       "      <td>-0.11</td>\n",
       "      <td>-0.59</td>\n",
       "      <td>0.67</td>\n",
       "      <td>-0.11</td>\n",
       "      <td>-0.54</td>\n",
       "      <td>-0.80</td>\n",
       "      <td>0.02</td>\n",
       "      <td>-0.50</td>\n",
       "      <td>-0.37</td>\n",
       "      <td>0.13</td>\n",
       "      <td>-0.17</td>\n",
       "      <td>0.13</td>\n",
       "      <td>0.881</td>\n",
       "      <td>5</td>\n",
       "    </tr>\n",
       "    <tr>\n",
       "      <th>2</th>\n",
       "      <td>Kent Bazemore</td>\n",
       "      <td>2</td>\n",
       "      <td>28.5</td>\n",
       "      <td>-0.61</td>\n",
       "      <td>0.03</td>\n",
       "      <td>0.53</td>\n",
       "      <td>-0.71</td>\n",
       "      <td>0.36</td>\n",
       "      <td>0.24</td>\n",
       "      <td>-0.71</td>\n",
       "      <td>-0.18</td>\n",
       "      <td>0.17</td>\n",
       "      <td>0.97</td>\n",
       "      <td>0.40</td>\n",
       "      <td>1.95</td>\n",
       "      <td>0.33</td>\n",
       "      <td>0.56</td>\n",
       "      <td>0.818</td>\n",
       "      <td>5</td>\n",
       "    </tr>\n",
       "    <tr>\n",
       "      <th>3</th>\n",
       "      <td>Josh Okogie</td>\n",
       "      <td>2</td>\n",
       "      <td>20</td>\n",
       "      <td>-0.61</td>\n",
       "      <td>0.12</td>\n",
       "      <td>-1.44</td>\n",
       "      <td>-1.58</td>\n",
       "      <td>0.38</td>\n",
       "      <td>0.66</td>\n",
       "      <td>-0.55</td>\n",
       "      <td>-0.71</td>\n",
       "      <td>-0.92</td>\n",
       "      <td>-0.78</td>\n",
       "      <td>-0.90</td>\n",
       "      <td>1.58</td>\n",
       "      <td>-0.08</td>\n",
       "      <td>0.38</td>\n",
       "      <td>0.812</td>\n",
       "      <td>5</td>\n",
       "    </tr>\n",
       "    <tr>\n",
       "      <th>4</th>\n",
       "      <td>Kristaps Porzingis</td>\n",
       "      <td>4</td>\n",
       "      <td>22</td>\n",
       "      <td>0.82</td>\n",
       "      <td>-0.30</td>\n",
       "      <td>-0.98</td>\n",
       "      <td>-0.42</td>\n",
       "      <td>-0.52</td>\n",
       "      <td>0.56</td>\n",
       "      <td>-0.00</td>\n",
       "      <td>0.44</td>\n",
       "      <td>-1.00</td>\n",
       "      <td>-1.23</td>\n",
       "      <td>2.07</td>\n",
       "      <td>-0.85</td>\n",
       "      <td>3.26</td>\n",
       "      <td>-0.07</td>\n",
       "      <td>0.087</td>\n",
       "      <td>3</td>\n",
       "    </tr>\n",
       "  </tbody>\n",
       "</table>\n",
       "</div>"
      ],
      "text/plain": [
       "               Player Pos    Age  sPos  sAge  sTS%  s3PAr  sFTr  sORB%  sDRB%  \\\n",
       "0       Mario Hezonja   3   22.5  0.11 -0.55 -0.86  -0.86  0.15  -0.40  -0.53   \n",
       "1       Tyler Johnson   1  25.75 -1.33 -0.87 -0.11  -0.59  0.67  -0.11  -0.54   \n",
       "2       Kent Bazemore   2   28.5 -0.61  0.03  0.53  -0.71  0.36   0.24  -0.71   \n",
       "3         Josh Okogie   2     20 -0.61  0.12 -1.44  -1.58  0.38   0.66  -0.55   \n",
       "4  Kristaps Porzingis   4     22  0.82 -0.30 -0.98  -0.42 -0.52   0.56  -0.00   \n",
       "\n",
       "   sAST%  sTOV%  sUSG%  sSTL%  sBLK%  sDBPM  sDRAY  Similarity Cluster_2  \n",
       "0   0.33  -0.50   0.25   0.09   1.48  -0.47   0.06       1.000         5  \n",
       "1  -0.80   0.02  -0.50  -0.37   0.13  -0.17   0.13       0.881         5  \n",
       "2  -0.18   0.17   0.97   0.40   1.95   0.33   0.56       0.818         5  \n",
       "3  -0.71  -0.92  -0.78  -0.90   1.58  -0.08   0.38       0.812         5  \n",
       "4   0.44  -1.00  -1.23   2.07  -0.85   3.26  -0.07       0.087         3  "
      ]
     },
     "execution_count": 57,
     "metadata": {},
     "output_type": "execute_result"
    }
   ],
   "source": [
    "comp_df"
   ]
  },
  {
   "cell_type": "code",
   "execution_count": null,
   "metadata": {},
   "outputs": [],
   "source": []
  }
 ],
 "metadata": {
  "kernelspec": {
   "display_name": "Python 3",
   "language": "python",
   "name": "python3"
  },
  "language_info": {
   "codemirror_mode": {
    "name": "ipython",
    "version": 3
   },
   "file_extension": ".py",
   "mimetype": "text/x-python",
   "name": "python",
   "nbconvert_exporter": "python",
   "pygments_lexer": "ipython3",
   "version": "3.7.1"
  }
 },
 "nbformat": 4,
 "nbformat_minor": 2
}
